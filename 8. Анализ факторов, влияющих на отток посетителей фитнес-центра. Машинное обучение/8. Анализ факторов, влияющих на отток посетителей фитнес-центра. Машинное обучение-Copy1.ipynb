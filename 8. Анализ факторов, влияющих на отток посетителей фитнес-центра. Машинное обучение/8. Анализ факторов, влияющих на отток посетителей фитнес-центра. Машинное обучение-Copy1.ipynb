{
 "cells": [
  {
   "cell_type": "markdown",
   "metadata": {},
   "source": [
    "Мы работаем в отделе анализа данных сети фитнесс-центров.\n",
    "Нам поставлена задача по выявлению признаков, способствующих оттоку клиентов, и прогнозированию данного события на будущее. \n",
    "Для этого изучим данные анкет наших посетителей и разработаем рекомендации коллегам по удержанию клиентов."
   ]
  },
  {
   "cell_type": "markdown",
   "metadata": {},
   "source": [
    "Будем следовать следующем плану:\n",
    "- [загрузим данные и изучим датасет](#1)\n",
    "- [проведем исследовательский анализ данных](#2)\n",
    "- [построим модель прогнозирования оттока клиентов](#3)\n",
    "- [разобьем клиентов на кластеры](#4)\n",
    "- [сформулируем выводы и рекомендации для коллег](#5)"
   ]
  },
  {
   "cell_type": "markdown",
   "metadata": {},
   "source": [
    "## Загрузка и импорт данных\n",
    "<a id='1'></a>"
   ]
  },
  {
   "cell_type": "code",
   "execution_count": 1,
   "metadata": {},
   "outputs": [],
   "source": [
    "import pandas as pd\n",
    "import matplotlib.pyplot as plt\n",
    "import seaborn as sns\n",
    "import warnings\n",
    "warnings.filterwarnings('ignore')\n",
    "from sklearn.model_selection import train_test_split\n",
    "from sklearn.preprocessing import StandardScaler\n",
    "from sklearn.linear_model import LogisticRegression, Lasso\n",
    "from sklearn.metrics import accuracy_score, precision_score, recall_score, f1_score, roc_auc_score\n",
    "from sklearn.tree import DecisionTreeClassifier\n",
    "from sklearn.ensemble import RandomForestClassifier\n",
    "from sklearn.cluster import KMeans\n",
    "from scipy.cluster.hierarchy import dendrogram, linkage "
   ]
  },
  {
   "cell_type": "code",
   "execution_count": 3,
   "metadata": {
    "scrolled": true
   },
   "outputs": [
    {
     "data": {
      "text/html": [
       "<div>\n",
       "<style scoped>\n",
       "    .dataframe tbody tr th:only-of-type {\n",
       "        vertical-align: middle;\n",
       "    }\n",
       "\n",
       "    .dataframe tbody tr th {\n",
       "        vertical-align: top;\n",
       "    }\n",
       "\n",
       "    .dataframe thead th {\n",
       "        text-align: right;\n",
       "    }\n",
       "</style>\n",
       "<table border=\"1\" class=\"dataframe\">\n",
       "  <thead>\n",
       "    <tr style=\"text-align: right;\">\n",
       "      <th></th>\n",
       "      <th>gender</th>\n",
       "      <th>Near_Location</th>\n",
       "      <th>Partner</th>\n",
       "      <th>Promo_friends</th>\n",
       "      <th>Phone</th>\n",
       "      <th>Contract_period</th>\n",
       "      <th>Group_visits</th>\n",
       "      <th>Age</th>\n",
       "      <th>Avg_additional_charges_total</th>\n",
       "      <th>Month_to_end_contract</th>\n",
       "      <th>Lifetime</th>\n",
       "      <th>Avg_class_frequency_total</th>\n",
       "      <th>Avg_class_frequency_current_month</th>\n",
       "      <th>Churn</th>\n",
       "    </tr>\n",
       "  </thead>\n",
       "  <tbody>\n",
       "    <tr>\n",
       "      <th>0</th>\n",
       "      <td>1</td>\n",
       "      <td>1</td>\n",
       "      <td>1</td>\n",
       "      <td>1</td>\n",
       "      <td>0</td>\n",
       "      <td>6</td>\n",
       "      <td>1</td>\n",
       "      <td>29</td>\n",
       "      <td>14.227470</td>\n",
       "      <td>5.0</td>\n",
       "      <td>3</td>\n",
       "      <td>0.020398</td>\n",
       "      <td>0.000000</td>\n",
       "      <td>0</td>\n",
       "    </tr>\n",
       "    <tr>\n",
       "      <th>1</th>\n",
       "      <td>0</td>\n",
       "      <td>1</td>\n",
       "      <td>0</td>\n",
       "      <td>0</td>\n",
       "      <td>1</td>\n",
       "      <td>12</td>\n",
       "      <td>1</td>\n",
       "      <td>31</td>\n",
       "      <td>113.202938</td>\n",
       "      <td>12.0</td>\n",
       "      <td>7</td>\n",
       "      <td>1.922936</td>\n",
       "      <td>1.910244</td>\n",
       "      <td>0</td>\n",
       "    </tr>\n",
       "    <tr>\n",
       "      <th>2</th>\n",
       "      <td>0</td>\n",
       "      <td>1</td>\n",
       "      <td>1</td>\n",
       "      <td>0</td>\n",
       "      <td>1</td>\n",
       "      <td>1</td>\n",
       "      <td>0</td>\n",
       "      <td>28</td>\n",
       "      <td>129.448479</td>\n",
       "      <td>1.0</td>\n",
       "      <td>2</td>\n",
       "      <td>1.859098</td>\n",
       "      <td>1.736502</td>\n",
       "      <td>0</td>\n",
       "    </tr>\n",
       "    <tr>\n",
       "      <th>3</th>\n",
       "      <td>0</td>\n",
       "      <td>1</td>\n",
       "      <td>1</td>\n",
       "      <td>1</td>\n",
       "      <td>1</td>\n",
       "      <td>12</td>\n",
       "      <td>1</td>\n",
       "      <td>33</td>\n",
       "      <td>62.669863</td>\n",
       "      <td>12.0</td>\n",
       "      <td>2</td>\n",
       "      <td>3.205633</td>\n",
       "      <td>3.357215</td>\n",
       "      <td>0</td>\n",
       "    </tr>\n",
       "    <tr>\n",
       "      <th>4</th>\n",
       "      <td>1</td>\n",
       "      <td>1</td>\n",
       "      <td>1</td>\n",
       "      <td>1</td>\n",
       "      <td>1</td>\n",
       "      <td>1</td>\n",
       "      <td>0</td>\n",
       "      <td>26</td>\n",
       "      <td>198.362265</td>\n",
       "      <td>1.0</td>\n",
       "      <td>3</td>\n",
       "      <td>1.113884</td>\n",
       "      <td>1.120078</td>\n",
       "      <td>0</td>\n",
       "    </tr>\n",
       "  </tbody>\n",
       "</table>\n",
       "</div>"
      ],
      "text/plain": [
       "   gender  Near_Location  Partner  Promo_friends  Phone  Contract_period  \\\n",
       "0       1              1        1              1      0                6   \n",
       "1       0              1        0              0      1               12   \n",
       "2       0              1        1              0      1                1   \n",
       "3       0              1        1              1      1               12   \n",
       "4       1              1        1              1      1                1   \n",
       "\n",
       "   Group_visits  Age  Avg_additional_charges_total  Month_to_end_contract  \\\n",
       "0             1   29                     14.227470                    5.0   \n",
       "1             1   31                    113.202938                   12.0   \n",
       "2             0   28                    129.448479                    1.0   \n",
       "3             1   33                     62.669863                   12.0   \n",
       "4             0   26                    198.362265                    1.0   \n",
       "\n",
       "   Lifetime  Avg_class_frequency_total  Avg_class_frequency_current_month  \\\n",
       "0         3                   0.020398                           0.000000   \n",
       "1         7                   1.922936                           1.910244   \n",
       "2         2                   1.859098                           1.736502   \n",
       "3         2                   3.205633                           3.357215   \n",
       "4         3                   1.113884                           1.120078   \n",
       "\n",
       "   Churn  \n",
       "0      0  \n",
       "1      0  \n",
       "2      0  \n",
       "3      0  \n",
       "4      0  "
      ]
     },
     "execution_count": 3,
     "metadata": {},
     "output_type": "execute_result"
    }
   ],
   "source": [
    "df = pd.read_csv('C:\\\\Users\\\\Александр\\Datasets/gym_churn.csv')\n",
    "df.head()"
   ]
  },
  {
   "cell_type": "code",
   "execution_count": 4,
   "metadata": {},
   "outputs": [
    {
     "name": "stdout",
     "output_type": "stream",
     "text": [
      "<class 'pandas.core.frame.DataFrame'>\n",
      "RangeIndex: 4000 entries, 0 to 3999\n",
      "Data columns (total 14 columns):\n",
      " #   Column                             Non-Null Count  Dtype  \n",
      "---  ------                             --------------  -----  \n",
      " 0   gender                             4000 non-null   int64  \n",
      " 1   Near_Location                      4000 non-null   int64  \n",
      " 2   Partner                            4000 non-null   int64  \n",
      " 3   Promo_friends                      4000 non-null   int64  \n",
      " 4   Phone                              4000 non-null   int64  \n",
      " 5   Contract_period                    4000 non-null   int64  \n",
      " 6   Group_visits                       4000 non-null   int64  \n",
      " 7   Age                                4000 non-null   int64  \n",
      " 8   Avg_additional_charges_total       4000 non-null   float64\n",
      " 9   Month_to_end_contract              4000 non-null   float64\n",
      " 10  Lifetime                           4000 non-null   int64  \n",
      " 11  Avg_class_frequency_total          4000 non-null   float64\n",
      " 12  Avg_class_frequency_current_month  4000 non-null   float64\n",
      " 13  Churn                              4000 non-null   int64  \n",
      "dtypes: float64(4), int64(10)\n",
      "memory usage: 437.6 KB\n"
     ]
    }
   ],
   "source": [
    "df.info()"
   ]
  },
  {
   "cell_type": "markdown",
   "metadata": {},
   "source": [
    "Библиотеки и данные загружены. Пропусков не наблюдаем; данные готовы к предобработке"
   ]
  },
  {
   "cell_type": "markdown",
   "metadata": {},
   "source": [
    "## Предобработка и исследовательский анализ данных\n",
    "<a id='2'></a>"
   ]
  },
  {
   "cell_type": "markdown",
   "metadata": {},
   "source": [
    "Для удобства приведем названия столбцов к нижнему регистру"
   ]
  },
  {
   "cell_type": "code",
   "execution_count": 5,
   "metadata": {},
   "outputs": [],
   "source": [
    "df.columns = df.columns.str.lower()"
   ]
  },
  {
   "cell_type": "markdown",
   "metadata": {},
   "source": [
    "Изучим данные быстро и оперативно"
   ]
  },
  {
   "cell_type": "code",
   "execution_count": 6,
   "metadata": {
    "scrolled": true
   },
   "outputs": [
    {
     "data": {
      "text/html": [
       "<div>\n",
       "<style scoped>\n",
       "    .dataframe tbody tr th:only-of-type {\n",
       "        vertical-align: middle;\n",
       "    }\n",
       "\n",
       "    .dataframe tbody tr th {\n",
       "        vertical-align: top;\n",
       "    }\n",
       "\n",
       "    .dataframe thead th {\n",
       "        text-align: right;\n",
       "    }\n",
       "</style>\n",
       "<table border=\"1\" class=\"dataframe\">\n",
       "  <thead>\n",
       "    <tr style=\"text-align: right;\">\n",
       "      <th></th>\n",
       "      <th>gender</th>\n",
       "      <th>near_location</th>\n",
       "      <th>partner</th>\n",
       "      <th>promo_friends</th>\n",
       "      <th>phone</th>\n",
       "      <th>contract_period</th>\n",
       "      <th>group_visits</th>\n",
       "      <th>age</th>\n",
       "      <th>avg_additional_charges_total</th>\n",
       "      <th>month_to_end_contract</th>\n",
       "      <th>lifetime</th>\n",
       "      <th>avg_class_frequency_total</th>\n",
       "      <th>avg_class_frequency_current_month</th>\n",
       "      <th>churn</th>\n",
       "    </tr>\n",
       "  </thead>\n",
       "  <tbody>\n",
       "    <tr>\n",
       "      <th>count</th>\n",
       "      <td>4000.000000</td>\n",
       "      <td>4000.000000</td>\n",
       "      <td>4000.000000</td>\n",
       "      <td>4000.000000</td>\n",
       "      <td>4000.000000</td>\n",
       "      <td>4000.000000</td>\n",
       "      <td>4000.000000</td>\n",
       "      <td>4000.000000</td>\n",
       "      <td>4000.000000</td>\n",
       "      <td>4000.000000</td>\n",
       "      <td>4000.000000</td>\n",
       "      <td>4000.000000</td>\n",
       "      <td>4000.000000</td>\n",
       "      <td>4000.000000</td>\n",
       "    </tr>\n",
       "    <tr>\n",
       "      <th>mean</th>\n",
       "      <td>0.510250</td>\n",
       "      <td>0.845250</td>\n",
       "      <td>0.486750</td>\n",
       "      <td>0.308500</td>\n",
       "      <td>0.903500</td>\n",
       "      <td>4.681250</td>\n",
       "      <td>0.412250</td>\n",
       "      <td>29.184250</td>\n",
       "      <td>146.943728</td>\n",
       "      <td>4.322750</td>\n",
       "      <td>3.724750</td>\n",
       "      <td>1.879020</td>\n",
       "      <td>1.767052</td>\n",
       "      <td>0.265250</td>\n",
       "    </tr>\n",
       "    <tr>\n",
       "      <th>std</th>\n",
       "      <td>0.499957</td>\n",
       "      <td>0.361711</td>\n",
       "      <td>0.499887</td>\n",
       "      <td>0.461932</td>\n",
       "      <td>0.295313</td>\n",
       "      <td>4.549706</td>\n",
       "      <td>0.492301</td>\n",
       "      <td>3.258367</td>\n",
       "      <td>96.355602</td>\n",
       "      <td>4.191297</td>\n",
       "      <td>3.749267</td>\n",
       "      <td>0.972245</td>\n",
       "      <td>1.052906</td>\n",
       "      <td>0.441521</td>\n",
       "    </tr>\n",
       "    <tr>\n",
       "      <th>min</th>\n",
       "      <td>0.000000</td>\n",
       "      <td>0.000000</td>\n",
       "      <td>0.000000</td>\n",
       "      <td>0.000000</td>\n",
       "      <td>0.000000</td>\n",
       "      <td>1.000000</td>\n",
       "      <td>0.000000</td>\n",
       "      <td>18.000000</td>\n",
       "      <td>0.148205</td>\n",
       "      <td>1.000000</td>\n",
       "      <td>0.000000</td>\n",
       "      <td>0.000000</td>\n",
       "      <td>0.000000</td>\n",
       "      <td>0.000000</td>\n",
       "    </tr>\n",
       "    <tr>\n",
       "      <th>25%</th>\n",
       "      <td>0.000000</td>\n",
       "      <td>1.000000</td>\n",
       "      <td>0.000000</td>\n",
       "      <td>0.000000</td>\n",
       "      <td>1.000000</td>\n",
       "      <td>1.000000</td>\n",
       "      <td>0.000000</td>\n",
       "      <td>27.000000</td>\n",
       "      <td>68.868830</td>\n",
       "      <td>1.000000</td>\n",
       "      <td>1.000000</td>\n",
       "      <td>1.180875</td>\n",
       "      <td>0.963003</td>\n",
       "      <td>0.000000</td>\n",
       "    </tr>\n",
       "    <tr>\n",
       "      <th>50%</th>\n",
       "      <td>1.000000</td>\n",
       "      <td>1.000000</td>\n",
       "      <td>0.000000</td>\n",
       "      <td>0.000000</td>\n",
       "      <td>1.000000</td>\n",
       "      <td>1.000000</td>\n",
       "      <td>0.000000</td>\n",
       "      <td>29.000000</td>\n",
       "      <td>136.220159</td>\n",
       "      <td>1.000000</td>\n",
       "      <td>3.000000</td>\n",
       "      <td>1.832768</td>\n",
       "      <td>1.719574</td>\n",
       "      <td>0.000000</td>\n",
       "    </tr>\n",
       "    <tr>\n",
       "      <th>75%</th>\n",
       "      <td>1.000000</td>\n",
       "      <td>1.000000</td>\n",
       "      <td>1.000000</td>\n",
       "      <td>1.000000</td>\n",
       "      <td>1.000000</td>\n",
       "      <td>6.000000</td>\n",
       "      <td>1.000000</td>\n",
       "      <td>31.000000</td>\n",
       "      <td>210.949625</td>\n",
       "      <td>6.000000</td>\n",
       "      <td>5.000000</td>\n",
       "      <td>2.536078</td>\n",
       "      <td>2.510336</td>\n",
       "      <td>1.000000</td>\n",
       "    </tr>\n",
       "    <tr>\n",
       "      <th>max</th>\n",
       "      <td>1.000000</td>\n",
       "      <td>1.000000</td>\n",
       "      <td>1.000000</td>\n",
       "      <td>1.000000</td>\n",
       "      <td>1.000000</td>\n",
       "      <td>12.000000</td>\n",
       "      <td>1.000000</td>\n",
       "      <td>41.000000</td>\n",
       "      <td>552.590740</td>\n",
       "      <td>12.000000</td>\n",
       "      <td>31.000000</td>\n",
       "      <td>6.023668</td>\n",
       "      <td>6.146783</td>\n",
       "      <td>1.000000</td>\n",
       "    </tr>\n",
       "  </tbody>\n",
       "</table>\n",
       "</div>"
      ],
      "text/plain": [
       "            gender  near_location      partner  promo_friends        phone  \\\n",
       "count  4000.000000    4000.000000  4000.000000    4000.000000  4000.000000   \n",
       "mean      0.510250       0.845250     0.486750       0.308500     0.903500   \n",
       "std       0.499957       0.361711     0.499887       0.461932     0.295313   \n",
       "min       0.000000       0.000000     0.000000       0.000000     0.000000   \n",
       "25%       0.000000       1.000000     0.000000       0.000000     1.000000   \n",
       "50%       1.000000       1.000000     0.000000       0.000000     1.000000   \n",
       "75%       1.000000       1.000000     1.000000       1.000000     1.000000   \n",
       "max       1.000000       1.000000     1.000000       1.000000     1.000000   \n",
       "\n",
       "       contract_period  group_visits          age  \\\n",
       "count      4000.000000   4000.000000  4000.000000   \n",
       "mean          4.681250      0.412250    29.184250   \n",
       "std           4.549706      0.492301     3.258367   \n",
       "min           1.000000      0.000000    18.000000   \n",
       "25%           1.000000      0.000000    27.000000   \n",
       "50%           1.000000      0.000000    29.000000   \n",
       "75%           6.000000      1.000000    31.000000   \n",
       "max          12.000000      1.000000    41.000000   \n",
       "\n",
       "       avg_additional_charges_total  month_to_end_contract     lifetime  \\\n",
       "count                   4000.000000            4000.000000  4000.000000   \n",
       "mean                     146.943728               4.322750     3.724750   \n",
       "std                       96.355602               4.191297     3.749267   \n",
       "min                        0.148205               1.000000     0.000000   \n",
       "25%                       68.868830               1.000000     1.000000   \n",
       "50%                      136.220159               1.000000     3.000000   \n",
       "75%                      210.949625               6.000000     5.000000   \n",
       "max                      552.590740              12.000000    31.000000   \n",
       "\n",
       "       avg_class_frequency_total  avg_class_frequency_current_month  \\\n",
       "count                4000.000000                        4000.000000   \n",
       "mean                    1.879020                           1.767052   \n",
       "std                     0.972245                           1.052906   \n",
       "min                     0.000000                           0.000000   \n",
       "25%                     1.180875                           0.963003   \n",
       "50%                     1.832768                           1.719574   \n",
       "75%                     2.536078                           2.510336   \n",
       "max                     6.023668                           6.146783   \n",
       "\n",
       "             churn  \n",
       "count  4000.000000  \n",
       "mean      0.265250  \n",
       "std       0.441521  \n",
       "min       0.000000  \n",
       "25%       0.000000  \n",
       "50%       0.000000  \n",
       "75%       1.000000  \n",
       "max       1.000000  "
      ]
     },
     "execution_count": 6,
     "metadata": {},
     "output_type": "execute_result"
    }
   ],
   "source": [
    "df.describe()"
   ]
  },
  {
   "cell_type": "markdown",
   "metadata": {},
   "source": [
    "Из describe видим, что у некоторых признаков есть сильное расхождение между средним и медианой, у других - показатели практически равны. Нужна дополнительная информация. Быть может, имеет смысл посмотреть на разброс средних значений по сгруппированным (churn) данным"
   ]
  },
  {
   "cell_type": "markdown",
   "metadata": {},
   "source": [
    "Хотелось бы обратить внимание на переменные Age и Avg_additional_charges_total. У них очень разные по величине стандартные отклонения. Это говорит о том, что переменные нужно стандартизировать перед обучением."
   ]
  },
  {
   "cell_type": "markdown",
   "metadata": {},
   "source": [
    "Если говорить о среднестатистическом клиенте, то он представляет из себя молодого тридцатилетнего человека (в равной пропорции М-Ж) с абонементом на текущий момент чуть больше 4 месяцев; который живет рядом. Он не обязательно пришел в рамках акции \"приведи друга\", но ходит на групповые занятия. На кросс-услуги тратит денег чуть больше медианного уровня. Стабильно ходит на занятия около 2 раз в неделю"
   ]
  },
  {
   "cell_type": "code",
   "execution_count": 7,
   "metadata": {
    "scrolled": true
   },
   "outputs": [
    {
     "data": {
      "text/html": [
       "<div>\n",
       "<style scoped>\n",
       "    .dataframe tbody tr th:only-of-type {\n",
       "        vertical-align: middle;\n",
       "    }\n",
       "\n",
       "    .dataframe tbody tr th {\n",
       "        vertical-align: top;\n",
       "    }\n",
       "\n",
       "    .dataframe thead th {\n",
       "        text-align: right;\n",
       "    }\n",
       "</style>\n",
       "<table border=\"1\" class=\"dataframe\">\n",
       "  <thead>\n",
       "    <tr style=\"text-align: right;\">\n",
       "      <th></th>\n",
       "      <th>gender</th>\n",
       "      <th>near_location</th>\n",
       "      <th>partner</th>\n",
       "      <th>promo_friends</th>\n",
       "      <th>phone</th>\n",
       "      <th>contract_period</th>\n",
       "      <th>group_visits</th>\n",
       "      <th>age</th>\n",
       "      <th>avg_additional_charges_total</th>\n",
       "      <th>month_to_end_contract</th>\n",
       "      <th>lifetime</th>\n",
       "      <th>avg_class_frequency_total</th>\n",
       "      <th>avg_class_frequency_current_month</th>\n",
       "    </tr>\n",
       "    <tr>\n",
       "      <th>churn</th>\n",
       "      <th></th>\n",
       "      <th></th>\n",
       "      <th></th>\n",
       "      <th></th>\n",
       "      <th></th>\n",
       "      <th></th>\n",
       "      <th></th>\n",
       "      <th></th>\n",
       "      <th></th>\n",
       "      <th></th>\n",
       "      <th></th>\n",
       "      <th></th>\n",
       "      <th></th>\n",
       "    </tr>\n",
       "  </thead>\n",
       "  <tbody>\n",
       "    <tr>\n",
       "      <th>0</th>\n",
       "      <td>0.510037</td>\n",
       "      <td>0.873086</td>\n",
       "      <td>0.534195</td>\n",
       "      <td>0.353522</td>\n",
       "      <td>0.903709</td>\n",
       "      <td>5.747193</td>\n",
       "      <td>0.464103</td>\n",
       "      <td>29.976523</td>\n",
       "      <td>158.445715</td>\n",
       "      <td>5.283089</td>\n",
       "      <td>4.711807</td>\n",
       "      <td>2.024876</td>\n",
       "      <td>2.027882</td>\n",
       "    </tr>\n",
       "    <tr>\n",
       "      <th>1</th>\n",
       "      <td>0.510839</td>\n",
       "      <td>0.768143</td>\n",
       "      <td>0.355325</td>\n",
       "      <td>0.183789</td>\n",
       "      <td>0.902922</td>\n",
       "      <td>1.728558</td>\n",
       "      <td>0.268615</td>\n",
       "      <td>26.989632</td>\n",
       "      <td>115.082899</td>\n",
       "      <td>1.662582</td>\n",
       "      <td>0.990575</td>\n",
       "      <td>1.474995</td>\n",
       "      <td>1.044546</td>\n",
       "    </tr>\n",
       "  </tbody>\n",
       "</table>\n",
       "</div>"
      ],
      "text/plain": [
       "         gender  near_location   partner  promo_friends     phone  \\\n",
       "churn                                                               \n",
       "0      0.510037       0.873086  0.534195       0.353522  0.903709   \n",
       "1      0.510839       0.768143  0.355325       0.183789  0.902922   \n",
       "\n",
       "       contract_period  group_visits        age  avg_additional_charges_total  \\\n",
       "churn                                                                           \n",
       "0             5.747193      0.464103  29.976523                    158.445715   \n",
       "1             1.728558      0.268615  26.989632                    115.082899   \n",
       "\n",
       "       month_to_end_contract  lifetime  avg_class_frequency_total  \\\n",
       "churn                                                               \n",
       "0                   5.283089  4.711807                   2.024876   \n",
       "1                   1.662582  0.990575                   1.474995   \n",
       "\n",
       "       avg_class_frequency_current_month  \n",
       "churn                                     \n",
       "0                               2.027882  \n",
       "1                               1.044546  "
      ]
     },
     "execution_count": 7,
     "metadata": {},
     "output_type": "execute_result"
    }
   ],
   "source": [
    "df.groupby('churn').mean()"
   ]
  },
  {
   "cell_type": "markdown",
   "metadata": {},
   "source": [
    "Тут наблюдаем аналогичную картину: по некоторым столбцам средние значения практически равны (gender, phone), а по некоторым видна ощутимая разница (contract_period, avg_additional_charges_total, lifetime, avg_class_frequency_current_month, avg_class_frequency_total). Возможно, псоледние как раз и оказывают существенное влияние на то, останется ли клиент с нами или уйдет"
   ]
  },
  {
   "cell_type": "code",
   "execution_count": 8,
   "metadata": {
    "scrolled": false
   },
   "outputs": [
    {
     "data": {
      "image/png": "[encoded data removed]",
      "text/plain": [
       "<Figure size 1440x1080 with 14 Axes>"
      ]
     },
     "metadata": {
      "needs_background": "light"
     },
     "output_type": "display_data"
    }
   ],
   "source": [
    "plt.subplots(figsize= (20,15))\n",
    "num_cols = 5\n",
    "num_rows = len(df.columns.values)//num_cols + 1\n",
    "for i, col in enumerate (df.columns.values):\n",
    "    sns.distplot(df.query('churn == 1')[col], label = 'Churn', ax = plt.subplot(num_rows, num_cols, i + 1))\n",
    "    sns.distplot(df.query('churn == 0')[col], label = 'Stay')\n",
    "    #plt.title(col)\n",
    "    plt.legend()"
   ]
  },
  {
   "cell_type": "markdown",
   "metadata": {},
   "source": [
    "И графиков можем сделать вывод, что ушедшим клиентам присущи следющие признаки:\n",
    "- они скорее не являются сотрудником компании-партнёра нашего центра\n",
    "- приобретают короткий абонемент\n",
    "- вдвое реже ходят на групповые занятия\n",
    "- в среднем на три года младше тех, кто остался (30 лет против 27)\n",
    "- меньше пользуются допуслугами центра"
   ]
  },
  {
   "cell_type": "code",
   "execution_count": 9,
   "metadata": {
    "scrolled": false
   },
   "outputs": [
    {
     "data": {
      "image/png": "[encoded data removed]",
      "text/plain": [
       "<Figure size 1440x720 with 2 Axes>"
      ]
     },
     "metadata": {
      "needs_background": "light"
     },
     "output_type": "display_data"
    }
   ],
   "source": [
    "plt.figure(figsize=(20, 10))\n",
    "plt.title('Корреляция признаков основного фрейма')\n",
    "sns.heatmap(df.corr(), annot=True, fmt='.2f', linewidths=1, linecolor='gray')\n",
    "plt.show()"
   ]
  },
  {
   "cell_type": "markdown",
   "metadata": {},
   "source": [
    "Из тепловой карты нельзя сделать однозначный вывод о том, что некоторые факторы СИЛЬНЕЙШИМ образом влияют на решение клиента уйти. Но те не менее, указанные выше показатели (contract_period, lifetime, avg_class_frequency_current_month) больше, чем другие, коррелируют с показателем оттока в обратную сторону. "
   ]
  },
  {
   "cell_type": "markdown",
   "metadata": {},
   "source": [
    "## Модель прогнозирования оттока клиентов\n",
    "<a id='3'></a>"
   ]
  },
  {
   "cell_type": "markdown",
   "metadata": {},
   "source": [
    "У нас есть все данные для того, чтобы спрогнозировать отток клиентов. Приступим"
   ]
  },
  {
   "cell_type": "code",
   "execution_count": 10,
   "metadata": {},
   "outputs": [],
   "source": [
    "# разобьем датасет на признаки и переменную\n",
    "X = df.drop('churn', axis = 1)\n",
    "y = df['churn']"
   ]
  },
  {
   "cell_type": "markdown",
   "metadata": {},
   "source": [
    "Также перед обучением модели нам стоит удалить по одному признаку из пары мультиколлинеарных (их мы можем видеть на тепловой карте выше). Избавимся от month_to_end_contract, avg_class_frequency_current_month"
   ]
  },
  {
   "cell_type": "code",
   "execution_count": 11,
   "metadata": {},
   "outputs": [],
   "source": [
    "df.drop(['month_to_end_contract', 'avg_class_frequency_current_month'], axis = 1, inplace = True)"
   ]
  },
  {
   "cell_type": "code",
   "execution_count": 12,
   "metadata": {},
   "outputs": [],
   "source": [
    "# разобьем датасет на обучающую и валидационную выборку\n",
    "X_train, X_test, y_train, y_test = train_test_split(X, y, test_size=0.2, random_state=0, stratify=y)"
   ]
  },
  {
   "cell_type": "code",
   "execution_count": 13,
   "metadata": {},
   "outputs": [],
   "source": [
    "scaler = StandardScaler()\n",
    "# обучим scaler на обучающей выборке\n",
    "scaler.fit(X_train)\n",
    "# стандартизируем обе выборки \n",
    "X_train_st = scaler.transform(X_train)  \n",
    "X_test_st = scaler.transform(X_test)"
   ]
  },
  {
   "cell_type": "code",
   "execution_count": 14,
   "metadata": {},
   "outputs": [],
   "source": [
    "# зададим алгоритм для новой модели на основе алгоритма линейной регрессии\n",
    "lr_model = LogisticRegression(solver='liblinear', random_state=0) "
   ]
  },
  {
   "cell_type": "code",
   "execution_count": 15,
   "metadata": {},
   "outputs": [
    {
     "data": {
      "text/plain": [
       "LogisticRegression(random_state=0, solver='liblinear')"
      ]
     },
     "execution_count": 15,
     "metadata": {},
     "output_type": "execute_result"
    }
   ],
   "source": [
    "# обучим меодель\n",
    "lr_model.fit(X_train_st, y_train)"
   ]
  },
  {
   "cell_type": "code",
   "execution_count": 16,
   "metadata": {},
   "outputs": [],
   "source": [
    "# рассчитаем прогноз класса и вероятность принадлежности к первому или второму классу\n",
    "lr_predictions = lr_model.predict(X_test_st)\n",
    "lr_probabilities = lr_model.predict_proba(X_test_st)[:, 1]"
   ]
  },
  {
   "cell_type": "markdown",
   "metadata": {},
   "source": [
    "Напишем функцию, которая будет выводить интересующий нас метрики по нужным моделям"
   ]
  },
  {
   "cell_type": "code",
   "execution_count": 17,
   "metadata": {},
   "outputs": [],
   "source": [
    "def print_all_metrics(y_true, y_pred, y_proba, title='Метрики классификации'):\n",
    "    print(title)\n",
    "    print('\\tAccuracy: {:.2f}'.format(accuracy_score(y_true, y_pred)))\n",
    "    print('\\tPrecision: {:.2f}'.format(precision_score(y_true, y_pred)))\n",
    "    print('\\tRecall: {:.2f}'.format(recall_score(y_true, y_pred)))\n",
    "    print('\\tF1: {:.2f}'.format(f1_score(y_true, y_pred)))\n",
    "    print('\\tROC_AUC: {:.2f}'.format(roc_auc_score(y_true, y_proba)))"
   ]
  },
  {
   "cell_type": "code",
   "execution_count": 18,
   "metadata": {},
   "outputs": [
    {
     "name": "stdout",
     "output_type": "stream",
     "text": [
      "Метрики для модели логистической регрессии:\n",
      "\tAccuracy: 0.94\n",
      "\tPrecision: 0.90\n",
      "\tRecall: 0.85\n",
      "\tF1: 0.87\n",
      "\tROC_AUC: 0.98\n"
     ]
    }
   ],
   "source": [
    "print_all_metrics(y_test, lr_predictions, lr_probabilities, title='Метрики для модели логистической регрессии:')\n"
   ]
  },
  {
   "cell_type": "code",
   "execution_count": 19,
   "metadata": {},
   "outputs": [],
   "source": [
    "# зададим алгоритм для новой модели на основе алгоритма случайного леса\n",
    "rf_model = RandomForestClassifier(n_estimators = 100, random_state = 0)\n",
    "rf_model.fit(X_train_st, y_train)\n",
    "rf_predictions = rf_model.predict(X_test_st)\n",
    "rf_probabilities = rf_model.predict_proba(X_test_st)[:,1]"
   ]
  },
  {
   "cell_type": "code",
   "execution_count": 20,
   "metadata": {
    "scrolled": true
   },
   "outputs": [
    {
     "name": "stdout",
     "output_type": "stream",
     "text": [
      "Метрики для модели случайного леса:\n",
      "\tAccuracy: 0.92\n",
      "\tPrecision: 0.88\n",
      "\tRecall: 0.83\n",
      "\tF1: 0.85\n",
      "\tROC_AUC: 0.97\n"
     ]
    }
   ],
   "source": [
    "print_all_metrics(y_test, rf_predictions, rf_probabilities, title = 'Метрики для модели случайного леса:')"
   ]
  },
  {
   "cell_type": "markdown",
   "metadata": {},
   "source": [
    "Как видно из метрик, алгоритм логистической регрессии показывает чуть лучшие результаты: доля правильных ответов и кривая ошибок равны. Но точность, полнота и F1 у регресии чуть лучше."
   ]
  },
  {
   "cell_type": "markdown",
   "metadata": {},
   "source": [
    "## Кластеризация\n",
    "<a id='4'></a>"
   ]
  },
  {
   "cell_type": "code",
   "execution_count": 21,
   "metadata": {},
   "outputs": [],
   "source": [
    "#  стандартизируем данные\n",
    "sc = StandardScaler()\n",
    "# обучаем нормализатор и преобразуем набор данных \n",
    "X_sc = sc.fit_transform(df.drop(columns = ['churn'])) \n",
    "linked = linkage(X_sc, method = 'ward') "
   ]
  },
  {
   "cell_type": "code",
   "execution_count": 22,
   "metadata": {},
   "outputs": [
    {
     "data": {
      "image/png": "[encoded data removed]",
      "text/plain": [
       "<Figure size 1728x864 with 1 Axes>"
      ]
     },
     "metadata": {
      "needs_background": "light"
     },
     "output_type": "display_data"
    }
   ],
   "source": [
    "plt.figure(figsize=(24, 12))  \n",
    "dendrogram(linked, orientation='top')\n",
    "plt.show() "
   ]
  },
  {
   "cell_type": "markdown",
   "metadata": {},
   "source": [
    "Как видим, дендрограмма рисует нам 4 класса, на которые можно сгруппировать наших клиентов. Но по ощущениям, крайний кластер получаетяс очень большим. Поэтому можем его дополнительно разбить минимум на 2"
   ]
  },
  {
   "cell_type": "code",
   "execution_count": 23,
   "metadata": {},
   "outputs": [],
   "source": [
    "km = KMeans(n_clusters = 5, random_state = 0)\n",
    "labels = km.fit_predict(X_sc)\n",
    "df['cluster_km'] = labels\n"
   ]
  },
  {
   "cell_type": "markdown",
   "metadata": {},
   "source": [
    "Глянем, в каких кластерах показателях оттока максимален и минимален"
   ]
  },
  {
   "cell_type": "code",
   "execution_count": 24,
   "metadata": {},
   "outputs": [
    {
     "data": {
      "image/png": "[encoded data removed]",
      "text/plain": [
       "<Figure size 432x288 with 1 Axes>"
      ]
     },
     "metadata": {
      "needs_background": "light"
     },
     "output_type": "display_data"
    }
   ],
   "source": [
    "sns.barplot(data=df.groupby('cluster_km').mean().reset_index(), x='cluster_km', y='churn')\n",
    "plt.show()"
   ]
  },
  {
   "cell_type": "markdown",
   "metadata": {},
   "source": [
    "Первый кластер показывает минимальные показатели отттока: что же такого хорошего в нем + что общего плохого в 0 и 2? Посмотрим на распределения признаков и средние значения признаков в кластерах"
   ]
  },
  {
   "cell_type": "code",
   "execution_count": 25,
   "metadata": {},
   "outputs": [],
   "source": [
    "# определим категориальные столбцы\n",
    "df_cat = df[['gender', 'near_location', 'partner', 'promo_friends', 'phone', 'contract_period', 'group_visits', 'churn']]"
   ]
  },
  {
   "cell_type": "code",
   "execution_count": 26,
   "metadata": {},
   "outputs": [],
   "source": [
    "# определим непрерывные столбцы\n",
    "df_cont = df[['age', 'avg_additional_charges_total', 'lifetime', 'avg_class_frequency_total', 'cluster_km']]"
   ]
  },
  {
   "cell_type": "code",
   "execution_count": 27,
   "metadata": {
    "scrolled": false
   },
   "outputs": [
    {
     "data": {
      "image/png": "[encoded data removed]",
      "text/plain": [
       "<Figure size 432x288 with 1 Axes>"
      ]
     },
     "metadata": {
      "needs_background": "light"
     },
     "output_type": "display_data"
    },
    {
     "data": {
      "image/png": "[encoded data removed]",
      "text/plain": [
       "<Figure size 432x288 with 1 Axes>"
      ]
     },
     "metadata": {
      "needs_background": "light"
     },
     "output_type": "display_data"
    },
    {
     "data": {
      "image/png": "[encoded data removed]",
      "text/plain": [
       "<Figure size 432x288 with 1 Axes>"
      ]
     },
     "metadata": {
      "needs_background": "light"
     },
     "output_type": "display_data"
    },
    {
     "data": {
      "image/png": "[encoded data removed]",
      "text/plain": [
       "<Figure size 432x288 with 1 Axes>"
      ]
     },
     "metadata": {
      "needs_background": "light"
     },
     "output_type": "display_data"
    },
    {
     "data": {
      "image/png": "[encoded data removed]",
      "text/plain": [
       "<Figure size 432x288 with 1 Axes>"
      ]
     },
     "metadata": {
      "needs_background": "light"
     },
     "output_type": "display_data"
    },
    {
     "data": {
      "image/png": "[encoded data removed]",
      "text/plain": [
       "<Figure size 432x288 with 1 Axes>"
      ]
     },
     "metadata": {
      "needs_background": "light"
     },
     "output_type": "display_data"
    },
    {
     "data": {
      "image/png": "[encoded data removed]",
      "text/plain": [
       "<Figure size 432x288 with 1 Axes>"
      ]
     },
     "metadata": {
      "needs_background": "light"
     },
     "output_type": "display_data"
    },
    {
     "data": {
      "image/png": "[encoded data removed]",
      "text/plain": [
       "<Figure size 432x288 with 1 Axes>"
      ]
     },
     "metadata": {
      "needs_background": "light"
     },
     "output_type": "display_data"
    }
   ],
   "source": [
    "plt.subplots(figsize= (6,4))\n",
    "for col in df_cat.columns:\n",
    "    sns.countplot(data=df, x=col, hue='cluster_km')\n",
    "    plt.show()"
   ]
  },
  {
   "cell_type": "code",
   "execution_count": 28,
   "metadata": {
    "scrolled": false
   },
   "outputs": [
    {
     "data": {
      "image/png": "[encoded data removed]",
      "text/plain": [
       "<Figure size 432x288 with 1 Axes>"
      ]
     },
     "metadata": {
      "needs_background": "light"
     },
     "output_type": "display_data"
    },
    {
     "data": {
      "image/png": "[encoded data removed]",
      "text/plain": [
       "<Figure size 432x288 with 1 Axes>"
      ]
     },
     "metadata": {
      "needs_background": "light"
     },
     "output_type": "display_data"
    },
    {
     "data": {
      "image/png": "[encoded data removed]",
      "text/plain": [
       "<Figure size 432x288 with 1 Axes>"
      ]
     },
     "metadata": {
      "needs_background": "light"
     },
     "output_type": "display_data"
    },
    {
     "data": {
      "image/png": "[encoded data removed]",
      "text/plain": [
       "<Figure size 432x288 with 1 Axes>"
      ]
     },
     "metadata": {
      "needs_background": "light"
     },
     "output_type": "display_data"
    },
    {
     "data": {
      "image/png": "[encoded data removed]",
      "text/plain": [
       "<Figure size 432x288 with 1 Axes>"
      ]
     },
     "metadata": {
      "needs_background": "light"
     },
     "output_type": "display_data"
    }
   ],
   "source": [
    "plt.subplots(figsize= (6,4))\n",
    "for col in df_cont.columns:\n",
    "    sns.boxplot(data=df_cont, x='cluster_km', y=col)\n",
    "    plt.show()"
   ]
  },
  {
   "cell_type": "code",
   "execution_count": 29,
   "metadata": {
    "scrolled": false
   },
   "outputs": [
    {
     "data": {
      "text/html": [
       "<div>\n",
       "<style scoped>\n",
       "    .dataframe tbody tr th:only-of-type {\n",
       "        vertical-align: middle;\n",
       "    }\n",
       "\n",
       "    .dataframe tbody tr th {\n",
       "        vertical-align: top;\n",
       "    }\n",
       "\n",
       "    .dataframe thead th {\n",
       "        text-align: right;\n",
       "    }\n",
       "</style>\n",
       "<table border=\"1\" class=\"dataframe\">\n",
       "  <thead>\n",
       "    <tr style=\"text-align: right;\">\n",
       "      <th></th>\n",
       "      <th>cluster_km</th>\n",
       "      <th>gender</th>\n",
       "      <th>near_location</th>\n",
       "      <th>partner</th>\n",
       "      <th>promo_friends</th>\n",
       "      <th>phone</th>\n",
       "      <th>contract_period</th>\n",
       "      <th>group_visits</th>\n",
       "      <th>age</th>\n",
       "      <th>avg_additional_charges_total</th>\n",
       "      <th>lifetime</th>\n",
       "      <th>avg_class_frequency_total</th>\n",
       "      <th>churn</th>\n",
       "    </tr>\n",
       "  </thead>\n",
       "  <tbody>\n",
       "    <tr>\n",
       "      <th>0</th>\n",
       "      <td>0</td>\n",
       "      <td>0.499109</td>\n",
       "      <td>0.000000</td>\n",
       "      <td>0.488414</td>\n",
       "      <td>0.076649</td>\n",
       "      <td>1.0</td>\n",
       "      <td>3.032086</td>\n",
       "      <td>0.235294</td>\n",
       "      <td>28.721925</td>\n",
       "      <td>137.540009</td>\n",
       "      <td>3.060606</td>\n",
       "      <td>1.770413</td>\n",
       "      <td>0.399287</td>\n",
       "    </tr>\n",
       "    <tr>\n",
       "      <th>1</th>\n",
       "      <td>1</td>\n",
       "      <td>0.488571</td>\n",
       "      <td>0.995238</td>\n",
       "      <td>0.955238</td>\n",
       "      <td>0.892381</td>\n",
       "      <td>1.0</td>\n",
       "      <td>7.660952</td>\n",
       "      <td>0.458095</td>\n",
       "      <td>29.543810</td>\n",
       "      <td>155.861428</td>\n",
       "      <td>4.380952</td>\n",
       "      <td>1.978963</td>\n",
       "      <td>0.120952</td>\n",
       "    </tr>\n",
       "    <tr>\n",
       "      <th>2</th>\n",
       "      <td>2</td>\n",
       "      <td>0.505300</td>\n",
       "      <td>1.000000</td>\n",
       "      <td>0.238516</td>\n",
       "      <td>0.059187</td>\n",
       "      <td>1.0</td>\n",
       "      <td>2.819788</td>\n",
       "      <td>0.000000</td>\n",
       "      <td>28.770318</td>\n",
       "      <td>143.383993</td>\n",
       "      <td>3.343640</td>\n",
       "      <td>1.800647</td>\n",
       "      <td>0.381625</td>\n",
       "    </tr>\n",
       "    <tr>\n",
       "      <th>3</th>\n",
       "      <td>3</td>\n",
       "      <td>0.544202</td>\n",
       "      <td>1.000000</td>\n",
       "      <td>0.250287</td>\n",
       "      <td>0.079219</td>\n",
       "      <td>1.0</td>\n",
       "      <td>4.528129</td>\n",
       "      <td>1.000000</td>\n",
       "      <td>29.536165</td>\n",
       "      <td>148.088897</td>\n",
       "      <td>3.761194</td>\n",
       "      <td>1.941342</td>\n",
       "      <td>0.200918</td>\n",
       "    </tr>\n",
       "    <tr>\n",
       "      <th>4</th>\n",
       "      <td>4</td>\n",
       "      <td>0.523316</td>\n",
       "      <td>0.862694</td>\n",
       "      <td>0.471503</td>\n",
       "      <td>0.305699</td>\n",
       "      <td>0.0</td>\n",
       "      <td>4.777202</td>\n",
       "      <td>0.427461</td>\n",
       "      <td>29.297927</td>\n",
       "      <td>144.208179</td>\n",
       "      <td>3.940415</td>\n",
       "      <td>1.854211</td>\n",
       "      <td>0.266839</td>\n",
       "    </tr>\n",
       "  </tbody>\n",
       "</table>\n",
       "</div>"
      ],
      "text/plain": [
       "   cluster_km    gender  near_location   partner  promo_friends  phone  \\\n",
       "0           0  0.499109       0.000000  0.488414       0.076649    1.0   \n",
       "1           1  0.488571       0.995238  0.955238       0.892381    1.0   \n",
       "2           2  0.505300       1.000000  0.238516       0.059187    1.0   \n",
       "3           3  0.544202       1.000000  0.250287       0.079219    1.0   \n",
       "4           4  0.523316       0.862694  0.471503       0.305699    0.0   \n",
       "\n",
       "   contract_period  group_visits        age  avg_additional_charges_total  \\\n",
       "0         3.032086      0.235294  28.721925                    137.540009   \n",
       "1         7.660952      0.458095  29.543810                    155.861428   \n",
       "2         2.819788      0.000000  28.770318                    143.383993   \n",
       "3         4.528129      1.000000  29.536165                    148.088897   \n",
       "4         4.777202      0.427461  29.297927                    144.208179   \n",
       "\n",
       "   lifetime  avg_class_frequency_total     churn  \n",
       "0  3.060606                   1.770413  0.399287  \n",
       "1  4.380952                   1.978963  0.120952  \n",
       "2  3.343640                   1.800647  0.381625  \n",
       "3  3.761194                   1.941342  0.200918  \n",
       "4  3.940415                   1.854211  0.266839  "
      ]
     },
     "execution_count": 29,
     "metadata": {},
     "output_type": "execute_result"
    }
   ],
   "source": [
    "df.groupby('cluster_km').mean().reset_index()"
   ]
  },
  {
   "cell_type": "markdown",
   "metadata": {},
   "source": [
    "Из таблицы и графиков делаем следующие выводы об обратном влиянии (выше признак - отток стремится к 0) на показатель оттока таких признаков, как:\n",
    "- факт первоначальной записи в рамках акции «приведи друга» (promo_friends)\n",
    "- клиент является сотрудником компании-партнёра клуба\n",
    "- длительность абонемента (contract_period) и, соответственно, срок его окончания (month_to_end_contract) и lifetime\n",
    "- факт посещения групповых занятий (group_visits)\n",
    "- суммарная выручка от других услуг фитнес-центра (avg_additional_charges_total)\n",
    "- средняя частота посещений в неделю (avg_class_frequency_total)"
   ]
  },
  {
   "cell_type": "markdown",
   "metadata": {},
   "source": [
    "## Выводы и рекомендации\n",
    "<a id='5'></a>"
   ]
  },
  {
   "cell_type": "markdown",
   "metadata": {},
   "source": [
    "Исходя из проанализированных данных, можем предложить коллегам следующие активности:\n",
    "- активнее использовать акцию \"приведи друга\" (с начислением бонусов за пришедшего друга)\n",
    "- усиленно продвигать групповые занятия (обозначая выгоды, которые получит клиент)\n",
    "- подробно выяснять привычки своих посетителей, чтобы с максимальной вероятностью им допродавать другие услуги (добавление в анкету нужных пунктов: их мы проанализируем и поймем, почему одни клиенты чаще пользуются кросс-услугами, и сможем им допродавать)\n",
    "- активнее вести переговоры с компаниями из смежных сфер, чтобы привлекать в качестве клиентов их сотрудников: как показывает анализ, именно среди них доля оттока меньше всего "
   ]
  }
 ],
 "metadata": {
  "ExecuteTimeLog": [
   {
    "duration": 745,
    "start_time": "2021-06-14T19:35:28.615Z"
   },
   {
    "duration": 51,
    "start_time": "2021-06-14T19:35:59.819Z"
   },
   {
    "duration": 11,
    "start_time": "2021-06-14T19:36:19.719Z"
   },
   {
    "duration": 6,
    "start_time": "2021-06-14T19:37:03.830Z"
   },
   {
    "duration": 9,
    "start_time": "2021-06-14T19:37:07.416Z"
   },
   {
    "duration": 7,
    "start_time": "2021-06-14T19:37:57.486Z"
   },
   {
    "duration": 9,
    "start_time": "2021-06-14T19:37:59.797Z"
   },
   {
    "duration": 4,
    "start_time": "2021-06-14T19:38:05.146Z"
   },
   {
    "duration": 39,
    "start_time": "2021-06-14T19:38:05.156Z"
   },
   {
    "duration": 6,
    "start_time": "2021-06-14T19:38:05.197Z"
   },
   {
    "duration": 17,
    "start_time": "2021-06-14T19:38:05.206Z"
   },
   {
    "duration": 589,
    "start_time": "2021-06-14T19:38:17.604Z"
   },
   {
    "duration": 4,
    "start_time": "2021-06-14T19:38:33.929Z"
   },
   {
    "duration": 10,
    "start_time": "2021-06-14T19:38:36.046Z"
   },
   {
    "duration": 43,
    "start_time": "2021-06-14T19:39:22.470Z"
   },
   {
    "duration": 71,
    "start_time": "2021-06-14T19:45:05.657Z"
   },
   {
    "duration": 261,
    "start_time": "2021-06-14T19:48:23.954Z"
   },
   {
    "duration": 134,
    "start_time": "2021-06-14T19:48:41.455Z"
   },
   {
    "duration": 6,
    "start_time": "2021-06-14T20:24:54.477Z"
   },
   {
    "duration": 6,
    "start_time": "2021-06-14T20:25:05.716Z"
   },
   {
    "duration": 6,
    "start_time": "2021-06-14T20:25:14.536Z"
   },
   {
    "duration": 4,
    "start_time": "2021-06-14T20:25:32.386Z"
   },
   {
    "duration": 42,
    "start_time": "2021-06-14T20:25:32.393Z"
   },
   {
    "duration": 3,
    "start_time": "2021-06-14T20:25:32.439Z"
   },
   {
    "duration": 80,
    "start_time": "2021-06-14T20:25:32.445Z"
   },
   {
    "duration": 258,
    "start_time": "2021-06-14T20:25:32.528Z"
   },
   {
    "duration": 6,
    "start_time": "2021-06-14T20:25:41.127Z"
   },
   {
    "duration": 783,
    "start_time": "2021-06-15T17:03:35.426Z"
   },
   {
    "duration": 77,
    "start_time": "2021-06-15T17:03:36.216Z"
   },
   {
    "duration": 5,
    "start_time": "2021-06-15T17:03:36.296Z"
   },
   {
    "duration": 120,
    "start_time": "2021-06-15T17:03:36.304Z"
   },
   {
    "duration": 3,
    "start_time": "2021-06-15T17:06:17.426Z"
   },
   {
    "duration": 898,
    "start_time": "2021-06-15T17:06:23.282Z"
   },
   {
    "duration": 53,
    "start_time": "2021-06-15T17:06:24.182Z"
   },
   {
    "duration": 5,
    "start_time": "2021-06-15T17:06:24.238Z"
   },
   {
    "duration": 85,
    "start_time": "2021-06-15T17:06:24.245Z"
   },
   {
    "duration": 51,
    "start_time": "2021-06-15T17:08:16.604Z"
   },
   {
    "duration": 644,
    "start_time": "2021-06-15T17:32:22.837Z"
   },
   {
    "duration": 4,
    "start_time": "2021-06-15T17:32:38.779Z"
   },
   {
    "duration": 42,
    "start_time": "2021-06-15T17:32:38.786Z"
   },
   {
    "duration": 4,
    "start_time": "2021-06-15T17:32:38.831Z"
   },
   {
    "duration": 77,
    "start_time": "2021-06-15T17:32:38.838Z"
   },
   {
    "duration": 9,
    "start_time": "2021-06-15T17:32:38.918Z"
   },
   {
    "duration": 132,
    "start_time": "2021-06-15T17:32:58.404Z"
   },
   {
    "duration": 33,
    "start_time": "2021-06-15T17:33:55.245Z"
   },
   {
    "duration": 20,
    "start_time": "2021-06-15T17:34:05.122Z"
   },
   {
    "duration": 71,
    "start_time": "2021-06-15T17:34:13.507Z"
   },
   {
    "duration": 70,
    "start_time": "2021-06-15T17:34:22.784Z"
   },
   {
    "duration": 54,
    "start_time": "2021-06-15T17:35:08.083Z"
   },
   {
    "duration": 60,
    "start_time": "2021-06-15T17:35:17.308Z"
   },
   {
    "duration": 75,
    "start_time": "2021-06-15T17:35:26.352Z"
   },
   {
    "duration": 102,
    "start_time": "2021-06-15T17:35:53.627Z"
   },
   {
    "duration": 118,
    "start_time": "2021-06-15T17:36:31.492Z"
   },
   {
    "duration": 39,
    "start_time": "2021-06-15T17:36:31.613Z"
   },
   {
    "duration": 3,
    "start_time": "2021-06-15T17:36:31.656Z"
   },
   {
    "duration": 81,
    "start_time": "2021-06-15T17:36:31.662Z"
   },
   {
    "duration": 79,
    "start_time": "2021-06-15T17:36:31.746Z"
   },
   {
    "duration": 94,
    "start_time": "2021-06-15T17:36:31.828Z"
   },
   {
    "duration": 767,
    "start_time": "2021-06-15T17:36:45.981Z"
   },
   {
    "duration": 50,
    "start_time": "2021-06-15T17:36:46.754Z"
   },
   {
    "duration": 4,
    "start_time": "2021-06-15T17:36:46.809Z"
   },
   {
    "duration": 123,
    "start_time": "2021-06-15T17:36:46.817Z"
   },
   {
    "duration": 120,
    "start_time": "2021-06-15T17:36:46.943Z"
   },
   {
    "duration": 120,
    "start_time": "2021-06-15T17:36:47.066Z"
   },
   {
    "duration": 76,
    "start_time": "2021-06-15T17:41:11.168Z"
   },
   {
    "duration": 73,
    "start_time": "2021-06-15T17:41:12.281Z"
   },
   {
    "duration": 72,
    "start_time": "2021-06-15T17:44:36.688Z"
   },
   {
    "duration": 12,
    "start_time": "2021-06-15T17:46:34.766Z"
   },
   {
    "duration": 119,
    "start_time": "2021-06-15T17:58:03.239Z"
   },
   {
    "duration": 72,
    "start_time": "2021-06-15T17:58:13.079Z"
   },
   {
    "duration": 1246,
    "start_time": "2021-06-15T17:59:30.271Z"
   },
   {
    "duration": 1150,
    "start_time": "2021-06-15T18:00:35.216Z"
   },
   {
    "duration": 1146,
    "start_time": "2021-06-15T18:05:03.391Z"
   },
   {
    "duration": 1682,
    "start_time": "2021-06-15T18:07:31.785Z"
   },
   {
    "duration": 2618,
    "start_time": "2021-06-15T18:08:16.884Z"
   },
   {
    "duration": 1704,
    "start_time": "2021-06-15T18:08:33.706Z"
   },
   {
    "duration": 354,
    "start_time": "2021-06-15T18:08:58.006Z"
   },
   {
    "duration": 9836,
    "start_time": "2021-06-15T18:09:52.325Z"
   },
   {
    "duration": 272,
    "start_time": "2021-06-15T18:13:19.744Z"
   },
   {
    "duration": 3830,
    "start_time": "2021-06-15T18:13:33.034Z"
   },
   {
    "duration": 270,
    "start_time": "2021-06-15T18:14:53.887Z"
   },
   {
    "duration": 279,
    "start_time": "2021-06-15T18:15:18.107Z"
   },
   {
    "duration": 4247,
    "start_time": "2021-06-15T18:15:54.365Z"
   },
   {
    "duration": 1429,
    "start_time": "2021-06-15T18:17:56.688Z"
   },
   {
    "duration": 44,
    "start_time": "2021-06-15T18:17:58.120Z"
   },
   {
    "duration": 10,
    "start_time": "2021-06-15T18:17:58.167Z"
   },
   {
    "duration": 4,
    "start_time": "2021-06-15T18:17:58.180Z"
   },
   {
    "duration": 97,
    "start_time": "2021-06-15T18:17:58.186Z"
   },
   {
    "duration": 88,
    "start_time": "2021-06-15T18:17:58.285Z"
   },
   {
    "duration": 90,
    "start_time": "2021-06-15T18:17:58.375Z"
   },
   {
    "duration": 3,
    "start_time": "2021-06-15T18:17:58.468Z"
   },
   {
    "duration": 1644,
    "start_time": "2021-06-15T18:19:44.378Z"
   },
   {
    "duration": 45,
    "start_time": "2021-06-15T18:19:46.025Z"
   },
   {
    "duration": 11,
    "start_time": "2021-06-15T18:19:46.073Z"
   },
   {
    "duration": 9,
    "start_time": "2021-06-15T18:19:46.087Z"
   },
   {
    "duration": 94,
    "start_time": "2021-06-15T18:19:46.098Z"
   },
   {
    "duration": 121,
    "start_time": "2021-06-15T18:19:46.195Z"
   },
   {
    "duration": 119,
    "start_time": "2021-06-15T18:19:46.320Z"
   },
   {
    "duration": 12,
    "start_time": "2021-06-15T18:19:46.444Z"
   },
   {
    "duration": 1502,
    "start_time": "2021-06-15T18:19:46.460Z"
   },
   {
    "duration": 532,
    "start_time": "2021-06-15T18:21:16.512Z"
   },
   {
    "duration": 1102,
    "start_time": "2021-06-15T18:21:44.203Z"
   },
   {
    "duration": 1374,
    "start_time": "2021-06-15T18:22:02.497Z"
   },
   {
    "duration": 1586,
    "start_time": "2021-06-15T18:22:59.761Z"
   },
   {
    "duration": 45,
    "start_time": "2021-06-15T18:23:01.350Z"
   },
   {
    "duration": 11,
    "start_time": "2021-06-15T18:23:01.398Z"
   },
   {
    "duration": 7,
    "start_time": "2021-06-15T18:23:01.412Z"
   },
   {
    "duration": 96,
    "start_time": "2021-06-15T18:23:01.422Z"
   },
   {
    "duration": 86,
    "start_time": "2021-06-15T18:23:01.521Z"
   },
   {
    "duration": 91,
    "start_time": "2021-06-15T18:23:01.610Z"
   },
   {
    "duration": 3,
    "start_time": "2021-06-15T18:23:01.706Z"
   },
   {
    "duration": 9,
    "start_time": "2021-06-15T18:23:01.711Z"
   },
   {
    "duration": 28,
    "start_time": "2021-06-15T18:23:40.802Z"
   },
   {
    "duration": 2441,
    "start_time": "2021-06-15T18:24:22.686Z"
   },
   {
    "duration": 2319,
    "start_time": "2021-06-15T18:25:18.865Z"
   },
   {
    "duration": 2432,
    "start_time": "2021-06-15T18:25:44.807Z"
   },
   {
    "duration": 1996,
    "start_time": "2021-06-15T18:27:09.197Z"
   },
   {
    "duration": 1902,
    "start_time": "2021-06-15T18:27:45.755Z"
   },
   {
    "duration": 1778,
    "start_time": "2021-06-15T18:28:25.525Z"
   },
   {
    "duration": 1934,
    "start_time": "2021-06-15T18:29:15.061Z"
   },
   {
    "duration": 33066,
    "start_time": "2021-06-15T18:33:24.917Z"
   },
   {
    "duration": 38815,
    "start_time": "2021-06-15T18:34:31.066Z"
   },
   {
    "duration": 4,
    "start_time": "2021-06-15T18:35:26.517Z"
   },
   {
    "duration": 1406,
    "start_time": "2021-06-17T17:35:59.147Z"
   },
   {
    "duration": 47,
    "start_time": "2021-06-17T17:36:00.556Z"
   },
   {
    "duration": 11,
    "start_time": "2021-06-17T17:36:00.606Z"
   },
   {
    "duration": 17,
    "start_time": "2021-06-17T17:36:00.620Z"
   },
   {
    "duration": 83,
    "start_time": "2021-06-17T17:36:00.639Z"
   },
   {
    "duration": 81,
    "start_time": "2021-06-17T17:36:00.725Z"
   },
   {
    "duration": 71,
    "start_time": "2021-06-17T17:36:00.809Z"
   },
   {
    "duration": 20,
    "start_time": "2021-06-17T17:36:00.882Z"
   },
   {
    "duration": 1830,
    "start_time": "2021-06-17T17:36:00.905Z"
   },
   {
    "duration": 1322,
    "start_time": "2021-06-17T17:38:44.641Z"
   },
   {
    "duration": 44,
    "start_time": "2021-06-17T17:38:45.965Z"
   },
   {
    "duration": 10,
    "start_time": "2021-06-17T17:38:46.012Z"
   },
   {
    "duration": 6,
    "start_time": "2021-06-17T17:38:46.025Z"
   },
   {
    "duration": 91,
    "start_time": "2021-06-17T17:38:46.033Z"
   },
   {
    "duration": 82,
    "start_time": "2021-06-17T17:38:46.126Z"
   },
   {
    "duration": 69,
    "start_time": "2021-06-17T17:38:46.211Z"
   },
   {
    "duration": 17,
    "start_time": "2021-06-17T17:38:46.284Z"
   },
   {
    "duration": 1906,
    "start_time": "2021-06-17T17:38:46.304Z"
   },
   {
    "duration": 396,
    "start_time": "2021-06-17T17:38:48.213Z"
   },
   {
    "duration": 271,
    "start_time": "2021-06-17T17:39:09.427Z"
   },
   {
    "duration": 286,
    "start_time": "2021-06-17T17:39:15.417Z"
   },
   {
    "duration": 1484,
    "start_time": "2021-06-17T17:39:59.439Z"
   },
   {
    "duration": 1405,
    "start_time": "2021-06-17T17:40:10.038Z"
   },
   {
    "duration": 4,
    "start_time": "2021-06-17T17:40:17.293Z"
   },
   {
    "duration": 40,
    "start_time": "2021-06-17T17:40:17.300Z"
   },
   {
    "duration": 11,
    "start_time": "2021-06-17T17:40:17.345Z"
   },
   {
    "duration": 5,
    "start_time": "2021-06-17T17:40:17.359Z"
   },
   {
    "duration": 99,
    "start_time": "2021-06-17T17:40:17.367Z"
   },
   {
    "duration": 89,
    "start_time": "2021-06-17T17:40:17.469Z"
   },
   {
    "duration": 93,
    "start_time": "2021-06-17T17:40:17.561Z"
   },
   {
    "duration": 4,
    "start_time": "2021-06-17T17:40:17.659Z"
   },
   {
    "duration": 2827,
    "start_time": "2021-06-17T17:40:17.666Z"
   },
   {
    "duration": 1542,
    "start_time": "2021-06-17T17:40:20.495Z"
   },
   {
    "duration": 276,
    "start_time": "2021-06-17T17:40:53.699Z"
   },
   {
    "duration": 1531,
    "start_time": "2021-06-17T17:41:04.601Z"
   },
   {
    "duration": 301,
    "start_time": "2021-06-17T17:41:35.159Z"
   },
   {
    "duration": 324,
    "start_time": "2021-06-17T17:41:46.991Z"
   },
   {
    "duration": 47,
    "start_time": "2021-06-17T17:42:12.825Z"
   },
   {
    "duration": 287,
    "start_time": "2021-06-17T17:42:27.833Z"
   },
   {
    "duration": 36047,
    "start_time": "2021-06-17T17:45:45.572Z"
   },
   {
    "duration": 6,
    "start_time": "2021-06-17T17:49:16.734Z"
   },
   {
    "duration": 6,
    "start_time": "2021-06-17T17:49:30.642Z"
   },
   {
    "duration": 38,
    "start_time": "2021-06-17T17:49:48.783Z"
   },
   {
    "duration": 3,
    "start_time": "2021-06-17T17:50:15.691Z"
   },
   {
    "duration": 3,
    "start_time": "2021-06-17T17:50:18.255Z"
   },
   {
    "duration": 19,
    "start_time": "2021-06-17T17:53:32.400Z"
   },
   {
    "duration": 5319,
    "start_time": "2021-06-17T18:01:39.231Z"
   },
   {
    "duration": 10615,
    "start_time": "2021-06-17T18:12:11.416Z"
   },
   {
    "duration": 4,
    "start_time": "2021-06-17T18:12:51.532Z"
   },
   {
    "duration": 4,
    "start_time": "2021-06-17T18:14:41.453Z"
   },
   {
    "duration": 42,
    "start_time": "2021-06-17T18:14:41.461Z"
   },
   {
    "duration": 10,
    "start_time": "2021-06-17T18:14:41.506Z"
   },
   {
    "duration": 5,
    "start_time": "2021-06-17T18:14:41.519Z"
   },
   {
    "duration": 386,
    "start_time": "2021-06-17T18:14:41.527Z"
   },
   {
    "duration": 25,
    "start_time": "2021-06-17T18:14:41.917Z"
   },
   {
    "duration": 4,
    "start_time": "2021-06-17T18:14:41.945Z"
   },
   {
    "duration": 10806,
    "start_time": "2021-06-17T18:14:41.952Z"
   },
   {
    "duration": 77,
    "start_time": "2021-06-17T18:14:52.761Z"
   },
   {
    "duration": 69,
    "start_time": "2021-06-17T18:14:52.842Z"
   },
   {
    "duration": 3,
    "start_time": "2021-06-17T18:14:52.913Z"
   },
   {
    "duration": 1864,
    "start_time": "2021-06-17T18:14:52.918Z"
   },
   {
    "duration": 2,
    "start_time": "2021-06-17T18:16:11.330Z"
   },
   {
    "duration": 3,
    "start_time": "2021-06-17T18:16:11.796Z"
   },
   {
    "duration": 1582,
    "start_time": "2021-06-18T18:06:57.964Z"
   },
   {
    "duration": 43,
    "start_time": "2021-06-18T18:06:59.549Z"
   },
   {
    "duration": 10,
    "start_time": "2021-06-18T18:06:59.595Z"
   },
   {
    "duration": 6,
    "start_time": "2021-06-18T18:06:59.607Z"
   },
   {
    "duration": 102,
    "start_time": "2021-06-18T18:06:59.616Z"
   },
   {
    "duration": 23,
    "start_time": "2021-06-18T18:06:59.721Z"
   },
   {
    "duration": 4,
    "start_time": "2021-06-18T18:06:59.762Z"
   },
   {
    "duration": 11152,
    "start_time": "2021-06-18T18:06:59.771Z"
   },
   {
    "duration": 4,
    "start_time": "2021-06-18T18:07:10.926Z"
   },
   {
    "duration": 30,
    "start_time": "2021-06-18T18:07:10.932Z"
   },
   {
    "duration": 3,
    "start_time": "2021-06-18T18:07:10.965Z"
   },
   {
    "duration": 2022,
    "start_time": "2021-06-18T18:07:10.971Z"
   },
   {
    "duration": 6,
    "start_time": "2021-06-18T18:10:45.462Z"
   },
   {
    "duration": 453,
    "start_time": "2021-06-18T18:12:10.941Z"
   },
   {
    "duration": 46,
    "start_time": "2021-06-18T18:12:32.970Z"
   },
   {
    "duration": 10,
    "start_time": "2021-06-18T18:12:34.745Z"
   },
   {
    "duration": 14,
    "start_time": "2021-06-18T18:13:20.111Z"
   },
   {
    "duration": 22,
    "start_time": "2021-06-18T18:16:39.152Z"
   },
   {
    "duration": 4,
    "start_time": "2021-06-18T18:16:51.005Z"
   },
   {
    "duration": 3,
    "start_time": "2021-06-18T18:17:14.741Z"
   },
   {
    "duration": 46,
    "start_time": "2021-06-18T18:17:21.220Z"
   },
   {
    "duration": 6,
    "start_time": "2021-06-18T18:17:36.807Z"
   },
   {
    "duration": 7,
    "start_time": "2021-06-18T18:17:47.004Z"
   },
   {
    "duration": 16,
    "start_time": "2021-06-18T18:17:55.916Z"
   },
   {
    "duration": 392,
    "start_time": "2021-06-18T18:19:00.081Z"
   },
   {
    "duration": 5,
    "start_time": "2021-06-18T18:19:12.334Z"
   },
   {
    "duration": 15,
    "start_time": "2021-06-18T18:19:13.151Z"
   },
   {
    "duration": 344,
    "start_time": "2021-06-18T18:20:09.077Z"
   },
   {
    "duration": 5,
    "start_time": "2021-06-18T18:20:21.695Z"
   },
   {
    "duration": 357,
    "start_time": "2021-06-18T18:20:22.748Z"
   },
   {
    "duration": 325,
    "start_time": "2021-06-18T18:21:00.886Z"
   },
   {
    "duration": 24,
    "start_time": "2021-06-18T18:21:14.208Z"
   },
   {
    "duration": 31,
    "start_time": "2021-06-18T18:21:43.136Z"
   },
   {
    "duration": 309,
    "start_time": "2021-06-18T18:21:54.633Z"
   },
   {
    "duration": 362,
    "start_time": "2021-06-18T18:24:23.957Z"
   },
   {
    "duration": 8,
    "start_time": "2021-06-18T18:24:27.314Z"
   },
   {
    "duration": 9,
    "start_time": "2021-06-18T18:25:37.483Z"
   },
   {
    "duration": 24,
    "start_time": "2021-06-18T18:26:30.309Z"
   },
   {
    "duration": 5,
    "start_time": "2021-06-18T18:26:34.335Z"
   },
   {
    "duration": 3,
    "start_time": "2021-06-18T18:27:12.524Z"
   },
   {
    "duration": 6,
    "start_time": "2021-06-18T18:27:12.530Z"
   },
   {
    "duration": 29,
    "start_time": "2021-06-18T18:27:12.538Z"
   },
   {
    "duration": 92,
    "start_time": "2021-06-18T18:27:12.570Z"
   },
   {
    "duration": 97,
    "start_time": "2021-06-18T18:27:12.666Z"
   },
   {
    "duration": 22,
    "start_time": "2021-06-18T18:27:12.766Z"
   },
   {
    "duration": 6,
    "start_time": "2021-06-18T18:27:12.790Z"
   },
   {
    "duration": 16,
    "start_time": "2021-06-18T18:27:12.798Z"
   },
   {
    "duration": 3,
    "start_time": "2021-06-18T18:27:12.817Z"
   },
   {
    "duration": 46,
    "start_time": "2021-06-18T18:27:12.822Z"
   },
   {
    "duration": 3,
    "start_time": "2021-06-18T18:27:12.871Z"
   },
   {
    "duration": 24,
    "start_time": "2021-06-18T18:28:08.091Z"
   },
   {
    "duration": 17,
    "start_time": "2021-06-18T18:28:39.807Z"
   },
   {
    "duration": 16,
    "start_time": "2021-06-18T18:29:39.651Z"
   },
   {
    "duration": 3,
    "start_time": "2021-06-18T18:30:29.274Z"
   },
   {
    "duration": 4,
    "start_time": "2021-06-18T18:30:29.822Z"
   },
   {
    "duration": 14,
    "start_time": "2021-06-18T18:31:06.088Z"
   },
   {
    "duration": 4,
    "start_time": "2021-06-18T18:31:57.832Z"
   },
   {
    "duration": 26,
    "start_time": "2021-06-18T18:32:01.383Z"
   },
   {
    "duration": 6,
    "start_time": "2021-06-18T18:32:24.089Z"
   },
   {
    "duration": 8,
    "start_time": "2021-06-18T18:32:30.247Z"
   },
   {
    "duration": 15,
    "start_time": "2021-06-18T18:32:36.099Z"
   },
   {
    "duration": 16,
    "start_time": "2021-06-18T18:32:47.184Z"
   },
   {
    "duration": 6,
    "start_time": "2021-06-18T18:33:16.963Z"
   },
   {
    "duration": 15,
    "start_time": "2021-06-18T18:33:38.177Z"
   },
   {
    "duration": 521,
    "start_time": "2021-06-18T18:34:34.256Z"
   },
   {
    "duration": 21,
    "start_time": "2021-06-18T18:34:38.201Z"
   },
   {
    "duration": 15,
    "start_time": "2021-06-18T18:51:15.692Z"
   },
   {
    "duration": 28,
    "start_time": "2021-06-18T18:52:38.320Z"
   },
   {
    "duration": 7,
    "start_time": "2021-06-18T18:53:26.705Z"
   },
   {
    "duration": 3,
    "start_time": "2021-06-18T18:54:16.001Z"
   },
   {
    "duration": 4,
    "start_time": "2021-06-18T18:55:16.194Z"
   },
   {
    "duration": 4,
    "start_time": "2021-06-18T18:55:19.224Z"
   },
   {
    "duration": 896,
    "start_time": "2021-06-18T18:55:39.292Z"
   },
   {
    "duration": 139819,
    "start_time": "2021-06-18T18:56:28.943Z"
   },
   {
    "duration": 6,
    "start_time": "2021-06-18T19:06:44.839Z"
   },
   {
    "duration": 1230,
    "start_time": "2021-06-18T19:09:33.138Z"
   },
   {
    "duration": 5,
    "start_time": "2021-06-18T19:10:18.145Z"
   },
   {
    "duration": 5,
    "start_time": "2021-06-18T19:10:34.375Z"
   },
   {
    "duration": 115,
    "start_time": "2021-06-18T19:11:54.108Z"
   },
   {
    "duration": 108,
    "start_time": "2021-06-18T19:12:04.567Z"
   },
   {
    "duration": 135,
    "start_time": "2021-06-18T19:13:22.861Z"
   },
   {
    "duration": 128,
    "start_time": "2021-06-18T19:14:00.100Z"
   },
   {
    "duration": 131,
    "start_time": "2021-06-18T19:14:24.256Z"
   },
   {
    "duration": 185,
    "start_time": "2021-06-18T19:14:47.449Z"
   },
   {
    "duration": 110,
    "start_time": "2021-06-18T19:14:54.516Z"
   },
   {
    "duration": 408,
    "start_time": "2021-06-18T19:15:36.199Z"
   },
   {
    "duration": 115,
    "start_time": "2021-06-18T19:15:43.162Z"
   },
   {
    "duration": 121,
    "start_time": "2021-06-18T19:16:00.926Z"
   },
   {
    "duration": 117,
    "start_time": "2021-06-18T19:16:54.369Z"
   },
   {
    "duration": 151,
    "start_time": "2021-06-18T19:17:03.833Z"
   },
   {
    "duration": 113,
    "start_time": "2021-06-18T19:17:09.247Z"
   },
   {
    "duration": 109,
    "start_time": "2021-06-18T19:18:33.039Z"
   },
   {
    "duration": 98,
    "start_time": "2021-06-18T19:18:48.088Z"
   },
   {
    "duration": 1257,
    "start_time": "2021-06-18T19:19:10.610Z"
   },
   {
    "duration": 5,
    "start_time": "2021-06-18T19:19:12.748Z"
   },
   {
    "duration": 122,
    "start_time": "2021-06-18T19:19:13.984Z"
   },
   {
    "duration": 1496,
    "start_time": "2021-06-18T19:19:18.166Z"
   },
   {
    "duration": 5,
    "start_time": "2021-06-18T19:19:20.564Z"
   },
   {
    "duration": 119,
    "start_time": "2021-06-18T19:19:22.744Z"
   },
   {
    "duration": 340,
    "start_time": "2021-06-18T19:19:43.337Z"
   },
   {
    "duration": 855,
    "start_time": "2021-06-18T19:19:50.947Z"
   },
   {
    "duration": 5,
    "start_time": "2021-06-18T19:20:37.087Z"
   },
   {
    "duration": 1688,
    "start_time": "2021-06-18T19:20:40.835Z"
   },
   {
    "duration": 5,
    "start_time": "2021-06-18T19:20:51.165Z"
   },
   {
    "duration": 841,
    "start_time": "2021-06-18T19:20:52.669Z"
   },
   {
    "duration": 5,
    "start_time": "2021-06-18T19:21:05.244Z"
   },
   {
    "duration": 780,
    "start_time": "2021-06-18T19:21:05.837Z"
   },
   {
    "duration": 4,
    "start_time": "2021-06-18T19:21:41.912Z"
   },
   {
    "duration": 801,
    "start_time": "2021-06-18T19:21:52.361Z"
   },
   {
    "duration": 667,
    "start_time": "2021-06-18T19:22:28.374Z"
   },
   {
    "duration": 739,
    "start_time": "2021-06-18T19:22:58.012Z"
   },
   {
    "duration": 1473,
    "start_time": "2021-06-19T08:13:43.758Z"
   },
   {
    "duration": 43,
    "start_time": "2021-06-19T08:13:45.234Z"
   },
   {
    "duration": 10,
    "start_time": "2021-06-19T08:13:45.280Z"
   },
   {
    "duration": 7,
    "start_time": "2021-06-19T08:13:45.293Z"
   },
   {
    "duration": 88,
    "start_time": "2021-06-19T08:13:45.302Z"
   },
   {
    "duration": 23,
    "start_time": "2021-06-19T08:13:45.392Z"
   },
   {
    "duration": 3,
    "start_time": "2021-06-19T08:13:45.418Z"
   },
   {
    "duration": 11846,
    "start_time": "2021-06-19T08:13:45.424Z"
   },
   {
    "duration": 4,
    "start_time": "2021-06-19T08:13:57.274Z"
   },
   {
    "duration": 9,
    "start_time": "2021-06-19T08:13:57.281Z"
   },
   {
    "duration": 11,
    "start_time": "2021-06-19T08:13:57.292Z"
   },
   {
    "duration": 2074,
    "start_time": "2021-06-19T08:13:57.305Z"
   },
   {
    "duration": 7,
    "start_time": "2021-06-19T08:13:59.382Z"
   },
   {
    "duration": 64,
    "start_time": "2021-06-19T08:13:59.393Z"
   },
   {
    "duration": 8,
    "start_time": "2021-06-19T08:13:59.460Z"
   },
   {
    "duration": 14,
    "start_time": "2021-06-19T08:13:59.470Z"
   },
   {
    "duration": 22,
    "start_time": "2021-06-19T08:13:59.487Z"
   },
   {
    "duration": 4,
    "start_time": "2021-06-19T08:13:59.511Z"
   },
   {
    "duration": 61,
    "start_time": "2021-06-19T08:13:59.517Z"
   },
   {
    "duration": 78,
    "start_time": "2021-06-19T08:13:59.580Z"
   },
   {
    "duration": 95,
    "start_time": "2021-06-19T08:13:59.661Z"
   },
   {
    "duration": 18,
    "start_time": "2021-06-19T08:13:59.758Z"
   },
   {
    "duration": 15,
    "start_time": "2021-06-19T08:13:59.781Z"
   },
   {
    "duration": 18,
    "start_time": "2021-06-19T08:13:59.799Z"
   },
   {
    "duration": 410,
    "start_time": "2021-06-19T08:13:59.819Z"
   },
   {
    "duration": -99972,
    "start_time": "2021-06-19T08:15:40.204Z"
   },
   {
    "duration": -99975,
    "start_time": "2021-06-19T08:15:40.208Z"
   },
   {
    "duration": -99986,
    "start_time": "2021-06-19T08:15:40.221Z"
   },
   {
    "duration": -99990,
    "start_time": "2021-06-19T08:15:40.226Z"
   },
   {
    "duration": -99991,
    "start_time": "2021-06-19T08:15:40.229Z"
   },
   {
    "duration": -99994,
    "start_time": "2021-06-19T08:15:40.233Z"
   },
   {
    "duration": -99997,
    "start_time": "2021-06-19T08:15:40.238Z"
   },
   {
    "duration": -99998,
    "start_time": "2021-06-19T08:15:40.241Z"
   },
   {
    "duration": -100000,
    "start_time": "2021-06-19T08:15:40.244Z"
   },
   {
    "duration": -100003,
    "start_time": "2021-06-19T08:15:40.249Z"
   },
   {
    "duration": -100004,
    "start_time": "2021-06-19T08:15:40.252Z"
   },
   {
    "duration": -100008,
    "start_time": "2021-06-19T08:15:40.258Z"
   },
   {
    "duration": -100011,
    "start_time": "2021-06-19T08:15:40.262Z"
   },
   {
    "duration": -100014,
    "start_time": "2021-06-19T08:15:40.267Z"
   },
   {
    "duration": -100016,
    "start_time": "2021-06-19T08:15:40.271Z"
   },
   {
    "duration": -100018,
    "start_time": "2021-06-19T08:15:40.274Z"
   },
   {
    "duration": -100019,
    "start_time": "2021-06-19T08:15:40.277Z"
   },
   {
    "duration": -100022,
    "start_time": "2021-06-19T08:15:40.281Z"
   },
   {
    "duration": -100023,
    "start_time": "2021-06-19T08:15:40.284Z"
   },
   {
    "duration": -100024,
    "start_time": "2021-06-19T08:15:40.287Z"
   },
   {
    "duration": 3,
    "start_time": "2021-06-19T08:22:26.700Z"
   },
   {
    "duration": 23,
    "start_time": "2021-06-19T08:22:28.622Z"
   },
   {
    "duration": 3,
    "start_time": "2021-06-19T08:22:29.631Z"
   },
   {
    "duration": 3,
    "start_time": "2021-06-19T08:22:30.088Z"
   },
   {
    "duration": 16,
    "start_time": "2021-06-19T08:22:31.133Z"
   },
   {
    "duration": 5,
    "start_time": "2021-06-19T08:22:31.698Z"
   },
   {
    "duration": 16,
    "start_time": "2021-06-19T08:22:35.740Z"
   },
   {
    "duration": 527,
    "start_time": "2021-06-19T08:22:37.105Z"
   },
   {
    "duration": 18,
    "start_time": "2021-06-19T08:22:38.002Z"
   },
   {
    "duration": 4,
    "start_time": "2021-06-19T08:22:55.451Z"
   },
   {
    "duration": 38,
    "start_time": "2021-06-19T08:22:55.461Z"
   },
   {
    "duration": 9,
    "start_time": "2021-06-19T08:22:55.501Z"
   },
   {
    "duration": 43,
    "start_time": "2021-06-19T08:22:55.514Z"
   },
   {
    "duration": 94,
    "start_time": "2021-06-19T08:22:55.560Z"
   },
   {
    "duration": 22,
    "start_time": "2021-06-19T08:22:55.657Z"
   },
   {
    "duration": 3,
    "start_time": "2021-06-19T08:22:55.682Z"
   },
   {
    "duration": 11370,
    "start_time": "2021-06-19T08:22:55.687Z"
   },
   {
    "duration": 3,
    "start_time": "2021-06-19T08:23:07.062Z"
   },
   {
    "duration": 16,
    "start_time": "2021-06-19T08:23:07.068Z"
   },
   {
    "duration": 16,
    "start_time": "2021-06-19T08:23:07.086Z"
   },
   {
    "duration": 1864,
    "start_time": "2021-06-19T08:23:07.104Z"
   },
   {
    "duration": 6,
    "start_time": "2021-06-19T08:23:08.970Z"
   },
   {
    "duration": 12,
    "start_time": "2021-06-19T08:23:08.978Z"
   },
   {
    "duration": 15,
    "start_time": "2021-06-19T08:23:08.992Z"
   },
   {
    "duration": 15,
    "start_time": "2021-06-19T08:23:09.009Z"
   },
   {
    "duration": 3,
    "start_time": "2021-06-19T08:23:09.027Z"
   },
   {
    "duration": 21,
    "start_time": "2021-06-19T08:23:09.033Z"
   },
   {
    "duration": 31,
    "start_time": "2021-06-19T08:23:09.056Z"
   },
   {
    "duration": 66,
    "start_time": "2021-06-19T08:23:09.090Z"
   },
   {
    "duration": 94,
    "start_time": "2021-06-19T08:23:09.160Z"
   },
   {
    "duration": 19,
    "start_time": "2021-06-19T08:23:09.258Z"
   },
   {
    "duration": 6,
    "start_time": "2021-06-19T08:23:09.280Z"
   },
   {
    "duration": 4,
    "start_time": "2021-06-19T08:23:09.357Z"
   },
   {
    "duration": 12,
    "start_time": "2021-06-19T08:23:09.365Z"
   },
   {
    "duration": 20,
    "start_time": "2021-06-19T08:23:09.379Z"
   },
   {
    "duration": 15,
    "start_time": "2021-06-19T08:23:09.402Z"
   },
   {
    "duration": 13,
    "start_time": "2021-06-19T08:23:09.419Z"
   },
   {
    "duration": 13,
    "start_time": "2021-06-19T08:23:09.434Z"
   },
   {
    "duration": 14,
    "start_time": "2021-06-19T08:23:09.449Z"
   },
   {
    "duration": 25,
    "start_time": "2021-06-19T08:23:09.466Z"
   },
   {
    "duration": 566,
    "start_time": "2021-06-19T08:23:09.493Z"
   },
   {
    "duration": 14,
    "start_time": "2021-06-19T08:23:10.062Z"
   },
   {
    "duration": 22,
    "start_time": "2021-06-19T08:23:10.079Z"
   },
   {
    "duration": 9,
    "start_time": "2021-06-19T08:23:10.104Z"
   },
   {
    "duration": 7,
    "start_time": "2021-06-19T08:23:10.116Z"
   },
   {
    "duration": 824,
    "start_time": "2021-06-19T08:23:10.125Z"
   },
   {
    "duration": 136867,
    "start_time": "2021-06-19T08:23:10.951Z"
   },
   {
    "duration": 1842,
    "start_time": "2021-06-19T08:25:27.820Z"
   },
   {
    "duration": 6,
    "start_time": "2021-06-19T08:25:29.665Z"
   },
   {
    "duration": 7,
    "start_time": "2021-06-19T08:25:29.673Z"
   },
   {
    "duration": 785,
    "start_time": "2021-06-19T08:25:29.682Z"
   },
   {
    "duration": 721,
    "start_time": "2021-06-19T08:25:30.469Z"
   },
   {
    "duration": 704,
    "start_time": "2021-06-19T08:25:31.192Z"
   },
   {
    "duration": 715,
    "start_time": "2021-06-19T08:25:31.898Z"
   },
   {
    "duration": 133,
    "start_time": "2021-06-19T08:39:43.837Z"
   },
   {
    "duration": 292,
    "start_time": "2021-06-19T10:23:00.210Z"
   },
   {
    "duration": 269,
    "start_time": "2021-06-19T10:23:10.396Z"
   },
   {
    "duration": 271,
    "start_time": "2021-06-19T10:24:54.982Z"
   },
   {
    "duration": 288872,
    "start_time": "2021-06-19T10:25:44.829Z"
   },
   {
    "duration": 15599,
    "start_time": "2021-06-19T10:39:59.619Z"
   },
   {
    "duration": 15218,
    "start_time": "2021-06-19T10:42:22.155Z"
   },
   {
    "duration": 1644,
    "start_time": "2021-06-20T10:27:41.603Z"
   },
   {
    "duration": 55,
    "start_time": "2021-06-20T10:27:43.250Z"
   },
   {
    "duration": 11,
    "start_time": "2021-06-20T10:27:43.308Z"
   },
   {
    "duration": 6,
    "start_time": "2021-06-20T10:27:43.322Z"
   },
   {
    "duration": 81,
    "start_time": "2021-06-20T10:27:43.330Z"
   },
   {
    "duration": 42,
    "start_time": "2021-06-20T10:27:43.414Z"
   },
   {
    "duration": 17046,
    "start_time": "2021-06-20T10:27:43.459Z"
   },
   {
    "duration": 2113,
    "start_time": "2021-06-20T10:28:00.509Z"
   },
   {
    "duration": 7,
    "start_time": "2021-06-20T10:28:02.626Z"
   },
   {
    "duration": 42,
    "start_time": "2021-06-20T10:28:02.657Z"
   },
   {
    "duration": 7,
    "start_time": "2021-06-20T10:28:02.702Z"
   },
   {
    "duration": 11,
    "start_time": "2021-06-20T10:28:02.712Z"
   },
   {
    "duration": 50,
    "start_time": "2021-06-20T10:28:02.725Z"
   },
   {
    "duration": 4,
    "start_time": "2021-06-20T10:28:02.777Z"
   },
   {
    "duration": 35,
    "start_time": "2021-06-20T10:28:02.783Z"
   },
   {
    "duration": 48,
    "start_time": "2021-06-20T10:28:02.820Z"
   },
   {
    "duration": 103,
    "start_time": "2021-06-20T10:28:02.956Z"
   },
   {
    "duration": 16,
    "start_time": "2021-06-20T10:28:03.062Z"
   },
   {
    "duration": 15,
    "start_time": "2021-06-20T10:28:03.081Z"
   },
   {
    "duration": 8,
    "start_time": "2021-06-20T10:28:03.098Z"
   },
   {
    "duration": 47,
    "start_time": "2021-06-20T10:28:03.109Z"
   },
   {
    "duration": 14,
    "start_time": "2021-06-20T10:28:03.159Z"
   },
   {
    "duration": 6,
    "start_time": "2021-06-20T10:28:03.178Z"
   },
   {
    "duration": 20,
    "start_time": "2021-06-20T10:28:03.187Z"
   },
   {
    "duration": 538,
    "start_time": "2021-06-20T10:28:03.209Z"
   },
   {
    "duration": 19,
    "start_time": "2021-06-20T10:28:03.749Z"
   },
   {
    "duration": 22,
    "start_time": "2021-06-20T10:28:03.771Z"
   },
   {
    "duration": 10,
    "start_time": "2021-06-20T10:28:03.796Z"
   },
   {
    "duration": 8,
    "start_time": "2021-06-20T10:28:03.809Z"
   },
   {
    "duration": 841,
    "start_time": "2021-06-20T10:28:03.820Z"
   },
   {
    "duration": 142079,
    "start_time": "2021-06-20T10:28:04.664Z"
   },
   {
    "duration": 2012,
    "start_time": "2021-06-20T10:30:26.746Z"
   },
   {
    "duration": 5,
    "start_time": "2021-06-20T10:30:28.761Z"
   },
   {
    "duration": 7,
    "start_time": "2021-06-20T10:30:28.768Z"
   },
   {
    "duration": 810,
    "start_time": "2021-06-20T10:30:28.777Z"
   },
   {
    "duration": 1193,
    "start_time": "2021-06-20T10:30:29.589Z"
   },
   {
    "duration": 714,
    "start_time": "2021-06-20T10:30:30.784Z"
   },
   {
    "duration": 803,
    "start_time": "2021-06-20T10:30:31.500Z"
   },
   {
    "duration": 3,
    "start_time": "2021-06-20T10:30:32.306Z"
   },
   {
    "duration": 7,
    "start_time": "2021-06-20T10:30:32.312Z"
   },
   {
    "duration": 1395,
    "start_time": "2021-06-20T13:07:07.514Z"
   },
   {
    "duration": 44,
    "start_time": "2021-06-20T13:07:08.911Z"
   },
   {
    "duration": 10,
    "start_time": "2021-06-20T13:07:08.958Z"
   },
   {
    "duration": 4,
    "start_time": "2021-06-20T13:07:08.971Z"
   },
   {
    "duration": 93,
    "start_time": "2021-06-20T13:07:08.977Z"
   },
   {
    "duration": 23,
    "start_time": "2021-06-20T13:07:09.073Z"
   },
   {
    "duration": 14467,
    "start_time": "2021-06-20T13:07:09.098Z"
   },
   {
    "duration": 2032,
    "start_time": "2021-06-20T13:07:23.569Z"
   },
   {
    "duration": 5,
    "start_time": "2021-06-20T13:07:25.603Z"
   },
   {
    "duration": 57,
    "start_time": "2021-06-20T13:07:25.611Z"
   },
   {
    "duration": 7,
    "start_time": "2021-06-20T13:07:25.670Z"
   },
   {
    "duration": 10,
    "start_time": "2021-06-20T13:07:25.680Z"
   },
   {
    "duration": 20,
    "start_time": "2021-06-20T13:07:25.693Z"
   },
   {
    "duration": 4,
    "start_time": "2021-06-20T13:07:25.715Z"
   },
   {
    "duration": 56,
    "start_time": "2021-06-20T13:07:25.721Z"
   },
   {
    "duration": 80,
    "start_time": "2021-06-20T13:07:25.779Z"
   },
   {
    "duration": 91,
    "start_time": "2021-06-20T13:07:25.865Z"
   },
   {
    "duration": 3,
    "start_time": "2021-06-20T13:07:25.958Z"
   },
   {
    "duration": 11,
    "start_time": "2021-06-20T13:07:25.964Z"
   },
   {
    "duration": 6,
    "start_time": "2021-06-20T13:07:25.977Z"
   },
   {
    "duration": 23,
    "start_time": "2021-06-20T13:07:25.986Z"
   },
   {
    "duration": 52,
    "start_time": "2021-06-20T13:07:26.012Z"
   },
   {
    "duration": 6,
    "start_time": "2021-06-20T13:07:26.071Z"
   },
   {
    "duration": 22,
    "start_time": "2021-06-20T13:07:26.080Z"
   },
   {
    "duration": 499,
    "start_time": "2021-06-20T13:07:26.104Z"
   },
   {
    "duration": 15,
    "start_time": "2021-06-20T13:07:26.605Z"
   },
   {
    "duration": 41,
    "start_time": "2021-06-20T13:07:26.622Z"
   },
   {
    "duration": 10,
    "start_time": "2021-06-20T13:07:26.665Z"
   },
   {
    "duration": 4,
    "start_time": "2021-06-20T13:07:26.677Z"
   },
   {
    "duration": 809,
    "start_time": "2021-06-20T13:07:26.683Z"
   },
   {
    "duration": 133565,
    "start_time": "2021-06-20T13:07:27.495Z"
   },
   {
    "duration": 1996,
    "start_time": "2021-06-20T13:09:41.062Z"
   },
   {
    "duration": 5,
    "start_time": "2021-06-20T13:09:43.060Z"
   },
   {
    "duration": 7,
    "start_time": "2021-06-20T13:09:43.068Z"
   },
   {
    "duration": 785,
    "start_time": "2021-06-20T13:09:43.080Z"
   },
   {
    "duration": 714,
    "start_time": "2021-06-20T13:09:43.867Z"
   },
   {
    "duration": 658,
    "start_time": "2021-06-20T13:09:44.583Z"
   },
   {
    "duration": 967,
    "start_time": "2021-06-20T13:09:45.243Z"
   },
   {
    "duration": 1077,
    "start_time": "2021-06-22T06:14:14.056Z"
   },
   {
    "duration": 34,
    "start_time": "2021-06-22T06:14:15.134Z"
   },
   {
    "duration": 7,
    "start_time": "2021-06-22T06:14:15.170Z"
   },
   {
    "duration": 8,
    "start_time": "2021-06-22T06:14:15.179Z"
   },
   {
    "duration": 44,
    "start_time": "2021-06-22T06:14:15.188Z"
   },
   {
    "duration": 14,
    "start_time": "2021-06-22T06:14:15.234Z"
   },
   {
    "duration": 9277,
    "start_time": "2021-06-22T06:14:15.249Z"
   },
   {
    "duration": 1310,
    "start_time": "2021-06-22T06:14:24.528Z"
   },
   {
    "duration": 4,
    "start_time": "2021-06-22T06:14:25.840Z"
   },
   {
    "duration": 42,
    "start_time": "2021-06-22T06:14:25.845Z"
   },
   {
    "duration": 5,
    "start_time": "2021-06-22T06:14:25.889Z"
   },
   {
    "duration": 10,
    "start_time": "2021-06-22T06:14:25.895Z"
   },
   {
    "duration": 15,
    "start_time": "2021-06-22T06:14:25.907Z"
   },
   {
    "duration": 2,
    "start_time": "2021-06-22T06:14:25.924Z"
   },
   {
    "duration": 16,
    "start_time": "2021-06-22T06:14:25.928Z"
   },
   {
    "duration": 41,
    "start_time": "2021-06-22T06:14:25.946Z"
   },
   {
    "duration": 96,
    "start_time": "2021-06-22T06:14:25.989Z"
   },
   {
    "duration": 4,
    "start_time": "2021-06-22T06:14:26.087Z"
   },
   {
    "duration": 93,
    "start_time": "2021-06-22T06:14:26.093Z"
   },
   {
    "duration": 5,
    "start_time": "2021-06-22T06:14:26.188Z"
   },
   {
    "duration": 17,
    "start_time": "2021-06-22T06:14:26.195Z"
   },
   {
    "duration": 10,
    "start_time": "2021-06-22T06:14:26.213Z"
   },
   {
    "duration": 4,
    "start_time": "2021-06-22T06:14:26.228Z"
   },
   {
    "duration": 12,
    "start_time": "2021-06-22T06:14:26.234Z"
   },
   {
    "duration": 340,
    "start_time": "2021-06-22T06:14:26.248Z"
   },
   {
    "duration": 9,
    "start_time": "2021-06-22T06:14:26.589Z"
   },
   {
    "duration": 14,
    "start_time": "2021-06-22T06:14:26.600Z"
   },
   {
    "duration": 6,
    "start_time": "2021-06-22T06:14:26.616Z"
   },
   {
    "duration": 10,
    "start_time": "2021-06-22T06:14:26.623Z"
   },
   {
    "duration": 575,
    "start_time": "2021-06-22T06:14:26.635Z"
   },
   {
    "duration": 83492,
    "start_time": "2021-06-22T06:14:27.211Z"
   },
   {
    "duration": 1580,
    "start_time": "2021-06-22T06:15:50.705Z"
   },
   {
    "duration": 4,
    "start_time": "2021-06-22T06:15:52.287Z"
   },
   {
    "duration": 5,
    "start_time": "2021-06-22T06:15:52.293Z"
   },
   {
    "duration": 500,
    "start_time": "2021-06-22T06:15:52.300Z"
   },
   {
    "duration": 507,
    "start_time": "2021-06-22T06:15:52.802Z"
   },
   {
    "duration": 459,
    "start_time": "2021-06-22T06:15:53.311Z"
   },
   {
    "duration": 784,
    "start_time": "2021-06-22T06:15:53.772Z"
   },
   {
    "duration": 4,
    "start_time": "2021-06-22T09:34:53.364Z"
   },
   {
    "duration": 4,
    "start_time": "2021-06-22T09:35:37.088Z"
   },
   {
    "duration": 34,
    "start_time": "2021-06-22T09:35:37.094Z"
   },
   {
    "duration": 6,
    "start_time": "2021-06-22T09:35:37.130Z"
   },
   {
    "duration": 5,
    "start_time": "2021-06-22T09:35:37.138Z"
   },
   {
    "duration": 53,
    "start_time": "2021-06-22T09:35:37.145Z"
   },
   {
    "duration": 15,
    "start_time": "2021-06-22T09:35:37.199Z"
   },
   {
    "duration": 9248,
    "start_time": "2021-06-22T09:35:37.216Z"
   },
   {
    "duration": 1392,
    "start_time": "2021-06-22T09:35:46.466Z"
   },
   {
    "duration": 5,
    "start_time": "2021-06-22T09:35:47.860Z"
   },
   {
    "duration": 18,
    "start_time": "2021-06-22T09:35:47.867Z"
   },
   {
    "duration": 9,
    "start_time": "2021-06-22T09:35:47.886Z"
   },
   {
    "duration": 8,
    "start_time": "2021-06-22T09:35:47.896Z"
   },
   {
    "duration": 2,
    "start_time": "2021-06-22T09:35:47.905Z"
   },
   {
    "duration": 4,
    "start_time": "2021-06-22T09:35:47.909Z"
   },
   {
    "duration": 13,
    "start_time": "2021-06-22T09:35:47.915Z"
   },
   {
    "duration": 61,
    "start_time": "2021-06-22T09:35:47.929Z"
   },
   {
    "duration": 93,
    "start_time": "2021-06-22T09:35:47.992Z"
   },
   {
    "duration": 5,
    "start_time": "2021-06-22T09:35:48.087Z"
   },
   {
    "duration": 3,
    "start_time": "2021-06-22T09:35:48.095Z"
   },
   {
    "duration": 4,
    "start_time": "2021-06-22T09:35:48.099Z"
   },
   {
    "duration": 4,
    "start_time": "2021-06-22T09:35:48.104Z"
   },
   {
    "duration": 6,
    "start_time": "2021-06-22T09:35:48.110Z"
   },
   {
    "duration": 7,
    "start_time": "2021-06-22T09:35:48.117Z"
   },
   {
    "duration": 20,
    "start_time": "2021-06-22T09:35:48.125Z"
   },
   {
    "duration": 332,
    "start_time": "2021-06-22T09:35:48.147Z"
   },
   {
    "duration": 10,
    "start_time": "2021-06-22T09:35:48.481Z"
   },
   {
    "duration": 2,
    "start_time": "2021-06-22T09:35:48.493Z"
   },
   {
    "duration": 8,
    "start_time": "2021-06-22T09:35:48.496Z"
   },
   {
    "duration": 2,
    "start_time": "2021-06-22T09:35:48.506Z"
   },
   {
    "duration": 587,
    "start_time": "2021-06-22T09:35:48.510Z"
   },
   {
    "duration": 86336,
    "start_time": "2021-06-22T09:35:49.098Z"
   },
   {
    "duration": 1349,
    "start_time": "2021-06-22T09:37:15.436Z"
   },
   {
    "duration": 4,
    "start_time": "2021-06-22T09:37:16.787Z"
   },
   {
    "duration": 5,
    "start_time": "2021-06-22T09:37:16.793Z"
   },
   {
    "duration": 511,
    "start_time": "2021-06-22T09:37:16.799Z"
   },
   {
    "duration": 501,
    "start_time": "2021-06-22T09:37:17.312Z"
   },
   {
    "duration": 469,
    "start_time": "2021-06-22T09:37:17.815Z"
   },
   {
    "duration": 490,
    "start_time": "2021-06-22T09:37:18.286Z"
   },
   {
    "duration": 9235,
    "start_time": "2021-06-22T09:37:18.786Z"
   },
   {
    "duration": 8,
    "start_time": "2021-06-22T09:49:14.845Z"
   },
   {
    "duration": 272,
    "start_time": "2021-06-22T09:57:57.558Z"
   },
   {
    "duration": 4,
    "start_time": "2021-06-22T09:58:47.060Z"
   },
   {
    "duration": 2,
    "start_time": "2021-06-22T09:58:51.689Z"
   },
   {
    "duration": 7,
    "start_time": "2021-06-22T09:58:54.249Z"
   },
   {
    "duration": 2233,
    "start_time": "2021-06-22T09:58:56.214Z"
   },
   {
    "duration": 3,
    "start_time": "2021-06-22T09:59:22.782Z"
   },
   {
    "duration": 12,
    "start_time": "2021-06-22T09:59:23.476Z"
   },
   {
    "duration": 5,
    "start_time": "2021-06-22T09:59:24.842Z"
   },
   {
    "duration": 3,
    "start_time": "2021-06-22T09:59:26.242Z"
   },
   {
    "duration": 11,
    "start_time": "2021-06-22T09:59:27.216Z"
   },
   {
    "duration": 312,
    "start_time": "2021-06-22T09:59:29.660Z"
   },
   {
    "duration": 11,
    "start_time": "2021-06-22T09:59:33.542Z"
   },
   {
    "duration": 7,
    "start_time": "2021-06-22T16:10:33.949Z"
   },
   {
    "duration": 7,
    "start_time": "2021-06-22T16:10:35.816Z"
   },
   {
    "duration": 3,
    "start_time": "2021-06-22T16:10:37.157Z"
   },
   {
    "duration": 13,
    "start_time": "2021-06-22T16:10:38.480Z"
   },
   {
    "duration": 9,
    "start_time": "2021-06-22T16:10:41.434Z"
   },
   {
    "duration": 4,
    "start_time": "2021-06-22T16:10:42.262Z"
   },
   {
    "duration": 10,
    "start_time": "2021-06-22T16:10:43.093Z"
   },
   {
    "duration": 321,
    "start_time": "2021-06-22T16:10:46.293Z"
   },
   {
    "duration": 10,
    "start_time": "2021-06-22T16:10:46.774Z"
   },
   {
    "duration": 66,
    "start_time": "2021-06-22T16:18:45.882Z"
   },
   {
    "duration": 5,
    "start_time": "2021-06-22T16:28:16.569Z"
   },
   {
    "duration": 177,
    "start_time": "2021-06-22T16:29:23.559Z"
   },
   {
    "duration": 4,
    "start_time": "2021-06-22T16:29:34.482Z"
   },
   {
    "duration": 183,
    "start_time": "2021-06-22T16:29:40.047Z"
   },
   {
    "duration": 550,
    "start_time": "2021-06-22T16:32:19.912Z"
   },
   {
    "duration": 559,
    "start_time": "2021-06-22T16:32:41.845Z"
   },
   {
    "duration": 1696,
    "start_time": "2021-06-22T16:35:29.389Z"
   },
   {
    "duration": 1611,
    "start_time": "2021-06-22T16:35:34.277Z"
   },
   {
    "duration": 4,
    "start_time": "2021-06-22T16:35:35.890Z"
   },
   {
    "duration": 9,
    "start_time": "2021-06-22T16:35:35.896Z"
   },
   {
    "duration": 518,
    "start_time": "2021-06-22T16:35:35.907Z"
   },
   {
    "duration": 510,
    "start_time": "2021-06-22T16:35:36.426Z"
   },
   {
    "duration": 468,
    "start_time": "2021-06-22T16:35:36.938Z"
   },
   {
    "duration": 476,
    "start_time": "2021-06-22T16:35:37.408Z"
   },
   {
    "duration": 568,
    "start_time": "2021-06-22T16:44:57.110Z"
   },
   {
    "duration": 86107,
    "start_time": "2021-06-22T16:45:04.457Z"
   },
   {
    "duration": 4,
    "start_time": "2021-06-22T16:48:30.225Z"
   },
   {
    "duration": 1245,
    "start_time": "2021-06-22T17:03:56.840Z"
   },
   {
    "duration": 3,
    "start_time": "2021-06-22T17:04:00.638Z"
   },
   {
    "duration": 3,
    "start_time": "2021-06-22T17:04:02.029Z"
   },
   {
    "duration": 546,
    "start_time": "2021-06-22T17:04:02.879Z"
   },
   {
    "duration": 540,
    "start_time": "2021-06-22T17:04:05.459Z"
   },
   {
    "duration": 484,
    "start_time": "2021-06-22T17:04:06.878Z"
   },
   {
    "duration": 490,
    "start_time": "2021-06-22T17:04:08.146Z"
   },
   {
    "duration": 4,
    "start_time": "2021-06-22T17:07:32.958Z"
   },
   {
    "duration": 531,
    "start_time": "2021-06-22T17:07:35.025Z"
   },
   {
    "duration": 538,
    "start_time": "2021-06-22T17:07:38.449Z"
   },
   {
    "duration": 543,
    "start_time": "2021-06-22T17:07:40.883Z"
   },
   {
    "duration": 512,
    "start_time": "2021-06-22T17:07:43.226Z"
   },
   {
    "duration": 5,
    "start_time": "2021-06-22T17:24:32.008Z"
   },
   {
    "duration": 18,
    "start_time": "2021-06-22T17:24:39.928Z"
   },
   {
    "duration": 7815,
    "start_time": "2021-06-22T17:28:23.982Z"
   },
   {
    "duration": 8922,
    "start_time": "2021-06-22T17:29:01.999Z"
   },
   {
    "duration": 9463,
    "start_time": "2021-06-22T17:29:40.588Z"
   },
   {
    "duration": 93995,
    "start_time": "2021-06-22T17:30:03.931Z"
   },
   {
    "duration": 9376,
    "start_time": "2021-06-22T17:31:52.825Z"
   },
   {
    "duration": 20,
    "start_time": "2021-06-22T17:32:17.957Z"
   },
   {
    "duration": 12,
    "start_time": "2021-06-22T17:32:23.759Z"
   },
   {
    "duration": 174,
    "start_time": "2021-06-22T17:34:55.944Z"
   },
   {
    "duration": 4667,
    "start_time": "2021-06-22T17:35:06.294Z"
   },
   {
    "duration": 17,
    "start_time": "2021-06-22T17:36:50.446Z"
   },
   {
    "duration": 617,
    "start_time": "2021-06-22T17:37:39.536Z"
   },
   {
    "duration": 190,
    "start_time": "2021-06-22T17:38:10.418Z"
   },
   {
    "duration": 598,
    "start_time": "2021-06-22T17:38:20.925Z"
   },
   {
    "duration": 1325,
    "start_time": "2021-06-22T17:39:32.287Z"
   },
   {
    "duration": 18,
    "start_time": "2021-06-22T17:40:04.427Z"
   },
   {
    "duration": 965,
    "start_time": "2021-06-22T17:40:29.936Z"
   },
   {
    "duration": 479,
    "start_time": "2021-06-22T17:40:38.332Z"
   },
   {
    "duration": 199,
    "start_time": "2021-06-22T17:41:17.775Z"
   },
   {
    "duration": 18,
    "start_time": "2021-06-22T17:41:23.035Z"
   },
   {
    "duration": 505,
    "start_time": "2021-06-22T17:41:49.246Z"
   },
   {
    "duration": 1216,
    "start_time": "2021-06-22T17:41:58.091Z"
   },
   {
    "duration": 1189,
    "start_time": "2021-06-22T17:42:21.154Z"
   },
   {
    "duration": 1165,
    "start_time": "2021-06-22T17:42:31.673Z"
   },
   {
    "duration": 1199,
    "start_time": "2021-06-22T17:42:53.821Z"
   },
   {
    "duration": 17,
    "start_time": "2021-06-22T17:43:37.064Z"
   },
   {
    "duration": 1320,
    "start_time": "2021-06-22T17:44:50.043Z"
   },
   {
    "duration": 7,
    "start_time": "2021-06-22T18:57:42.117Z"
   },
   {
    "duration": 3,
    "start_time": "2021-06-22T18:57:43.526Z"
   },
   {
    "duration": 530,
    "start_time": "2021-06-22T18:57:44.119Z"
   },
   {
    "duration": 504,
    "start_time": "2021-06-22T18:57:45.022Z"
   },
   {
    "duration": 501,
    "start_time": "2021-06-22T18:57:47.038Z"
   },
   {
    "duration": 532,
    "start_time": "2021-06-22T18:57:48.085Z"
   },
   {
    "duration": 2,
    "start_time": "2021-06-22T19:08:42.274Z"
   },
   {
    "duration": 2,
    "start_time": "2021-06-22T19:08:52.812Z"
   },
   {
    "duration": 2,
    "start_time": "2021-06-22T19:08:56.846Z"
   },
   {
    "duration": 3,
    "start_time": "2021-06-22T19:08:59.346Z"
   },
   {
    "duration": 3,
    "start_time": "2021-06-22T19:09:03.033Z"
   },
   {
    "duration": 195,
    "start_time": "2021-06-22T19:10:04.495Z"
   },
   {
    "duration": 165,
    "start_time": "2021-06-22T19:10:34.345Z"
   },
   {
    "duration": 142,
    "start_time": "2021-06-22T19:11:12.510Z"
   },
   {
    "duration": 159,
    "start_time": "2021-06-22T19:11:27.448Z"
   },
   {
    "duration": 152,
    "start_time": "2021-06-22T19:11:41.274Z"
   },
   {
    "duration": 174,
    "start_time": "2021-06-22T19:19:23.066Z"
   },
   {
    "duration": 3,
    "start_time": "2021-06-22T19:19:44.061Z"
   },
   {
    "duration": 142,
    "start_time": "2021-06-22T19:19:44.669Z"
   },
   {
    "duration": 140,
    "start_time": "2021-06-22T19:20:00.703Z"
   },
   {
    "duration": 668,
    "start_time": "2021-06-22T19:20:22.144Z"
   },
   {
    "duration": 149,
    "start_time": "2021-06-22T19:20:29.441Z"
   },
   {
    "duration": 142,
    "start_time": "2021-06-22T19:20:54.797Z"
   },
   {
    "duration": 142,
    "start_time": "2021-06-22T19:21:03.848Z"
   },
   {
    "duration": 1414,
    "start_time": "2021-06-22T19:22:07.839Z"
   },
   {
    "duration": 152,
    "start_time": "2021-06-22T19:22:19.275Z"
   },
   {
    "duration": 154,
    "start_time": "2021-06-22T19:22:29.222Z"
   },
   {
    "duration": 134,
    "start_time": "2021-06-22T19:22:48.756Z"
   },
   {
    "duration": 139,
    "start_time": "2021-06-22T19:22:57.324Z"
   },
   {
    "duration": 146,
    "start_time": "2021-06-22T19:23:01.114Z"
   },
   {
    "duration": 1028,
    "start_time": "2021-06-22T19:27:07.857Z"
   },
   {
    "duration": 3,
    "start_time": "2021-06-22T19:27:10.402Z"
   },
   {
    "duration": 19,
    "start_time": "2021-06-22T19:27:12.651Z"
   },
   {
    "duration": 158,
    "start_time": "2021-06-22T19:27:15.092Z"
   },
   {
    "duration": 3,
    "start_time": "2021-06-22T19:30:40.708Z"
   },
   {
    "duration": 62,
    "start_time": "2021-06-22T19:31:44.025Z"
   },
   {
    "duration": 1174,
    "start_time": "2021-06-22T19:38:02.790Z"
   },
   {
    "duration": 58,
    "start_time": "2021-06-22T19:39:13.839Z"
   },
   {
    "duration": 1087,
    "start_time": "2021-06-22T19:39:44.231Z"
   },
   {
    "duration": 1199,
    "start_time": "2021-06-22T19:40:35.550Z"
   },
   {
    "duration": 1237,
    "start_time": "2021-06-22T19:40:45.309Z"
   },
   {
    "duration": 1151,
    "start_time": "2021-06-22T19:40:51.487Z"
   },
   {
    "duration": 59,
    "start_time": "2021-06-22T19:44:15.991Z"
   },
   {
    "duration": 61,
    "start_time": "2021-06-22T19:56:47.583Z"
   },
   {
    "duration": 1163,
    "start_time": "2021-06-22T20:18:05.235Z"
   },
   {
    "duration": 35,
    "start_time": "2021-06-22T20:18:06.399Z"
   },
   {
    "duration": 7,
    "start_time": "2021-06-22T20:18:06.436Z"
   },
   {
    "duration": 4,
    "start_time": "2021-06-22T20:18:06.445Z"
   },
   {
    "duration": 49,
    "start_time": "2021-06-22T20:18:06.450Z"
   },
   {
    "duration": 14,
    "start_time": "2021-06-22T20:18:06.501Z"
   },
   {
    "duration": 9477,
    "start_time": "2021-06-22T20:18:06.517Z"
   },
   {
    "duration": 1325,
    "start_time": "2021-06-22T20:18:15.996Z"
   },
   {
    "duration": 4,
    "start_time": "2021-06-22T20:18:17.323Z"
   },
   {
    "duration": 7,
    "start_time": "2021-06-22T20:18:17.328Z"
   },
   {
    "duration": 7,
    "start_time": "2021-06-22T20:18:17.337Z"
   },
   {
    "duration": 2,
    "start_time": "2021-06-22T20:18:17.345Z"
   },
   {
    "duration": 38,
    "start_time": "2021-06-22T20:18:17.349Z"
   },
   {
    "duration": 8,
    "start_time": "2021-06-22T20:18:17.389Z"
   },
   {
    "duration": 85,
    "start_time": "2021-06-22T20:18:17.400Z"
   },
   {
    "duration": 104,
    "start_time": "2021-06-22T20:18:17.488Z"
   },
   {
    "duration": 328,
    "start_time": "2021-06-22T20:18:17.594Z"
   },
   {
    "duration": 9,
    "start_time": "2021-06-22T20:18:17.924Z"
   },
   {
    "duration": 576,
    "start_time": "2021-06-22T20:18:17.935Z"
   },
   {
    "duration": 84087,
    "start_time": "2021-06-22T20:18:18.512Z"
   },
   {
    "duration": 1598,
    "start_time": "2021-06-22T20:19:42.601Z"
   },
   {
    "duration": 2,
    "start_time": "2021-06-22T20:19:44.202Z"
   },
   {
    "duration": 2,
    "start_time": "2021-06-22T20:19:44.286Z"
   },
   {
    "duration": 278,
    "start_time": "2021-06-22T20:19:44.290Z"
   },
   {
    "duration": -99625,
    "start_time": "2021-06-22T20:21:24.194Z"
   },
   {
    "duration": 18,
    "start_time": "2021-06-22T20:23:19.398Z"
   },
   {
    "duration": 146,
    "start_time": "2021-06-22T20:23:21.531Z"
   },
   {
    "duration": 152,
    "start_time": "2021-06-22T20:23:50.001Z"
   },
   {
    "duration": 18,
    "start_time": "2021-06-22T20:23:53.086Z"
   },
   {
    "duration": 19,
    "start_time": "2021-06-22T20:24:05.655Z"
   },
   {
    "duration": 152,
    "start_time": "2021-06-22T20:24:07.532Z"
   },
   {
    "duration": 1067,
    "start_time": "2021-06-22T20:25:18.326Z"
   },
   {
    "duration": 34,
    "start_time": "2021-06-22T20:25:19.395Z"
   },
   {
    "duration": 7,
    "start_time": "2021-06-22T20:25:19.430Z"
   },
   {
    "duration": 3,
    "start_time": "2021-06-22T20:25:19.439Z"
   },
   {
    "duration": 50,
    "start_time": "2021-06-22T20:25:19.444Z"
   },
   {
    "duration": 20,
    "start_time": "2021-06-22T20:25:19.496Z"
   },
   {
    "duration": 9320,
    "start_time": "2021-06-22T20:25:19.518Z"
   },
   {
    "duration": 1394,
    "start_time": "2021-06-22T20:25:28.840Z"
   },
   {
    "duration": 4,
    "start_time": "2021-06-22T20:25:30.237Z"
   },
   {
    "duration": 19,
    "start_time": "2021-06-22T20:25:30.243Z"
   },
   {
    "duration": 15,
    "start_time": "2021-06-22T20:25:30.264Z"
   },
   {
    "duration": 6,
    "start_time": "2021-06-22T20:25:30.280Z"
   },
   {
    "duration": 28,
    "start_time": "2021-06-22T20:25:30.288Z"
   },
   {
    "duration": 68,
    "start_time": "2021-06-22T20:25:30.318Z"
   },
   {
    "duration": 103,
    "start_time": "2021-06-22T20:25:30.389Z"
   },
   {
    "duration": 17,
    "start_time": "2021-06-22T20:25:30.494Z"
   },
   {
    "duration": 338,
    "start_time": "2021-06-22T20:25:30.513Z"
   },
   {
    "duration": 9,
    "start_time": "2021-06-22T20:25:30.853Z"
   },
   {
    "duration": 574,
    "start_time": "2021-06-22T20:25:30.864Z"
   },
   {
    "duration": 84829,
    "start_time": "2021-06-22T20:25:31.439Z"
   },
   {
    "duration": 1425,
    "start_time": "2021-06-22T20:26:56.270Z"
   },
   {
    "duration": 2,
    "start_time": "2021-06-22T20:26:57.697Z"
   },
   {
    "duration": 7,
    "start_time": "2021-06-22T20:26:57.701Z"
   },
   {
    "duration": 168,
    "start_time": "2021-06-22T20:26:57.710Z"
   },
   {
    "duration": 18,
    "start_time": "2021-06-22T20:26:57.884Z"
   },
   {
    "duration": 1125,
    "start_time": "2021-06-23T16:14:35.201Z"
   },
   {
    "duration": 35,
    "start_time": "2021-06-23T16:14:36.327Z"
   },
   {
    "duration": 7,
    "start_time": "2021-06-23T16:14:36.363Z"
   },
   {
    "duration": 6,
    "start_time": "2021-06-23T16:14:36.372Z"
   },
   {
    "duration": 47,
    "start_time": "2021-06-23T16:14:36.379Z"
   },
   {
    "duration": 15,
    "start_time": "2021-06-23T16:14:36.428Z"
   },
   {
    "duration": 9469,
    "start_time": "2021-06-23T16:14:36.444Z"
   },
   {
    "duration": 1315,
    "start_time": "2021-06-23T16:14:45.916Z"
   },
   {
    "duration": 3,
    "start_time": "2021-06-23T16:14:47.234Z"
   },
   {
    "duration": 9,
    "start_time": "2021-06-23T16:14:47.239Z"
   },
   {
    "duration": 8,
    "start_time": "2021-06-23T16:14:47.250Z"
   },
   {
    "duration": 2,
    "start_time": "2021-06-23T16:14:47.260Z"
   },
   {
    "duration": 29,
    "start_time": "2021-06-23T16:14:47.264Z"
   },
   {
    "duration": 91,
    "start_time": "2021-06-23T16:14:47.295Z"
   },
   {
    "duration": 5,
    "start_time": "2021-06-23T16:14:47.388Z"
   },
   {
    "duration": 101,
    "start_time": "2021-06-23T16:14:47.395Z"
   },
   {
    "duration": 361,
    "start_time": "2021-06-23T16:14:47.498Z"
   },
   {
    "duration": 10,
    "start_time": "2021-06-23T16:14:47.861Z"
   },
   {
    "duration": 505,
    "start_time": "2021-06-23T16:14:47.873Z"
   },
   {
    "duration": 85168,
    "start_time": "2021-06-23T16:14:48.379Z"
   },
   {
    "duration": 1446,
    "start_time": "2021-06-23T16:16:13.549Z"
   },
   {
    "duration": 2,
    "start_time": "2021-06-23T16:16:14.997Z"
   },
   {
    "duration": 32,
    "start_time": "2021-06-23T16:16:15.003Z"
   },
   {
    "duration": 171,
    "start_time": "2021-06-23T16:16:15.036Z"
   },
   {
    "duration": 18,
    "start_time": "2021-06-23T16:16:15.209Z"
   },
   {
    "duration": 306,
    "start_time": "2021-06-23T19:10:51.323Z"
   },
   {
    "duration": 184,
    "start_time": "2021-06-23T19:19:09.843Z"
   },
   {
    "duration": 579,
    "start_time": "2021-06-23T19:19:18.927Z"
   },
   {
    "duration": 572,
    "start_time": "2021-06-23T19:20:56.034Z"
   },
   {
    "duration": 600,
    "start_time": "2021-06-23T19:32:18.392Z"
   },
   {
    "duration": 577,
    "start_time": "2021-06-23T19:32:28.097Z"
   },
   {
    "duration": 565,
    "start_time": "2021-06-23T19:41:13.924Z"
   },
   {
    "duration": 577,
    "start_time": "2021-06-23T19:42:01.445Z"
   },
   {
    "duration": 574,
    "start_time": "2021-06-23T19:42:16.227Z"
   },
   {
    "duration": 4,
    "start_time": "2021-06-23T19:49:08.085Z"
   },
   {
    "duration": 577,
    "start_time": "2021-06-23T19:50:18.454Z"
   },
   {
    "duration": 4,
    "start_time": "2021-06-23T19:50:28.088Z"
   },
   {
    "duration": 30,
    "start_time": "2021-06-23T19:50:28.097Z"
   },
   {
    "duration": 6,
    "start_time": "2021-06-23T19:50:28.129Z"
   },
   {
    "duration": 5,
    "start_time": "2021-06-23T19:50:28.136Z"
   },
   {
    "duration": 54,
    "start_time": "2021-06-23T19:50:28.143Z"
   },
   {
    "duration": 14,
    "start_time": "2021-06-23T19:50:28.199Z"
   },
   {
    "duration": 9363,
    "start_time": "2021-06-23T19:50:28.214Z"
   },
   {
    "duration": 7,
    "start_time": "2021-06-23T19:50:37.579Z"
   },
   {
    "duration": 567,
    "start_time": "2021-06-23T19:50:37.588Z"
   },
   {
    "duration": 586,
    "start_time": "2021-06-23T19:51:51.303Z"
   },
   {
    "duration": 5,
    "start_time": "2021-06-23T19:52:23.213Z"
   },
   {
    "duration": 2351,
    "start_time": "2021-06-23T19:53:07.784Z"
   },
   {
    "duration": 2443,
    "start_time": "2021-06-23T19:53:20.649Z"
   },
   {
    "duration": 572,
    "start_time": "2021-06-23T19:53:36.019Z"
   },
   {
    "duration": 570,
    "start_time": "2021-06-23T19:54:03.496Z"
   },
   {
    "duration": 598,
    "start_time": "2021-06-23T19:59:07.534Z"
   },
   {
    "duration": 585,
    "start_time": "2021-06-23T19:59:29.709Z"
   },
   {
    "duration": 586,
    "start_time": "2021-06-23T20:01:34.798Z"
   },
   {
    "duration": 7,
    "start_time": "2021-06-23T20:28:43.221Z"
   },
   {
    "duration": 7,
    "start_time": "2021-06-23T20:28:44.968Z"
   },
   {
    "duration": 3,
    "start_time": "2021-06-23T20:28:45.854Z"
   },
   {
    "duration": 14,
    "start_time": "2021-06-23T20:28:48.799Z"
   },
   {
    "duration": 71,
    "start_time": "2021-06-23T20:28:50.515Z"
   },
   {
    "duration": 3,
    "start_time": "2021-06-23T20:28:55.940Z"
   },
   {
    "duration": 11,
    "start_time": "2021-06-23T20:28:58.372Z"
   },
   {
    "duration": 326,
    "start_time": "2021-06-23T20:29:05.283Z"
   },
   {
    "duration": 11,
    "start_time": "2021-06-23T20:29:07.256Z"
   },
   {
    "duration": 1372,
    "start_time": "2021-06-23T20:38:01.914Z"
   },
   {
    "duration": 2,
    "start_time": "2021-06-23T20:38:06.673Z"
   },
   {
    "duration": 3,
    "start_time": "2021-06-23T20:38:07.214Z"
   },
   {
    "duration": 150,
    "start_time": "2021-06-23T20:40:22.267Z"
   },
   {
    "duration": 1405,
    "start_time": "2021-06-23T20:40:47.886Z"
   },
   {
    "duration": 149,
    "start_time": "2021-06-23T20:40:52.076Z"
   },
   {
    "duration": 1386,
    "start_time": "2021-06-23T20:41:03.603Z"
   },
   {
    "duration": 150,
    "start_time": "2021-06-23T20:41:07.668Z"
   },
   {
    "duration": 18,
    "start_time": "2021-06-23T20:43:52.278Z"
   },
   {
    "duration": 17,
    "start_time": "2021-06-23T20:50:28.507Z"
   },
   {
    "duration": 1555,
    "start_time": "2021-06-24T04:57:54.872Z"
   },
   {
    "duration": 44,
    "start_time": "2021-06-24T04:57:56.430Z"
   },
   {
    "duration": 10,
    "start_time": "2021-06-24T04:57:56.477Z"
   },
   {
    "duration": 4,
    "start_time": "2021-06-24T04:57:56.489Z"
   },
   {
    "duration": 90,
    "start_time": "2021-06-24T04:57:56.495Z"
   },
   {
    "duration": 23,
    "start_time": "2021-06-24T04:57:56.588Z"
   },
   {
    "duration": 16377,
    "start_time": "2021-06-24T04:57:56.614Z"
   },
   {
    "duration": 1946,
    "start_time": "2021-06-24T04:58:12.995Z"
   },
   {
    "duration": 5,
    "start_time": "2021-06-24T04:58:14.945Z"
   },
   {
    "duration": 16,
    "start_time": "2021-06-24T04:58:14.953Z"
   },
   {
    "duration": 10,
    "start_time": "2021-06-24T04:58:14.986Z"
   },
   {
    "duration": 4,
    "start_time": "2021-06-24T04:58:14.999Z"
   },
   {
    "duration": 44,
    "start_time": "2021-06-24T04:58:15.005Z"
   },
   {
    "duration": 34,
    "start_time": "2021-06-24T04:58:15.052Z"
   },
   {
    "duration": 109,
    "start_time": "2021-06-24T04:58:15.090Z"
   },
   {
    "duration": 94,
    "start_time": "2021-06-24T04:58:15.202Z"
   },
   {
    "duration": 503,
    "start_time": "2021-06-24T04:58:15.299Z"
   },
   {
    "duration": 17,
    "start_time": "2021-06-24T04:58:15.805Z"
   },
   {
    "duration": 862,
    "start_time": "2021-06-24T04:58:15.825Z"
   },
   {
    "duration": 135574,
    "start_time": "2021-06-24T04:58:16.691Z"
   },
   {
    "duration": 1919,
    "start_time": "2021-06-24T05:00:32.267Z"
   },
   {
    "duration": 3,
    "start_time": "2021-06-24T05:00:34.188Z"
   },
   {
    "duration": 12,
    "start_time": "2021-06-24T05:00:34.195Z"
   },
   {
    "duration": 260,
    "start_time": "2021-06-24T05:00:34.210Z"
   },
   {
    "duration": 33,
    "start_time": "2021-06-24T05:00:34.473Z"
   },
   {
    "duration": 111,
    "start_time": "2021-06-24T05:42:11.024Z"
   },
   {
    "duration": 425,
    "start_time": "2021-06-24T05:42:18.215Z"
   },
   {
    "duration": 6,
    "start_time": "2021-06-24T05:42:33.885Z"
   },
   {
    "duration": 9,
    "start_time": "2021-06-24T05:42:36.619Z"
   },
   {
    "duration": 9,
    "start_time": "2021-06-24T05:42:38.256Z"
   },
   {
    "duration": 3,
    "start_time": "2021-06-24T05:42:39.274Z"
   },
   {
    "duration": 25,
    "start_time": "2021-06-24T05:42:40.168Z"
   },
   {
    "duration": 6,
    "start_time": "2021-06-24T05:42:42.424Z"
   },
   {
    "duration": 6,
    "start_time": "2021-06-24T05:42:46.080Z"
   },
   {
    "duration": 17,
    "start_time": "2021-06-24T05:43:12.813Z"
   },
   {
    "duration": 490,
    "start_time": "2021-06-24T05:43:20.282Z"
   },
   {
    "duration": 6,
    "start_time": "2021-06-24T05:43:23.180Z"
   },
   {
    "duration": 17,
    "start_time": "2021-06-24T05:43:24.039Z"
   },
   {
    "duration": 479,
    "start_time": "2021-06-24T05:43:27.449Z"
   },
   {
    "duration": 15,
    "start_time": "2021-06-24T05:43:32.380Z"
   },
   {
    "duration": 21,
    "start_time": "2021-06-24T05:43:54.973Z"
   },
   {
    "duration": 315,
    "start_time": "2021-06-24T05:51:13.951Z"
   },
   {
    "duration": 297,
    "start_time": "2021-06-24T05:51:30.035Z"
   },
   {
    "duration": 6,
    "start_time": "2021-06-24T05:51:37.733Z"
   },
   {
    "duration": 47,
    "start_time": "2021-06-24T05:51:37.742Z"
   },
   {
    "duration": 12,
    "start_time": "2021-06-24T05:51:37.792Z"
   },
   {
    "duration": 4,
    "start_time": "2021-06-24T05:51:37.806Z"
   },
   {
    "duration": 92,
    "start_time": "2021-06-24T05:51:37.813Z"
   },
   {
    "duration": 23,
    "start_time": "2021-06-24T05:51:37.908Z"
   },
   {
    "duration": 15113,
    "start_time": "2021-06-24T05:51:37.934Z"
   },
   {
    "duration": 2078,
    "start_time": "2021-06-24T05:51:53.050Z"
   },
   {
    "duration": 7,
    "start_time": "2021-06-24T05:51:55.132Z"
   },
   {
    "duration": 8,
    "start_time": "2021-06-24T05:51:55.142Z"
   },
   {
    "duration": 9,
    "start_time": "2021-06-24T05:52:12.066Z"
   },
   {
    "duration": 9,
    "start_time": "2021-06-24T05:52:12.750Z"
   },
   {
    "duration": 4,
    "start_time": "2021-06-24T05:52:13.413Z"
   },
   {
    "duration": 26,
    "start_time": "2021-06-24T05:52:14.740Z"
   },
   {
    "duration": 5,
    "start_time": "2021-06-24T05:52:16.928Z"
   },
   {
    "duration": 5,
    "start_time": "2021-06-24T05:52:18.451Z"
   },
   {
    "duration": 15,
    "start_time": "2021-06-24T05:52:20.412Z"
   },
   {
    "duration": 494,
    "start_time": "2021-06-24T05:52:21.698Z"
   },
   {
    "duration": 17,
    "start_time": "2021-06-24T05:52:23.301Z"
   },
   {
    "duration": 318,
    "start_time": "2021-06-24T05:55:20.666Z"
   },
   {
    "duration": 6,
    "start_time": "2021-06-24T05:55:32.431Z"
   },
   {
    "duration": 50,
    "start_time": "2021-06-24T05:55:32.440Z"
   },
   {
    "duration": 10,
    "start_time": "2021-06-24T05:55:32.494Z"
   },
   {
    "duration": 14,
    "start_time": "2021-06-24T05:55:32.507Z"
   },
   {
    "duration": 92,
    "start_time": "2021-06-24T05:55:32.523Z"
   },
   {
    "duration": 23,
    "start_time": "2021-06-24T05:55:32.618Z"
   },
   {
    "duration": 21600,
    "start_time": "2021-06-24T05:55:32.644Z"
   },
   {
    "duration": 1071,
    "start_time": "2021-06-24T06:03:24.435Z"
   },
   {
    "duration": 1438,
    "start_time": "2021-06-24T06:07:38.021Z"
   },
   {
    "duration": 1658,
    "start_time": "2021-06-24T06:08:19.351Z"
   },
   {
    "duration": 571,
    "start_time": "2021-06-24T06:09:40.176Z"
   },
   {
    "duration": 330,
    "start_time": "2021-06-24T06:10:43.521Z"
   },
   {
    "duration": 571,
    "start_time": "2021-06-24T06:10:54.494Z"
   },
   {
    "duration": 3,
    "start_time": "2021-06-24T06:14:16.210Z"
   },
   {
    "duration": 406,
    "start_time": "2021-06-24T06:15:22.232Z"
   },
   {
    "duration": 289,
    "start_time": "2021-06-24T06:23:54.729Z"
   },
   {
    "duration": 309,
    "start_time": "2021-06-24T06:23:58.863Z"
   },
   {
    "duration": 313,
    "start_time": "2021-06-24T06:24:14.563Z"
   },
   {
    "duration": 1875,
    "start_time": "2021-06-24T06:24:27.815Z"
   },
   {
    "duration": 3,
    "start_time": "2021-06-24T06:24:29.693Z"
   },
   {
    "duration": 9,
    "start_time": "2021-06-24T06:24:29.699Z"
   },
   {
    "duration": 260,
    "start_time": "2021-06-24T06:24:29.711Z"
   },
   {
    "duration": 35,
    "start_time": "2021-06-24T06:24:29.973Z"
   },
   {
    "duration": 1226,
    "start_time": "2021-06-24T06:24:30.011Z"
   },
   {
    "duration": 1154,
    "start_time": "2021-06-24T06:24:49.619Z"
   },
   {
    "duration": 2415,
    "start_time": "2021-06-24T06:26:34.167Z"
   },
   {
    "duration": 2513,
    "start_time": "2021-06-24T06:26:46.919Z"
   },
   {
    "duration": 2309,
    "start_time": "2021-06-24T06:27:33.485Z"
   },
   {
    "duration": 1104,
    "start_time": "2021-06-24T06:34:35.747Z"
   },
   {
    "duration": 6,
    "start_time": "2021-06-24T06:34:52.298Z"
   },
   {
    "duration": 6,
    "start_time": "2021-06-24T06:35:07.193Z"
   },
   {
    "duration": 1310,
    "start_time": "2021-06-24T06:35:40.932Z"
   },
   {
    "duration": 6,
    "start_time": "2021-06-24T06:37:01.139Z"
   },
   {
    "duration": 6,
    "start_time": "2021-06-24T06:37:02.174Z"
   },
   {
    "duration": 1142,
    "start_time": "2021-06-24T06:37:02.966Z"
   },
   {
    "duration": 1186,
    "start_time": "2021-06-24T06:37:09.169Z"
   },
   {
    "duration": 1066,
    "start_time": "2021-06-24T06:37:17.124Z"
   },
   {
    "duration": 1082,
    "start_time": "2021-06-24T06:37:38.282Z"
   },
   {
    "duration": 1198,
    "start_time": "2021-06-24T06:37:43.117Z"
   },
   {
    "duration": 6,
    "start_time": "2021-06-24T06:40:43.788Z"
   },
   {
    "duration": 6,
    "start_time": "2021-06-24T06:41:50.102Z"
   },
   {
    "duration": 974,
    "start_time": "2021-06-24T06:43:57.878Z"
   },
   {
    "duration": 950,
    "start_time": "2021-06-24T06:44:41.868Z"
   },
   {
    "duration": 5835,
    "start_time": "2021-06-24T06:44:52.145Z"
   },
   {
    "duration": 6338,
    "start_time": "2021-06-24T06:50:08.514Z"
   },
   {
    "duration": 6217,
    "start_time": "2021-06-24T06:50:37.500Z"
   },
   {
    "duration": 6315,
    "start_time": "2021-06-24T06:50:52.253Z"
   },
   {
    "duration": 5861,
    "start_time": "2021-06-24T06:57:54.797Z"
   },
   {
    "duration": 6855,
    "start_time": "2021-06-24T06:58:24.902Z"
   },
   {
    "duration": 6,
    "start_time": "2021-06-24T07:01:34.676Z"
   },
   {
    "duration": 46,
    "start_time": "2021-06-24T07:01:34.685Z"
   },
   {
    "duration": 10,
    "start_time": "2021-06-24T07:01:34.734Z"
   },
   {
    "duration": 7,
    "start_time": "2021-06-24T07:01:34.747Z"
   },
   {
    "duration": 96,
    "start_time": "2021-06-24T07:01:34.756Z"
   },
   {
    "duration": 36,
    "start_time": "2021-06-24T07:01:34.855Z"
   },
   {
    "duration": 21323,
    "start_time": "2021-06-24T07:01:34.894Z"
   },
   {
    "duration": 6620,
    "start_time": "2021-06-24T07:01:56.221Z"
   },
   {
    "duration": 313,
    "start_time": "2021-06-24T07:15:16.026Z"
   },
   {
    "duration": 325,
    "start_time": "2021-06-24T07:15:30.022Z"
   },
   {
    "duration": -99209,
    "start_time": "2021-06-24T07:17:09.559Z"
   },
   {
    "duration": 1820,
    "start_time": "2021-06-24T07:15:46.870Z"
   },
   {
    "duration": 2,
    "start_time": "2021-06-24T07:15:48.693Z"
   },
   {
    "duration": 8,
    "start_time": "2021-06-24T07:15:48.698Z"
   },
   {
    "duration": 277,
    "start_time": "2021-06-24T07:15:48.708Z"
   },
   {
    "duration": 33,
    "start_time": "2021-06-24T07:15:48.988Z"
   },
   {
    "duration": 608,
    "start_time": "2021-06-24T07:15:49.024Z"
   },
   {
    "duration": 2926,
    "start_time": "2021-06-24T07:15:49.635Z"
   },
   {
    "duration": 2276,
    "start_time": "2021-06-24T07:16:18.644Z"
   },
   {
    "duration": 3,
    "start_time": "2021-06-24T07:16:29.159Z"
   },
   {
    "duration": 1489,
    "start_time": "2021-06-24T07:24:51.437Z"
   },
   {
    "duration": 45,
    "start_time": "2021-06-24T07:24:52.929Z"
   },
   {
    "duration": 14,
    "start_time": "2021-06-24T07:24:52.977Z"
   },
   {
    "duration": 4,
    "start_time": "2021-06-24T07:24:52.994Z"
   },
   {
    "duration": 85,
    "start_time": "2021-06-24T07:24:53.001Z"
   },
   {
    "duration": 23,
    "start_time": "2021-06-24T07:24:53.089Z"
   },
   {
    "duration": 23044,
    "start_time": "2021-06-24T07:24:53.114Z"
   },
   {
    "duration": 6458,
    "start_time": "2021-06-24T07:25:16.162Z"
   },
   {
    "duration": 2070,
    "start_time": "2021-06-24T07:25:22.624Z"
   },
   {
    "duration": 7,
    "start_time": "2021-06-24T07:25:24.697Z"
   },
   {
    "duration": 13,
    "start_time": "2021-06-24T07:25:24.707Z"
   },
   {
    "duration": 13,
    "start_time": "2021-06-24T07:25:24.722Z"
   },
   {
    "duration": 48,
    "start_time": "2021-06-24T07:25:24.738Z"
   },
   {
    "duration": 5,
    "start_time": "2021-06-24T07:25:24.788Z"
   },
   {
    "duration": 29,
    "start_time": "2021-06-24T07:25:24.796Z"
   },
   {
    "duration": 59,
    "start_time": "2021-06-24T07:25:24.828Z"
   },
   {
    "duration": 100,
    "start_time": "2021-06-24T07:25:24.891Z"
   },
   {
    "duration": 23,
    "start_time": "2021-06-24T07:25:24.995Z"
   },
   {
    "duration": 543,
    "start_time": "2021-06-24T07:25:25.021Z"
   },
   {
    "duration": 27,
    "start_time": "2021-06-24T07:25:25.566Z"
   },
   {
    "duration": 774,
    "start_time": "2021-06-24T07:25:25.595Z"
   },
   {
    "duration": 132485,
    "start_time": "2021-06-24T07:25:26.371Z"
   },
   {
    "duration": 1833,
    "start_time": "2021-06-24T07:27:38.860Z"
   },
   {
    "duration": 3,
    "start_time": "2021-06-24T07:27:40.695Z"
   },
   {
    "duration": 10,
    "start_time": "2021-06-24T07:27:40.701Z"
   },
   {
    "duration": 272,
    "start_time": "2021-06-24T07:27:40.713Z"
   },
   {
    "duration": 25,
    "start_time": "2021-06-24T07:27:40.987Z"
   },
   {
    "duration": 3,
    "start_time": "2021-06-24T07:27:41.014Z"
   },
   {
    "duration": 1820,
    "start_time": "2021-06-24T07:48:26.870Z"
   },
   {
    "duration": 259,
    "start_time": "2021-06-24T07:48:30.392Z"
   },
   {
    "duration": 1760,
    "start_time": "2021-06-24T07:48:38.626Z"
   },
   {
    "duration": 250,
    "start_time": "2021-06-24T07:48:42.261Z"
   },
   {
    "duration": 624,
    "start_time": "2021-06-24T07:51:23.575Z"
   },
   {
    "duration": 313,
    "start_time": "2021-06-24T07:51:33.904Z"
   },
   {
    "duration": 5409,
    "start_time": "2021-06-24T07:51:56.082Z"
   },
   {
    "duration": 5688,
    "start_time": "2021-06-24T07:52:43.043Z"
   },
   {
    "duration": 4693,
    "start_time": "2021-06-24T07:54:25.681Z"
   },
   {
    "duration": 6957,
    "start_time": "2021-06-24T07:54:56.429Z"
   },
   {
    "duration": 7043,
    "start_time": "2021-06-24T07:58:54.492Z"
   },
   {
    "duration": 6873,
    "start_time": "2021-06-24T07:59:16.757Z"
   },
   {
    "duration": 6665,
    "start_time": "2021-06-24T07:59:43.702Z"
   },
   {
    "duration": 6874,
    "start_time": "2021-06-24T07:59:54.158Z"
   },
   {
    "duration": 8070,
    "start_time": "2021-06-24T08:02:38.064Z"
   },
   {
    "duration": 7284,
    "start_time": "2021-06-24T08:03:34.139Z"
   },
   {
    "duration": 2446,
    "start_time": "2021-06-24T08:11:19.856Z"
   },
   {
    "duration": 3,
    "start_time": "2021-06-24T08:11:33.171Z"
   },
   {
    "duration": 311,
    "start_time": "2021-06-24T08:14:42.643Z"
   },
   {
    "duration": 914,
    "start_time": "2021-06-24T08:15:16.110Z"
   },
   {
    "duration": 275,
    "start_time": "2021-06-24T08:15:27.497Z"
   },
   {
    "duration": 384,
    "start_time": "2021-06-24T08:21:54.818Z"
   },
   {
    "duration": 3,
    "start_time": "2021-06-24T08:22:28.130Z"
   },
   {
    "duration": 3,
    "start_time": "2021-06-24T08:28:27.476Z"
   },
   {
    "duration": 75101,
    "start_time": "2021-06-24T08:30:55.944Z"
   },
   {
    "duration": 54438,
    "start_time": "2021-06-24T08:39:02.467Z"
   },
   {
    "duration": 1529,
    "start_time": "2021-06-24T08:51:56.523Z"
   },
   {
    "duration": 46,
    "start_time": "2021-06-24T08:51:58.054Z"
   },
   {
    "duration": 10,
    "start_time": "2021-06-24T08:51:58.104Z"
   },
   {
    "duration": 3,
    "start_time": "2021-06-24T08:51:58.117Z"
   },
   {
    "duration": 105,
    "start_time": "2021-06-24T08:51:58.123Z"
   },
   {
    "duration": 22,
    "start_time": "2021-06-24T08:51:58.231Z"
   },
   {
    "duration": 21466,
    "start_time": "2021-06-24T08:51:58.256Z"
   },
   {
    "duration": 6487,
    "start_time": "2021-06-24T08:52:19.725Z"
   },
   {
    "duration": 2199,
    "start_time": "2021-06-24T08:52:26.215Z"
   },
   {
    "duration": 5,
    "start_time": "2021-06-24T08:52:28.416Z"
   },
   {
    "duration": 23,
    "start_time": "2021-06-24T08:52:28.423Z"
   },
   {
    "duration": 15,
    "start_time": "2021-06-24T08:52:28.449Z"
   },
   {
    "duration": 23,
    "start_time": "2021-06-24T08:52:28.466Z"
   },
   {
    "duration": 3,
    "start_time": "2021-06-24T08:52:28.491Z"
   },
   {
    "duration": 34,
    "start_time": "2021-06-24T08:52:28.497Z"
   },
   {
    "duration": 58,
    "start_time": "2021-06-24T08:52:28.533Z"
   },
   {
    "duration": 5,
    "start_time": "2021-06-24T08:52:28.685Z"
   },
   {
    "duration": 23,
    "start_time": "2021-06-24T08:52:28.693Z"
   },
   {
    "duration": 571,
    "start_time": "2021-06-24T08:52:28.719Z"
   },
   {
    "duration": 15,
    "start_time": "2021-06-24T08:52:29.292Z"
   },
   {
    "duration": 813,
    "start_time": "2021-06-24T08:52:29.310Z"
   },
   {
    "duration": 133187,
    "start_time": "2021-06-24T08:52:30.126Z"
   },
   {
    "duration": 1790,
    "start_time": "2021-06-24T08:54:43.318Z"
   },
   {
    "duration": 3,
    "start_time": "2021-06-24T08:54:45.113Z"
   },
   {
    "duration": 8,
    "start_time": "2021-06-24T08:54:45.119Z"
   },
   {
    "duration": 320,
    "start_time": "2021-06-24T08:54:45.129Z"
   },
   {
    "duration": 7017,
    "start_time": "2021-06-24T08:54:45.452Z"
   },
   {
    "duration": 38,
    "start_time": "2021-06-24T08:54:52.471Z"
   },
   {
    "duration": 3,
    "start_time": "2021-06-24T08:54:52.512Z"
   },
   {
    "duration": 7,
    "start_time": "2021-06-24T08:54:52.517Z"
   },
   {
    "duration": 1589,
    "start_time": "2021-06-25T07:01:12.465Z"
   },
   {
    "duration": 45,
    "start_time": "2021-06-25T07:01:14.057Z"
   },
   {
    "duration": 11,
    "start_time": "2021-06-25T07:01:14.105Z"
   },
   {
    "duration": 4,
    "start_time": "2021-06-25T07:01:14.119Z"
   },
   {
    "duration": 88,
    "start_time": "2021-06-25T07:01:14.125Z"
   },
   {
    "duration": 22,
    "start_time": "2021-06-25T07:01:14.216Z"
   },
   {
    "duration": 22184,
    "start_time": "2021-06-25T07:01:14.240Z"
   },
   {
    "duration": 6592,
    "start_time": "2021-06-25T07:01:36.428Z"
   },
   {
    "duration": 2210,
    "start_time": "2021-06-25T07:01:43.023Z"
   },
   {
    "duration": 5,
    "start_time": "2021-06-25T07:01:45.236Z"
   },
   {
    "duration": 11,
    "start_time": "2021-06-25T07:01:45.244Z"
   },
   {
    "duration": 30,
    "start_time": "2021-06-25T07:01:45.257Z"
   },
   {
    "duration": 27,
    "start_time": "2021-06-25T07:01:45.289Z"
   },
   {
    "duration": 4,
    "start_time": "2021-06-25T07:01:45.319Z"
   },
   {
    "duration": 36,
    "start_time": "2021-06-25T07:01:45.325Z"
   },
   {
    "duration": 24,
    "start_time": "2021-06-25T07:01:45.364Z"
   },
   {
    "duration": 8,
    "start_time": "2021-06-25T07:01:45.486Z"
   },
   {
    "duration": 17,
    "start_time": "2021-06-25T07:01:45.587Z"
   },
   {
    "duration": 532,
    "start_time": "2021-06-25T07:01:45.606Z"
   },
   {
    "duration": 15,
    "start_time": "2021-06-25T07:01:46.141Z"
   },
   {
    "duration": 823,
    "start_time": "2021-06-25T07:01:46.158Z"
   },
   {
    "duration": 134668,
    "start_time": "2021-06-25T07:01:46.986Z"
   },
   {
    "duration": 1228,
    "start_time": "2021-06-25T07:04:01.658Z"
   },
   {
    "duration": 3,
    "start_time": "2021-06-25T07:04:02.888Z"
   },
   {
    "duration": 11,
    "start_time": "2021-06-25T07:04:02.894Z"
   },
   {
    "duration": 280,
    "start_time": "2021-06-25T07:04:02.908Z"
   },
   {
    "duration": 7196,
    "start_time": "2021-06-25T07:04:03.190Z"
   },
   {
    "duration": 26,
    "start_time": "2021-06-25T07:04:10.388Z"
   },
   {
    "duration": 3,
    "start_time": "2021-06-25T07:04:10.416Z"
   },
   {
    "duration": 16,
    "start_time": "2021-06-25T07:04:10.421Z"
   },
   {
    "duration": 3,
    "start_time": "2021-06-25T07:19:51.750Z"
   },
   {
    "duration": 465,
    "start_time": "2021-06-25T07:32:36.676Z"
   },
   {
    "duration": 231,
    "start_time": "2021-06-25T07:32:43.585Z"
   },
   {
    "duration": 306,
    "start_time": "2021-06-25T07:33:29.721Z"
   },
   {
    "duration": 32191,
    "start_time": "2021-06-25T07:33:40.456Z"
   },
   {
    "duration": 32768,
    "start_time": "2021-06-25T07:34:49.691Z"
   },
   {
    "duration": 333,
    "start_time": "2021-06-25T07:35:45.343Z"
   },
   {
    "duration": 33109,
    "start_time": "2021-06-25T07:35:53.643Z"
   },
   {
    "duration": 6,
    "start_time": "2021-06-25T07:36:40.522Z"
   },
   {
    "duration": 302,
    "start_time": "2021-06-25T07:38:04.623Z"
   },
   {
    "duration": 32904,
    "start_time": "2021-06-25T07:38:14.265Z"
   },
   {
    "duration": 1546,
    "start_time": "2021-06-25T07:40:08.154Z"
   },
   {
    "duration": 214747,
    "start_time": "2021-06-25T07:40:20.408Z"
   },
   {
    "duration": 7,
    "start_time": "2021-06-25T07:53:53.250Z"
   },
   {
    "duration": 328,
    "start_time": "2021-06-25T07:54:03.718Z"
   },
   {
    "duration": 6,
    "start_time": "2021-06-25T07:54:08.636Z"
   },
   {
    "duration": 8019,
    "start_time": "2021-06-25T07:55:15.626Z"
   },
   {
    "duration": 7,
    "start_time": "2021-06-25T07:55:50.871Z"
   },
   {
    "duration": 7,
    "start_time": "2021-06-25T07:56:00.022Z"
   },
   {
    "duration": 292,
    "start_time": "2021-06-25T07:57:07.744Z"
   },
   {
    "duration": 291,
    "start_time": "2021-06-25T07:57:16.928Z"
   },
   {
    "duration": 337,
    "start_time": "2021-06-25T07:57:31.331Z"
   },
   {
    "duration": 370,
    "start_time": "2021-06-25T07:57:36.635Z"
   },
   {
    "duration": 317,
    "start_time": "2021-06-25T07:57:42.181Z"
   },
   {
    "duration": 4,
    "start_time": "2021-06-25T07:58:43.183Z"
   },
   {
    "duration": 3,
    "start_time": "2021-06-25T07:58:47.486Z"
   },
   {
    "duration": 5,
    "start_time": "2021-06-25T08:00:42.443Z"
   },
   {
    "duration": 1507,
    "start_time": "2021-06-25T08:01:03.326Z"
   },
   {
    "duration": 2063,
    "start_time": "2021-06-25T08:02:12.658Z"
   },
   {
    "duration": 2450,
    "start_time": "2021-06-25T08:03:01.382Z"
   },
   {
    "duration": 2297,
    "start_time": "2021-06-25T08:13:20.702Z"
   },
   {
    "duration": 2330,
    "start_time": "2021-06-25T08:13:32.452Z"
   },
   {
    "duration": 1237,
    "start_time": "2021-06-25T08:13:38.617Z"
   },
   {
    "duration": 2816,
    "start_time": "2021-06-25T08:13:58.538Z"
   },
   {
    "duration": 6,
    "start_time": "2021-06-25T08:15:26.727Z"
   },
   {
    "duration": 2201,
    "start_time": "2021-06-25T08:15:28.724Z"
   },
   {
    "duration": 914,
    "start_time": "2021-06-25T08:16:55.315Z"
   },
   {
    "duration": 2339,
    "start_time": "2021-06-25T08:17:18.107Z"
   },
   {
    "duration": 2221,
    "start_time": "2021-06-25T08:17:27.915Z"
   },
   {
    "duration": 2469,
    "start_time": "2021-06-25T08:17:44.326Z"
   },
   {
    "duration": 2194,
    "start_time": "2021-06-25T08:17:50.777Z"
   },
   {
    "duration": 2260,
    "start_time": "2021-06-25T08:18:01.159Z"
   },
   {
    "duration": 6,
    "start_time": "2021-06-25T08:19:09.791Z"
   },
   {
    "duration": 3267,
    "start_time": "2021-06-25T08:29:48.021Z"
   },
   {
    "duration": 3944,
    "start_time": "2021-06-25T08:30:05.986Z"
   },
   {
    "duration": 2827,
    "start_time": "2021-06-25T08:30:49.114Z"
   },
   {
    "duration": 3137,
    "start_time": "2021-06-25T08:31:13.428Z"
   },
   {
    "duration": 2797,
    "start_time": "2021-06-25T08:32:15.301Z"
   },
   {
    "duration": 2260,
    "start_time": "2021-06-25T08:32:21.689Z"
   },
   {
    "duration": 6,
    "start_time": "2021-06-25T08:32:38.687Z"
   },
   {
    "duration": 8,
    "start_time": "2021-06-25T08:32:38.695Z"
   },
   {
    "duration": 7,
    "start_time": "2021-06-25T08:32:38.706Z"
   },
   {
    "duration": 2449,
    "start_time": "2021-06-25T08:32:38.715Z"
   },
   {
    "duration": 34,
    "start_time": "2021-06-25T08:32:41.166Z"
   },
   {
    "duration": 3,
    "start_time": "2021-06-25T08:32:41.202Z"
   },
   {
    "duration": 6,
    "start_time": "2021-06-25T08:32:41.207Z"
   },
   {
    "duration": 2145,
    "start_time": "2021-06-25T08:33:23.079Z"
   },
   {
    "duration": 590,
    "start_time": "2021-06-25T08:34:58.016Z"
   },
   {
    "duration": 577,
    "start_time": "2021-06-25T08:36:06.845Z"
   },
   {
    "duration": 540,
    "start_time": "2021-06-25T08:36:12.909Z"
   },
   {
    "duration": 549,
    "start_time": "2021-06-25T08:36:20.926Z"
   },
   {
    "duration": 531,
    "start_time": "2021-06-25T08:36:28.547Z"
   },
   {
    "duration": 957,
    "start_time": "2021-06-25T08:37:51.410Z"
   },
   {
    "duration": 816,
    "start_time": "2021-06-25T08:40:17.541Z"
   },
   {
    "duration": 819,
    "start_time": "2021-06-25T08:40:30.501Z"
   },
   {
    "duration": 776,
    "start_time": "2021-06-25T08:40:40.432Z"
   },
   {
    "duration": 784,
    "start_time": "2021-06-25T08:40:50.066Z"
   },
   {
    "duration": 1030,
    "start_time": "2021-06-25T08:41:40.600Z"
   },
   {
    "duration": 792,
    "start_time": "2021-06-25T08:42:28.742Z"
   },
   {
    "duration": 775,
    "start_time": "2021-06-25T08:42:33.135Z"
   },
   {
    "duration": 777,
    "start_time": "2021-06-25T08:43:29.388Z"
   },
   {
    "duration": 874,
    "start_time": "2021-06-25T08:45:31.153Z"
   },
   {
    "duration": 977,
    "start_time": "2021-06-25T08:46:39.793Z"
   },
   {
    "duration": 552,
    "start_time": "2021-06-25T08:46:46.283Z"
   },
   {
    "duration": 6,
    "start_time": "2021-06-25T08:47:13.321Z"
   },
   {
    "duration": 1001,
    "start_time": "2021-06-25T08:47:16.654Z"
   },
   {
    "duration": 994,
    "start_time": "2021-06-25T08:54:18.675Z"
   },
   {
    "duration": 1072,
    "start_time": "2021-06-25T08:54:24.467Z"
   },
   {
    "duration": 953,
    "start_time": "2021-06-25T09:08:21.211Z"
   },
   {
    "duration": 206,
    "start_time": "2021-06-25T09:08:33.674Z"
   },
   {
    "duration": 301,
    "start_time": "2021-06-25T09:08:52.882Z"
   },
   {
    "duration": 879,
    "start_time": "2021-06-25T09:09:29.819Z"
   },
   {
    "duration": 309,
    "start_time": "2021-06-25T09:09:34.264Z"
   },
   {
    "duration": 3557,
    "start_time": "2021-06-25T09:09:47.545Z"
   },
   {
    "duration": 3696,
    "start_time": "2021-06-25T09:10:01.839Z"
   },
   {
    "duration": 1818,
    "start_time": "2021-06-25T09:35:59.488Z"
   },
   {
    "duration": 52,
    "start_time": "2021-06-25T09:36:01.310Z"
   },
   {
    "duration": 29,
    "start_time": "2021-06-25T09:36:01.365Z"
   },
   {
    "duration": 12,
    "start_time": "2021-06-25T09:36:01.397Z"
   },
   {
    "duration": 89,
    "start_time": "2021-06-25T09:36:01.412Z"
   },
   {
    "duration": 29,
    "start_time": "2021-06-25T09:36:01.503Z"
   },
   {
    "duration": 25281,
    "start_time": "2021-06-25T09:36:01.535Z"
   },
   {
    "duration": 7643,
    "start_time": "2021-06-25T09:36:26.821Z"
   },
   {
    "duration": 2229,
    "start_time": "2021-06-25T09:36:34.468Z"
   },
   {
    "duration": 8,
    "start_time": "2021-06-25T09:36:36.700Z"
   },
   {
    "duration": 18,
    "start_time": "2021-06-25T09:36:36.711Z"
   },
   {
    "duration": 15,
    "start_time": "2021-06-25T09:36:36.732Z"
   },
   {
    "duration": 43,
    "start_time": "2021-06-25T09:36:36.750Z"
   },
   {
    "duration": 3,
    "start_time": "2021-06-25T09:36:36.796Z"
   },
   {
    "duration": 44,
    "start_time": "2021-06-25T09:36:36.802Z"
   },
   {
    "duration": 146,
    "start_time": "2021-06-25T09:36:36.849Z"
   },
   {
    "duration": 91,
    "start_time": "2021-06-25T09:36:37.001Z"
   },
   {
    "duration": 102,
    "start_time": "2021-06-25T09:36:37.096Z"
   },
   {
    "duration": 671,
    "start_time": "2021-06-25T09:36:37.201Z"
   },
   {
    "duration": 23,
    "start_time": "2021-06-25T09:36:37.875Z"
   },
   {
    "duration": 845,
    "start_time": "2021-06-25T09:36:37.900Z"
   },
   {
    "duration": 156481,
    "start_time": "2021-06-25T09:36:38.748Z"
   },
   {
    "duration": 1376,
    "start_time": "2021-06-25T09:39:15.233Z"
   },
   {
    "duration": 79,
    "start_time": "2021-06-25T09:39:16.612Z"
   },
   {
    "duration": 25,
    "start_time": "2021-06-25T09:39:16.695Z"
   },
   {
    "duration": 335,
    "start_time": "2021-06-25T09:39:16.724Z"
   },
   {
    "duration": 4,
    "start_time": "2021-06-25T09:39:17.061Z"
   },
   {
    "duration": 18,
    "start_time": "2021-06-25T09:39:17.067Z"
   },
   {
    "duration": 19,
    "start_time": "2021-06-25T09:39:17.089Z"
   },
   {
    "duration": 2403,
    "start_time": "2021-06-25T09:39:17.111Z"
   },
   {
    "duration": 1094,
    "start_time": "2021-06-25T09:39:19.516Z"
   },
   {
    "duration": 26,
    "start_time": "2021-06-25T09:39:20.613Z"
   },
   {
    "duration": 205,
    "start_time": "2021-06-25T09:51:41.483Z"
   },
   {
    "duration": 2014,
    "start_time": "2021-06-25T09:54:25.153Z"
   },
   {
    "duration": 103,
    "start_time": "2021-06-25T09:59:05.696Z"
   },
   {
    "duration": 1624,
    "start_time": "2021-06-25T10:00:07.976Z"
   },
   {
    "duration": 45,
    "start_time": "2021-06-25T10:00:09.603Z"
   },
   {
    "duration": 10,
    "start_time": "2021-06-25T10:00:09.651Z"
   },
   {
    "duration": 3,
    "start_time": "2021-06-25T10:00:09.664Z"
   },
   {
    "duration": 86,
    "start_time": "2021-06-25T10:00:09.669Z"
   },
   {
    "duration": 45,
    "start_time": "2021-06-25T10:00:09.758Z"
   },
   {
    "duration": 22092,
    "start_time": "2021-06-25T10:00:09.805Z"
   },
   {
    "duration": 6686,
    "start_time": "2021-06-25T10:00:31.902Z"
   },
   {
    "duration": 2080,
    "start_time": "2021-06-25T10:00:38.592Z"
   },
   {
    "duration": 15,
    "start_time": "2021-06-25T10:00:40.675Z"
   },
   {
    "duration": 16,
    "start_time": "2021-06-25T10:00:40.692Z"
   },
   {
    "duration": 15,
    "start_time": "2021-06-25T10:00:40.711Z"
   },
   {
    "duration": 9,
    "start_time": "2021-06-25T10:00:40.729Z"
   },
   {
    "duration": 7,
    "start_time": "2021-06-25T10:00:40.741Z"
   },
   {
    "duration": 58,
    "start_time": "2021-06-25T10:00:40.750Z"
   },
   {
    "duration": 13,
    "start_time": "2021-06-25T10:00:40.810Z"
   },
   {
    "duration": 97,
    "start_time": "2021-06-25T10:00:40.889Z"
   },
   {
    "duration": 22,
    "start_time": "2021-06-25T10:00:40.988Z"
   },
   {
    "duration": 528,
    "start_time": "2021-06-25T10:00:41.012Z"
   },
   {
    "duration": 14,
    "start_time": "2021-06-25T10:00:41.543Z"
   },
   {
    "duration": 817,
    "start_time": "2021-06-25T10:00:41.560Z"
   },
   {
    "duration": 139975,
    "start_time": "2021-06-25T10:00:42.379Z"
   },
   {
    "duration": 1942,
    "start_time": "2021-06-25T10:03:02.359Z"
   },
   {
    "duration": 3,
    "start_time": "2021-06-25T10:03:04.304Z"
   },
   {
    "duration": 6,
    "start_time": "2021-06-25T10:03:04.310Z"
   },
   {
    "duration": 292,
    "start_time": "2021-06-25T10:03:04.318Z"
   },
   {
    "duration": 3,
    "start_time": "2021-06-25T10:03:04.613Z"
   },
   {
    "duration": 11,
    "start_time": "2021-06-25T10:03:04.618Z"
   },
   {
    "duration": 61,
    "start_time": "2021-06-25T10:03:04.632Z"
   },
   {
    "duration": 2216,
    "start_time": "2021-06-25T10:03:04.696Z"
   },
   {
    "duration": 1633,
    "start_time": "2021-06-25T10:03:06.915Z"
   },
   {
    "duration": 39,
    "start_time": "2021-06-25T10:03:08.551Z"
   },
   {
    "duration": 1652,
    "start_time": "2021-07-18T13:46:27.467Z"
   },
   {
    "duration": 460,
    "start_time": "2021-07-18T19:56:43.500Z"
   },
   {
    "duration": -95618,
    "start_time": "2021-07-18T19:58:19.581Z"
   },
   {
    "duration": -95623,
    "start_time": "2021-07-18T19:58:19.588Z"
   },
   {
    "duration": -95630,
    "start_time": "2021-07-18T19:58:19.596Z"
   },
   {
    "duration": -95634,
    "start_time": "2021-07-18T19:58:19.602Z"
   },
   {
    "duration": -95639,
    "start_time": "2021-07-18T19:58:19.608Z"
   },
   {
    "duration": -95642,
    "start_time": "2021-07-18T19:58:19.613Z"
   },
   {
    "duration": -95655,
    "start_time": "2021-07-18T19:58:19.627Z"
   },
   {
    "duration": 1540,
    "start_time": "2021-07-18T19:57:56.044Z"
   },
   {
    "duration": 70,
    "start_time": "2021-07-18T19:57:57.587Z"
   },
   {
    "duration": 13,
    "start_time": "2021-07-18T19:57:57.666Z"
   },
   {
    "duration": 5,
    "start_time": "2021-07-18T19:57:57.682Z"
   },
   {
    "duration": 71,
    "start_time": "2021-07-18T19:57:57.690Z"
   },
   {
    "duration": 24,
    "start_time": "2021-07-18T19:57:57.783Z"
   },
   {
    "duration": 21511,
    "start_time": "2021-07-18T19:57:57.811Z"
   },
   {
    "duration": 6112,
    "start_time": "2021-07-18T19:58:19.324Z"
   },
   {
    "duration": 2008,
    "start_time": "2021-07-18T19:58:25.439Z"
   },
   {
    "duration": 5,
    "start_time": "2021-07-18T19:58:27.450Z"
   },
   {
    "duration": 24,
    "start_time": "2021-07-18T19:58:27.457Z"
   },
   {
    "duration": 12,
    "start_time": "2021-07-18T19:58:27.484Z"
   },
   {
    "duration": 10,
    "start_time": "2021-07-18T19:58:27.498Z"
   },
   {
    "duration": 3,
    "start_time": "2021-07-18T19:58:27.510Z"
   },
   {
    "duration": 33,
    "start_time": "2021-07-18T19:58:27.515Z"
   },
   {
    "duration": 39,
    "start_time": "2021-07-18T19:58:27.550Z"
   },
   {
    "duration": 97,
    "start_time": "2021-07-18T19:58:27.592Z"
   },
   {
    "duration": 107,
    "start_time": "2021-07-18T19:58:27.692Z"
   },
   {
    "duration": 505,
    "start_time": "2021-07-18T19:58:27.802Z"
   },
   {
    "duration": 16,
    "start_time": "2021-07-18T19:58:28.309Z"
   },
   {
    "duration": 780,
    "start_time": "2021-07-18T19:58:28.328Z"
   },
   {
    "duration": 131845,
    "start_time": "2021-07-18T19:58:29.113Z"
   },
   {
    "duration": 1831,
    "start_time": "2021-07-18T20:00:40.961Z"
   },
   {
    "duration": 4,
    "start_time": "2021-07-18T20:00:42.794Z"
   },
   {
    "duration": 9,
    "start_time": "2021-07-18T20:00:42.800Z"
   },
   {
    "duration": 266,
    "start_time": "2021-07-18T20:00:42.811Z"
   },
   {
    "duration": 4,
    "start_time": "2021-07-18T20:00:43.079Z"
   },
   {
    "duration": 8,
    "start_time": "2021-07-18T20:00:43.085Z"
   },
   {
    "duration": 9,
    "start_time": "2021-07-18T20:00:43.095Z"
   },
   {
    "duration": 2168,
    "start_time": "2021-07-18T20:00:43.106Z"
   },
   {
    "duration": 1534,
    "start_time": "2021-07-18T20:00:45.282Z"
   },
   {
    "duration": 24,
    "start_time": "2021-07-18T20:00:46.819Z"
   },
   {
    "duration": 24,
    "start_time": "2021-07-18T20:02:16.946Z"
   }
  ],
  "kernelspec": {
   "display_name": "Python 3",
   "language": "python",
   "name": "python3"
  },
  "language_info": {
   "codemirror_mode": {
    "name": "ipython",
    "version": 3
   },
   "file_extension": ".py",
   "mimetype": "text/x-python",
   "name": "python",
   "nbconvert_exporter": "python",
   "pygments_lexer": "ipython3",
   "version": "3.8.8"
  },
  "toc": {
   "base_numbering": 1,
   "nav_menu": {},
   "number_sections": true,
   "sideBar": true,
   "skip_h1_title": true,
   "title_cell": "Table of Contents",
   "title_sidebar": "Contents",
   "toc_cell": false,
   "toc_position": {},
   "toc_section_display": true,
   "toc_window_display": false
  }
 },
 "nbformat": 4,
 "nbformat_minor": 2
}
