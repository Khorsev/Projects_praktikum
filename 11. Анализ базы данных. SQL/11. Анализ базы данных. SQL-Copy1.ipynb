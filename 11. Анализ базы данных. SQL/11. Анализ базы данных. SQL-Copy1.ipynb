{
 "cells": [
  {
   "cell_type": "markdown",
   "metadata": {},
   "source": [
    "Коронавирус застал мир врасплох, изменив привычный порядок вещей. В свободное время жители городов больше не выходят на улицу, не посещают кафе и торговые центры. Зато стало больше времени для книг. Это заметили стартаперы — и бросились создавать приложения для тех, кто любит читать.\n"
   ]
  },
  {
   "cell_type": "markdown",
   "metadata": {},
   "source": [
    "Наша компания решила быть на волне и купила крупный сервис для чтения книг по подписке. Наша первая задача как аналитика — проанализировать базу данных. В ней — информация о книгах, издательствах, авторах, а также пользовательские обзоры книг. Эти данные помогут сформулировать ценностное предложение для нового продукта."
   ]
  },
  {
   "cell_type": "markdown",
   "metadata": {},
   "source": [
    "# Цель исследования"
   ]
  },
  {
   "cell_type": "markdown",
   "metadata": {},
   "source": [
    "Наша цель - проанализировать  информацию о книгах, издательствах и авторах, а затем - выдать рекомендации коллегам"
   ]
  },
  {
   "cell_type": "markdown",
   "metadata": {},
   "source": [
    "## Загрузка и знакомство с данными"
   ]
  },
  {
   "cell_type": "markdown",
   "metadata": {},
   "source": [
    "Для начала импортируем нужные библиотеки и создадим подключение к БД"
   ]
  },
  {
   "cell_type": "code",
   "execution_count": 1,
   "metadata": {},
   "outputs": [],
   "source": [
    "import pandas as pd\n",
    "from sqlalchemy import create_engine "
   ]
  },
  {
   "cell_type": "code",
   "execution_count": 2,
   "metadata": {},
   "outputs": [],
   "source": [
    "db_config = {'user': 'praktikum_student',\n",
    "             'pwd': 'Sdf4$2;d-d30pp',\n",
    "             'host': 'rc1b-wcoijxj3yxfsf3fs.mdb.yandexcloud.net',\n",
    "             'port': 6432,\n",
    "             'db': 'data-analyst-final-project-db'}"
   ]
  },
  {
   "cell_type": "code",
   "execution_count": 3,
   "metadata": {},
   "outputs": [],
   "source": [
    "connection_string = 'postgresql://{}:{}@{}:{}/{}'.format(db_config['user'],\n",
    "db_config['pwd'],\n",
    "db_config['host'],\n",
    "db_config['port'],\n",
    "db_config['db']) "
   ]
  },
  {
   "cell_type": "code",
   "execution_count": 4,
   "metadata": {},
   "outputs": [],
   "source": [
    "engine = create_engine(connection_string, connect_args={'sslmode':'require'}) "
   ]
  },
  {
   "cell_type": "markdown",
   "metadata": {},
   "source": [
    "Теперь познакомиимся с данными, но сначала пропишем функцию, которая на вход будет принимать запрос, а выводить его результат"
   ]
  },
  {
   "cell_type": "code",
   "execution_count": 5,
   "metadata": {},
   "outputs": [],
   "source": [
    "def get(sql):\n",
    "    return pd.io.sql.read_sql(sql, con = engine)"
   ]
  },
  {
   "cell_type": "code",
   "execution_count": 6,
   "metadata": {},
   "outputs": [
    {
     "data": {
      "text/html": [
       "<div>\n",
       "<style scoped>\n",
       "    .dataframe tbody tr th:only-of-type {\n",
       "        vertical-align: middle;\n",
       "    }\n",
       "\n",
       "    .dataframe tbody tr th {\n",
       "        vertical-align: top;\n",
       "    }\n",
       "\n",
       "    .dataframe thead th {\n",
       "        text-align: right;\n",
       "    }\n",
       "</style>\n",
       "<table border=\"1\" class=\"dataframe\">\n",
       "  <thead>\n",
       "    <tr style=\"text-align: right;\">\n",
       "      <th></th>\n",
       "      <th>book_id</th>\n",
       "      <th>author_id</th>\n",
       "      <th>title</th>\n",
       "      <th>num_pages</th>\n",
       "      <th>publication_date</th>\n",
       "      <th>publisher_id</th>\n",
       "    </tr>\n",
       "  </thead>\n",
       "  <tbody>\n",
       "    <tr>\n",
       "      <th>0</th>\n",
       "      <td>1</td>\n",
       "      <td>546</td>\n",
       "      <td>'Salem's Lot</td>\n",
       "      <td>594</td>\n",
       "      <td>2005-11-01</td>\n",
       "      <td>93</td>\n",
       "    </tr>\n",
       "    <tr>\n",
       "      <th>1</th>\n",
       "      <td>2</td>\n",
       "      <td>465</td>\n",
       "      <td>1 000 Places to See Before You Die</td>\n",
       "      <td>992</td>\n",
       "      <td>2003-05-22</td>\n",
       "      <td>336</td>\n",
       "    </tr>\n",
       "    <tr>\n",
       "      <th>2</th>\n",
       "      <td>3</td>\n",
       "      <td>407</td>\n",
       "      <td>13 Little Blue Envelopes (Little Blue Envelope...</td>\n",
       "      <td>322</td>\n",
       "      <td>2010-12-21</td>\n",
       "      <td>135</td>\n",
       "    </tr>\n",
       "    <tr>\n",
       "      <th>3</th>\n",
       "      <td>4</td>\n",
       "      <td>82</td>\n",
       "      <td>1491: New Revelations of the Americas Before C...</td>\n",
       "      <td>541</td>\n",
       "      <td>2006-10-10</td>\n",
       "      <td>309</td>\n",
       "    </tr>\n",
       "    <tr>\n",
       "      <th>4</th>\n",
       "      <td>5</td>\n",
       "      <td>125</td>\n",
       "      <td>1776</td>\n",
       "      <td>386</td>\n",
       "      <td>2006-07-04</td>\n",
       "      <td>268</td>\n",
       "    </tr>\n",
       "  </tbody>\n",
       "</table>\n",
       "</div>"
      ],
      "text/plain": [
       "   book_id  author_id                                              title  \\\n",
       "0        1        546                                       'Salem's Lot   \n",
       "1        2        465                 1 000 Places to See Before You Die   \n",
       "2        3        407  13 Little Blue Envelopes (Little Blue Envelope...   \n",
       "3        4         82  1491: New Revelations of the Americas Before C...   \n",
       "4        5        125                                               1776   \n",
       "\n",
       "   num_pages publication_date  publisher_id  \n",
       "0        594       2005-11-01            93  \n",
       "1        992       2003-05-22           336  \n",
       "2        322       2010-12-21           135  \n",
       "3        541       2006-10-10           309  \n",
       "4        386       2006-07-04           268  "
      ]
     },
     "execution_count": 6,
     "metadata": {},
     "output_type": "execute_result"
    }
   ],
   "source": [
    "tbooks = (\n",
    "\"\"\"\n",
    "    SELECT * FROM books\n",
    "\"\"\")\n",
    "get(tbooks).head()"
   ]
  },
  {
   "cell_type": "code",
   "execution_count": 7,
   "metadata": {},
   "outputs": [
    {
     "data": {
      "text/html": [
       "<div>\n",
       "<style scoped>\n",
       "    .dataframe tbody tr th:only-of-type {\n",
       "        vertical-align: middle;\n",
       "    }\n",
       "\n",
       "    .dataframe tbody tr th {\n",
       "        vertical-align: top;\n",
       "    }\n",
       "\n",
       "    .dataframe thead th {\n",
       "        text-align: right;\n",
       "    }\n",
       "</style>\n",
       "<table border=\"1\" class=\"dataframe\">\n",
       "  <thead>\n",
       "    <tr style=\"text-align: right;\">\n",
       "      <th></th>\n",
       "      <th>author_id</th>\n",
       "      <th>author</th>\n",
       "    </tr>\n",
       "  </thead>\n",
       "  <tbody>\n",
       "    <tr>\n",
       "      <th>0</th>\n",
       "      <td>1</td>\n",
       "      <td>A.S. Byatt</td>\n",
       "    </tr>\n",
       "    <tr>\n",
       "      <th>1</th>\n",
       "      <td>2</td>\n",
       "      <td>Aesop/Laura Harris/Laura Gibbs</td>\n",
       "    </tr>\n",
       "    <tr>\n",
       "      <th>2</th>\n",
       "      <td>3</td>\n",
       "      <td>Agatha Christie</td>\n",
       "    </tr>\n",
       "    <tr>\n",
       "      <th>3</th>\n",
       "      <td>4</td>\n",
       "      <td>Alan Brennert</td>\n",
       "    </tr>\n",
       "    <tr>\n",
       "      <th>4</th>\n",
       "      <td>5</td>\n",
       "      <td>Alan Moore/David   Lloyd</td>\n",
       "    </tr>\n",
       "  </tbody>\n",
       "</table>\n",
       "</div>"
      ],
      "text/plain": [
       "   author_id                          author\n",
       "0          1                      A.S. Byatt\n",
       "1          2  Aesop/Laura Harris/Laura Gibbs\n",
       "2          3                 Agatha Christie\n",
       "3          4                   Alan Brennert\n",
       "4          5        Alan Moore/David   Lloyd"
      ]
     },
     "execution_count": 7,
     "metadata": {},
     "output_type": "execute_result"
    }
   ],
   "source": [
    "tauthors = (\n",
    "\"\"\"\n",
    "    SELECT * FROM authors\n",
    "\"\"\")\n",
    "get(tauthors).head()"
   ]
  },
  {
   "cell_type": "code",
   "execution_count": 8,
   "metadata": {},
   "outputs": [
    {
     "data": {
      "text/html": [
       "<div>\n",
       "<style scoped>\n",
       "    .dataframe tbody tr th:only-of-type {\n",
       "        vertical-align: middle;\n",
       "    }\n",
       "\n",
       "    .dataframe tbody tr th {\n",
       "        vertical-align: top;\n",
       "    }\n",
       "\n",
       "    .dataframe thead th {\n",
       "        text-align: right;\n",
       "    }\n",
       "</style>\n",
       "<table border=\"1\" class=\"dataframe\">\n",
       "  <thead>\n",
       "    <tr style=\"text-align: right;\">\n",
       "      <th></th>\n",
       "      <th>publisher_id</th>\n",
       "      <th>publisher</th>\n",
       "    </tr>\n",
       "  </thead>\n",
       "  <tbody>\n",
       "    <tr>\n",
       "      <th>0</th>\n",
       "      <td>1</td>\n",
       "      <td>Ace</td>\n",
       "    </tr>\n",
       "    <tr>\n",
       "      <th>1</th>\n",
       "      <td>2</td>\n",
       "      <td>Ace Book</td>\n",
       "    </tr>\n",
       "    <tr>\n",
       "      <th>2</th>\n",
       "      <td>3</td>\n",
       "      <td>Ace Books</td>\n",
       "    </tr>\n",
       "    <tr>\n",
       "      <th>3</th>\n",
       "      <td>4</td>\n",
       "      <td>Ace Hardcover</td>\n",
       "    </tr>\n",
       "    <tr>\n",
       "      <th>4</th>\n",
       "      <td>5</td>\n",
       "      <td>Addison Wesley Publishing Company</td>\n",
       "    </tr>\n",
       "  </tbody>\n",
       "</table>\n",
       "</div>"
      ],
      "text/plain": [
       "   publisher_id                          publisher\n",
       "0             1                                Ace\n",
       "1             2                           Ace Book\n",
       "2             3                          Ace Books\n",
       "3             4                      Ace Hardcover\n",
       "4             5  Addison Wesley Publishing Company"
      ]
     },
     "execution_count": 8,
     "metadata": {},
     "output_type": "execute_result"
    }
   ],
   "source": [
    "tpublishers = (\n",
    "\"\"\"\n",
    "    SELECT * FROM publishers\n",
    "\"\"\")\n",
    "get(tpublishers).head()"
   ]
  },
  {
   "cell_type": "code",
   "execution_count": 9,
   "metadata": {},
   "outputs": [
    {
     "data": {
      "text/html": [
       "<div>\n",
       "<style scoped>\n",
       "    .dataframe tbody tr th:only-of-type {\n",
       "        vertical-align: middle;\n",
       "    }\n",
       "\n",
       "    .dataframe tbody tr th {\n",
       "        vertical-align: top;\n",
       "    }\n",
       "\n",
       "    .dataframe thead th {\n",
       "        text-align: right;\n",
       "    }\n",
       "</style>\n",
       "<table border=\"1\" class=\"dataframe\">\n",
       "  <thead>\n",
       "    <tr style=\"text-align: right;\">\n",
       "      <th></th>\n",
       "      <th>rating_id</th>\n",
       "      <th>book_id</th>\n",
       "      <th>username</th>\n",
       "      <th>rating</th>\n",
       "    </tr>\n",
       "  </thead>\n",
       "  <tbody>\n",
       "    <tr>\n",
       "      <th>0</th>\n",
       "      <td>1</td>\n",
       "      <td>1</td>\n",
       "      <td>ryanfranco</td>\n",
       "      <td>4</td>\n",
       "    </tr>\n",
       "    <tr>\n",
       "      <th>1</th>\n",
       "      <td>2</td>\n",
       "      <td>1</td>\n",
       "      <td>grantpatricia</td>\n",
       "      <td>2</td>\n",
       "    </tr>\n",
       "    <tr>\n",
       "      <th>2</th>\n",
       "      <td>3</td>\n",
       "      <td>1</td>\n",
       "      <td>brandtandrea</td>\n",
       "      <td>5</td>\n",
       "    </tr>\n",
       "    <tr>\n",
       "      <th>3</th>\n",
       "      <td>4</td>\n",
       "      <td>2</td>\n",
       "      <td>lorichen</td>\n",
       "      <td>3</td>\n",
       "    </tr>\n",
       "    <tr>\n",
       "      <th>4</th>\n",
       "      <td>5</td>\n",
       "      <td>2</td>\n",
       "      <td>mariokeller</td>\n",
       "      <td>2</td>\n",
       "    </tr>\n",
       "  </tbody>\n",
       "</table>\n",
       "</div>"
      ],
      "text/plain": [
       "   rating_id  book_id       username  rating\n",
       "0          1        1     ryanfranco       4\n",
       "1          2        1  grantpatricia       2\n",
       "2          3        1   brandtandrea       5\n",
       "3          4        2       lorichen       3\n",
       "4          5        2    mariokeller       2"
      ]
     },
     "execution_count": 9,
     "metadata": {},
     "output_type": "execute_result"
    }
   ],
   "source": [
    "tratings = (\n",
    "\"\"\"\n",
    "    SELECT * FROM ratings\n",
    "\"\"\")\n",
    "get(tratings).head()"
   ]
  },
  {
   "cell_type": "code",
   "execution_count": 10,
   "metadata": {},
   "outputs": [
    {
     "data": {
      "text/html": [
       "<div>\n",
       "<style scoped>\n",
       "    .dataframe tbody tr th:only-of-type {\n",
       "        vertical-align: middle;\n",
       "    }\n",
       "\n",
       "    .dataframe tbody tr th {\n",
       "        vertical-align: top;\n",
       "    }\n",
       "\n",
       "    .dataframe thead th {\n",
       "        text-align: right;\n",
       "    }\n",
       "</style>\n",
       "<table border=\"1\" class=\"dataframe\">\n",
       "  <thead>\n",
       "    <tr style=\"text-align: right;\">\n",
       "      <th></th>\n",
       "      <th>review_id</th>\n",
       "      <th>book_id</th>\n",
       "      <th>username</th>\n",
       "      <th>text</th>\n",
       "    </tr>\n",
       "  </thead>\n",
       "  <tbody>\n",
       "    <tr>\n",
       "      <th>0</th>\n",
       "      <td>1</td>\n",
       "      <td>1</td>\n",
       "      <td>brandtandrea</td>\n",
       "      <td>Mention society tell send professor analysis. ...</td>\n",
       "    </tr>\n",
       "    <tr>\n",
       "      <th>1</th>\n",
       "      <td>2</td>\n",
       "      <td>1</td>\n",
       "      <td>ryanfranco</td>\n",
       "      <td>Foot glass pretty audience hit themselves. Amo...</td>\n",
       "    </tr>\n",
       "    <tr>\n",
       "      <th>2</th>\n",
       "      <td>3</td>\n",
       "      <td>2</td>\n",
       "      <td>lorichen</td>\n",
       "      <td>Listen treat keep worry. Miss husband tax but ...</td>\n",
       "    </tr>\n",
       "    <tr>\n",
       "      <th>3</th>\n",
       "      <td>4</td>\n",
       "      <td>3</td>\n",
       "      <td>johnsonamanda</td>\n",
       "      <td>Finally month interesting blue could nature cu...</td>\n",
       "    </tr>\n",
       "    <tr>\n",
       "      <th>4</th>\n",
       "      <td>5</td>\n",
       "      <td>3</td>\n",
       "      <td>scotttamara</td>\n",
       "      <td>Nation purpose heavy give wait song will. List...</td>\n",
       "    </tr>\n",
       "  </tbody>\n",
       "</table>\n",
       "</div>"
      ],
      "text/plain": [
       "   review_id  book_id       username  \\\n",
       "0          1        1   brandtandrea   \n",
       "1          2        1     ryanfranco   \n",
       "2          3        2       lorichen   \n",
       "3          4        3  johnsonamanda   \n",
       "4          5        3    scotttamara   \n",
       "\n",
       "                                                text  \n",
       "0  Mention society tell send professor analysis. ...  \n",
       "1  Foot glass pretty audience hit themselves. Amo...  \n",
       "2  Listen treat keep worry. Miss husband tax but ...  \n",
       "3  Finally month interesting blue could nature cu...  \n",
       "4  Nation purpose heavy give wait song will. List...  "
      ]
     },
     "execution_count": 10,
     "metadata": {},
     "output_type": "execute_result"
    }
   ],
   "source": [
    "treviews = (\n",
    "\"\"\"\n",
    "    SELECT * FROM reviews \n",
    "\"\"\")\n",
    "get(treviews).head()"
   ]
  },
  {
   "cell_type": "markdown",
   "metadata": {},
   "source": [
    "Для исследования было получено 5 таблиц, которые содержат информацию о книгах, авторах, издательствах, а таже о пользователях, которые оставили свои оценки и отзывы по книгам. Дополнительно имеем схему данных, на которой предсставлены взаимоотношения между таблицами (ссылка на схему https://drive.google.com/file/d/1drMk6imrM1DTnpOZhb1txoOszHUQ3Fii/view?usp=sharing)"
   ]
  },
  {
   "cell_type": "markdown",
   "metadata": {},
   "source": [
    "## Количество вышедших после 1 января 2000 года книг"
   ]
  },
  {
   "cell_type": "code",
   "execution_count": 11,
   "metadata": {
    "scrolled": false
   },
   "outputs": [
    {
     "data": {
      "text/html": [
       "<div>\n",
       "<style scoped>\n",
       "    .dataframe tbody tr th:only-of-type {\n",
       "        vertical-align: middle;\n",
       "    }\n",
       "\n",
       "    .dataframe tbody tr th {\n",
       "        vertical-align: top;\n",
       "    }\n",
       "\n",
       "    .dataframe thead th {\n",
       "        text-align: right;\n",
       "    }\n",
       "</style>\n",
       "<table border=\"1\" class=\"dataframe\">\n",
       "  <thead>\n",
       "    <tr style=\"text-align: right;\">\n",
       "      <th></th>\n",
       "      <th>book_cnt</th>\n",
       "    </tr>\n",
       "  </thead>\n",
       "  <tbody>\n",
       "    <tr>\n",
       "      <th>0</th>\n",
       "      <td>821</td>\n",
       "    </tr>\n",
       "  </tbody>\n",
       "</table>\n",
       "</div>"
      ],
      "text/plain": [
       "   book_cnt\n",
       "0       821"
      ]
     },
     "execution_count": 11,
     "metadata": {},
     "output_type": "execute_result"
    }
   ],
   "source": [
    "query1 = (\n",
    "\"\"\"\n",
    "    SELECT COUNT(book_id) AS book_cnt\n",
    "    FROM books\n",
    "    WHERE publication_date >= '2000-01-01'\n",
    "\"\"\"\n",
    ")\n",
    "get(query1)"
   ]
  },
  {
   "cell_type": "markdown",
   "metadata": {},
   "source": [
    "Если бы у нас были данные по выручке, которую сгенерировали продажи книг, мы могли бы провести дополнительный анализ. А так можем только сказать, что в среднем за 21 год сервис выпускал по 39 уникальных книг. Имеем ввиду уникальное сочетание автора и названия, без учета количества экземпляров"
   ]
  },
  {
   "cell_type": "markdown",
   "metadata": {},
   "source": [
    "## Количество обзоров и средняя оценка для каждой книги "
   ]
  },
  {
   "cell_type": "code",
   "execution_count": 12,
   "metadata": {},
   "outputs": [
    {
     "data": {
      "text/html": [
       "<div>\n",
       "<style scoped>\n",
       "    .dataframe tbody tr th:only-of-type {\n",
       "        vertical-align: middle;\n",
       "    }\n",
       "\n",
       "    .dataframe tbody tr th {\n",
       "        vertical-align: top;\n",
       "    }\n",
       "\n",
       "    .dataframe thead th {\n",
       "        text-align: right;\n",
       "    }\n",
       "</style>\n",
       "<table border=\"1\" class=\"dataframe\">\n",
       "  <thead>\n",
       "    <tr style=\"text-align: right;\">\n",
       "      <th></th>\n",
       "      <th>book_id</th>\n",
       "      <th>title</th>\n",
       "      <th>review_cnt</th>\n",
       "      <th>average_rating</th>\n",
       "    </tr>\n",
       "  </thead>\n",
       "  <tbody>\n",
       "    <tr>\n",
       "      <th>0</th>\n",
       "      <td>86</td>\n",
       "      <td>Arrows of the Queen (Heralds of Valdemar  #1)</td>\n",
       "      <td>2</td>\n",
       "      <td>5.00</td>\n",
       "    </tr>\n",
       "    <tr>\n",
       "      <th>1</th>\n",
       "      <td>901</td>\n",
       "      <td>The Walking Dead  Book One (The Walking Dead #...</td>\n",
       "      <td>2</td>\n",
       "      <td>5.00</td>\n",
       "    </tr>\n",
       "    <tr>\n",
       "      <th>2</th>\n",
       "      <td>390</td>\n",
       "      <td>Light in August</td>\n",
       "      <td>2</td>\n",
       "      <td>5.00</td>\n",
       "    </tr>\n",
       "    <tr>\n",
       "      <th>3</th>\n",
       "      <td>972</td>\n",
       "      <td>Wherever You Go  There You Are: Mindfulness Me...</td>\n",
       "      <td>2</td>\n",
       "      <td>5.00</td>\n",
       "    </tr>\n",
       "    <tr>\n",
       "      <th>4</th>\n",
       "      <td>136</td>\n",
       "      <td>Captivating: Unveiling the Mystery of a Woman'...</td>\n",
       "      <td>2</td>\n",
       "      <td>5.00</td>\n",
       "    </tr>\n",
       "    <tr>\n",
       "      <th>...</th>\n",
       "      <td>...</td>\n",
       "      <td>...</td>\n",
       "      <td>...</td>\n",
       "      <td>...</td>\n",
       "    </tr>\n",
       "    <tr>\n",
       "      <th>995</th>\n",
       "      <td>915</td>\n",
       "      <td>The World Is Flat: A Brief History of the Twen...</td>\n",
       "      <td>3</td>\n",
       "      <td>2.25</td>\n",
       "    </tr>\n",
       "    <tr>\n",
       "      <th>996</th>\n",
       "      <td>316</td>\n",
       "      <td>His Excellency: George Washington</td>\n",
       "      <td>2</td>\n",
       "      <td>2.00</td>\n",
       "    </tr>\n",
       "    <tr>\n",
       "      <th>997</th>\n",
       "      <td>202</td>\n",
       "      <td>Drowning Ruth</td>\n",
       "      <td>3</td>\n",
       "      <td>2.00</td>\n",
       "    </tr>\n",
       "    <tr>\n",
       "      <th>998</th>\n",
       "      <td>371</td>\n",
       "      <td>Junky</td>\n",
       "      <td>2</td>\n",
       "      <td>2.00</td>\n",
       "    </tr>\n",
       "    <tr>\n",
       "      <th>999</th>\n",
       "      <td>303</td>\n",
       "      <td>Harvesting the Heart</td>\n",
       "      <td>2</td>\n",
       "      <td>1.50</td>\n",
       "    </tr>\n",
       "  </tbody>\n",
       "</table>\n",
       "<p>1000 rows × 4 columns</p>\n",
       "</div>"
      ],
      "text/plain": [
       "     book_id                                              title  review_cnt  \\\n",
       "0         86      Arrows of the Queen (Heralds of Valdemar  #1)           2   \n",
       "1        901  The Walking Dead  Book One (The Walking Dead #...           2   \n",
       "2        390                                    Light in August           2   \n",
       "3        972  Wherever You Go  There You Are: Mindfulness Me...           2   \n",
       "4        136  Captivating: Unveiling the Mystery of a Woman'...           2   \n",
       "..       ...                                                ...         ...   \n",
       "995      915  The World Is Flat: A Brief History of the Twen...           3   \n",
       "996      316                  His Excellency: George Washington           2   \n",
       "997      202                                      Drowning Ruth           3   \n",
       "998      371                                              Junky           2   \n",
       "999      303                               Harvesting the Heart           2   \n",
       "\n",
       "     average_rating  \n",
       "0              5.00  \n",
       "1              5.00  \n",
       "2              5.00  \n",
       "3              5.00  \n",
       "4              5.00  \n",
       "..              ...  \n",
       "995            2.25  \n",
       "996            2.00  \n",
       "997            2.00  \n",
       "998            2.00  \n",
       "999            1.50  \n",
       "\n",
       "[1000 rows x 4 columns]"
      ]
     },
     "execution_count": 12,
     "metadata": {},
     "output_type": "execute_result"
    }
   ],
   "source": [
    "query2 = (\n",
    "\"\"\"\n",
    "    SELECT\n",
    "        books.book_id AS book_id,\n",
    "        books.title,\n",
    "        COUNT(DISTINCT(review_id)) AS review_cnt,\n",
    "        AVG(rating) AS average_rating\n",
    "    FROM \n",
    "        books\n",
    "        LEFT JOIN ratings ON ratings.book_id = books.book_id\n",
    "        LEFT JOIN reviews ON reviews.book_id = books.book_id\n",
    "    GROUP BY\n",
    "        books.book_id,\n",
    "        books.title\n",
    "    ORDER BY\n",
    "        average_rating DESC\n",
    "\"\"\"\n",
    ")\n",
    "get(query2)"
   ]
  },
  {
   "cell_type": "markdown",
   "metadata": {},
   "source": [
    "Как вариант, можем предложить коллегам издать дополнительную информацию про те книги, которые набрали максимальные средние оценки. А затем предложить ее нашим читателям"
   ]
  },
  {
   "cell_type": "markdown",
   "metadata": {},
   "source": [
    "## Издательства, которые выпустили наибольшее число книг толще 50 страниц "
   ]
  },
  {
   "cell_type": "code",
   "execution_count": 13,
   "metadata": {
    "scrolled": true
   },
   "outputs": [
    {
     "data": {
      "text/html": [
       "<div>\n",
       "<style scoped>\n",
       "    .dataframe tbody tr th:only-of-type {\n",
       "        vertical-align: middle;\n",
       "    }\n",
       "\n",
       "    .dataframe tbody tr th {\n",
       "        vertical-align: top;\n",
       "    }\n",
       "\n",
       "    .dataframe thead th {\n",
       "        text-align: right;\n",
       "    }\n",
       "</style>\n",
       "<table border=\"1\" class=\"dataframe\">\n",
       "  <thead>\n",
       "    <tr style=\"text-align: right;\">\n",
       "      <th></th>\n",
       "      <th>publisher</th>\n",
       "      <th>cnt</th>\n",
       "    </tr>\n",
       "  </thead>\n",
       "  <tbody>\n",
       "    <tr>\n",
       "      <th>0</th>\n",
       "      <td>Penguin Books</td>\n",
       "      <td>42</td>\n",
       "    </tr>\n",
       "    <tr>\n",
       "      <th>1</th>\n",
       "      <td>Vintage</td>\n",
       "      <td>31</td>\n",
       "    </tr>\n",
       "    <tr>\n",
       "      <th>2</th>\n",
       "      <td>Grand Central Publishing</td>\n",
       "      <td>25</td>\n",
       "    </tr>\n",
       "    <tr>\n",
       "      <th>3</th>\n",
       "      <td>Penguin Classics</td>\n",
       "      <td>24</td>\n",
       "    </tr>\n",
       "    <tr>\n",
       "      <th>4</th>\n",
       "      <td>Bantam</td>\n",
       "      <td>19</td>\n",
       "    </tr>\n",
       "  </tbody>\n",
       "</table>\n",
       "</div>"
      ],
      "text/plain": [
       "                  publisher  cnt\n",
       "0             Penguin Books   42\n",
       "1                   Vintage   31\n",
       "2  Grand Central Publishing   25\n",
       "3          Penguin Classics   24\n",
       "4                    Bantam   19"
      ]
     },
     "execution_count": 13,
     "metadata": {},
     "output_type": "execute_result"
    }
   ],
   "source": [
    "query3 = (\n",
    "\"\"\"\n",
    "    SELECT\n",
    "        publisher,\n",
    "        COUNT(title) AS cnt\n",
    "    FROM \n",
    "        books\n",
    "        LEFT JOIN publishers ON publishers.publisher_id = books.publisher_id\n",
    "    WHERE num_pages > 50\n",
    "    GROUP BY\n",
    "        publisher\n",
    "    ORDER BY \n",
    "        cnt DESC\n",
    "    LIMIT\n",
    "        5\n",
    "        \n",
    "\"\"\"\n",
    ")\n",
    "get(query3)"
   ]
  },
  {
   "cell_type": "markdown",
   "metadata": {},
   "source": [
    "Однозначно стоит начать переговоры с самыми популярными издательствами, чтобы иметь право распространять те новинки, которые у них появляются"
   ]
  },
  {
   "cell_type": "markdown",
   "metadata": {},
   "source": [
    "## Авторы с самой высокой средней оценкой книг (учитываем только книги с 50 и более оценками)"
   ]
  },
  {
   "cell_type": "code",
   "execution_count": 14,
   "metadata": {},
   "outputs": [
    {
     "data": {
      "text/html": [
       "<div>\n",
       "<style scoped>\n",
       "    .dataframe tbody tr th:only-of-type {\n",
       "        vertical-align: middle;\n",
       "    }\n",
       "\n",
       "    .dataframe tbody tr th {\n",
       "        vertical-align: top;\n",
       "    }\n",
       "\n",
       "    .dataframe thead th {\n",
       "        text-align: right;\n",
       "    }\n",
       "</style>\n",
       "<table border=\"1\" class=\"dataframe\">\n",
       "  <thead>\n",
       "    <tr style=\"text-align: right;\">\n",
       "      <th></th>\n",
       "      <th>author</th>\n",
       "      <th>avg_rating</th>\n",
       "    </tr>\n",
       "  </thead>\n",
       "  <tbody>\n",
       "    <tr>\n",
       "      <th>0</th>\n",
       "      <td>J.K. Rowling/Mary GrandPré</td>\n",
       "      <td>4.283844</td>\n",
       "    </tr>\n",
       "    <tr>\n",
       "      <th>1</th>\n",
       "      <td>Markus Zusak/Cao Xuân Việt Khương</td>\n",
       "      <td>4.264151</td>\n",
       "    </tr>\n",
       "    <tr>\n",
       "      <th>2</th>\n",
       "      <td>J.R.R. Tolkien</td>\n",
       "      <td>4.258446</td>\n",
       "    </tr>\n",
       "    <tr>\n",
       "      <th>3</th>\n",
       "      <td>Louisa May Alcott</td>\n",
       "      <td>4.192308</td>\n",
       "    </tr>\n",
       "    <tr>\n",
       "      <th>4</th>\n",
       "      <td>Arthur Golden</td>\n",
       "      <td>4.107143</td>\n",
       "    </tr>\n",
       "  </tbody>\n",
       "</table>\n",
       "</div>"
      ],
      "text/plain": [
       "                              author  avg_rating\n",
       "0         J.K. Rowling/Mary GrandPré    4.283844\n",
       "1  Markus Zusak/Cao Xuân Việt Khương    4.264151\n",
       "2                     J.R.R. Tolkien    4.258446\n",
       "3                  Louisa May Alcott    4.192308\n",
       "4                      Arthur Golden    4.107143"
      ]
     },
     "execution_count": 14,
     "metadata": {},
     "output_type": "execute_result"
    }
   ],
   "source": [
    "query4 = (\n",
    "\"\"\"\n",
    "    SELECT\n",
    "        SUBQ.author AS author,\n",
    "        AVG(SUBQ.avg_rating) AS avg_rating\n",
    "    FROM (\n",
    "        SELECT\n",
    "            DISTINCT books.title AS title,\n",
    "            AVG(ratings.rating) AS avg_rating,\n",
    "            COUNT(ratings.rating) AS cnt_rating,\n",
    "            books.author_id AS author_id,\n",
    "            authors.author AS author\n",
    "        FROM\n",
    "            books\n",
    "            LEFT JOIN ratings ON ratings.book_id = books.book_id\n",
    "            LEFT JOIN authors ON authors.author_id = books.author_id\n",
    "        GROUP BY\n",
    "            books.title,\n",
    "            books.author_id,\n",
    "            authors.author\n",
    "        HAVING\n",
    "            COUNT(ratings.rating) > 50\n",
    "        ) AS SUBQ\n",
    "    GROUP BY\n",
    "        author\n",
    "    ORDER BY\n",
    "        avg_rating DESC\n",
    "    LIMIT\n",
    "        5\n",
    "\"\"\"\n",
    ")\n",
    "get(query4)"
   ]
  },
  {
   "cell_type": "markdown",
   "metadata": {},
   "source": [
    "А если нам удастся сочетать лучшие издательства и самых популярных авторов - наши дела 100% пойдут в гору"
   ]
  },
  {
   "cell_type": "markdown",
   "metadata": {},
   "source": [
    "## Cреднее количество обзоров от пользователей, которые поставили больше 50 оценок"
   ]
  },
  {
   "cell_type": "code",
   "execution_count": 15,
   "metadata": {},
   "outputs": [
    {
     "data": {
      "text/html": [
       "<div>\n",
       "<style scoped>\n",
       "    .dataframe tbody tr th:only-of-type {\n",
       "        vertical-align: middle;\n",
       "    }\n",
       "\n",
       "    .dataframe tbody tr th {\n",
       "        vertical-align: top;\n",
       "    }\n",
       "\n",
       "    .dataframe thead th {\n",
       "        text-align: right;\n",
       "    }\n",
       "</style>\n",
       "<table border=\"1\" class=\"dataframe\">\n",
       "  <thead>\n",
       "    <tr style=\"text-align: right;\">\n",
       "      <th></th>\n",
       "      <th>avg_cnt_reviews</th>\n",
       "    </tr>\n",
       "  </thead>\n",
       "  <tbody>\n",
       "    <tr>\n",
       "      <th>0</th>\n",
       "      <td>24.333333</td>\n",
       "    </tr>\n",
       "  </tbody>\n",
       "</table>\n",
       "</div>"
      ],
      "text/plain": [
       "   avg_cnt_reviews\n",
       "0        24.333333"
      ]
     },
     "execution_count": 15,
     "metadata": {},
     "output_type": "execute_result"
    }
   ],
   "source": [
    "query5 = (\n",
    "\"\"\"\n",
    "    SELECT\n",
    "        AVG(cnt_reviews) AS avg_cnt_reviews\n",
    "    FROM\n",
    "        (\n",
    "            (SELECT\n",
    "                username,\n",
    "                COUNT(DISTINCT rating_id) AS cnt_rating\n",
    "            FROM\n",
    "                ratings\n",
    "            GROUP BY\n",
    "                username) AS SUBQ1\n",
    "                LEFT JOIN (\n",
    "                SELECT\n",
    "                    username,\n",
    "                    COUNT(review_id) AS cnt_reviews\n",
    "                FROM\n",
    "                    reviews\n",
    "                GROUP BY\n",
    "                    username) AS SUBQ2 ON SUBQ1.username = SUBQ2.username)\n",
    "    WHERE\n",
    "        cnt_rating > 50\n",
    "\"\"\"\n",
    ")\n",
    "get(query5)"
   ]
  },
  {
   "cell_type": "markdown",
   "metadata": {},
   "source": [
    "И конечно же, мы выберем самых активных пользователей, которые пишут отзывы и ставят оценки: влияя на увеличение их активности, мы тем самым сможем обратить внимание новых читателей на новые книги и наш сервис."
   ]
  },
  {
   "cell_type": "markdown",
   "metadata": {},
   "source": [
    "## Рекомендации"
   ]
  },
  {
   "cell_type": "markdown",
   "metadata": {},
   "source": [
    "В идеале нам стоит стартовать с продаж книг, которые удовлетворяют 3 условиям:\n",
    "- средняя оценка в топе 3 раздела (средняя оценка для каждой книги)\n",
    "- выпущены топовыми издательствами (4 раздел)\n",
    "- написаны самыми популярными авторами (5 раздел)\n",
    "\n",
    "Дополнтельно хочется отметить, что наш анализ был бы более полным, если у нас была финансовая информация: сколько стоила каждая книга, в каком количестве экземпляров она была выпущена и тд"
   ]
  }
 ],
 "metadata": {
  "ExecuteTimeLog": [
   {
    "duration": 810,
    "start_time": "2021-07-28T08:06:49.554Z"
   },
   {
    "duration": 5,
    "start_time": "2021-07-28T08:06:58.700Z"
   },
   {
    "duration": 4,
    "start_time": "2021-07-28T08:07:08.317Z"
   },
   {
    "duration": 4,
    "start_time": "2021-07-28T08:07:21.892Z"
   },
   {
    "duration": 40,
    "start_time": "2021-07-28T08:07:23.651Z"
   },
   {
    "duration": 5,
    "start_time": "2021-07-28T08:07:29.685Z"
   },
   {
    "duration": 260,
    "start_time": "2021-07-28T08:07:37.314Z"
   },
   {
    "duration": 78,
    "start_time": "2021-07-28T08:07:50.398Z"
   },
   {
    "duration": 66,
    "start_time": "2021-07-28T08:07:58.617Z"
   },
   {
    "duration": 122,
    "start_time": "2021-07-28T08:08:05.081Z"
   },
   {
    "duration": 109,
    "start_time": "2021-07-28T08:08:11.670Z"
   },
   {
    "duration": 4,
    "start_time": "2021-07-28T08:09:11.704Z"
   },
   {
    "duration": 3,
    "start_time": "2021-07-28T08:09:12.576Z"
   },
   {
    "duration": 3,
    "start_time": "2021-07-28T08:09:18.266Z"
   },
   {
    "duration": 63,
    "start_time": "2021-07-28T08:09:23.320Z"
   },
   {
    "duration": 3,
    "start_time": "2021-07-28T08:09:49.733Z"
   },
   {
    "duration": 4,
    "start_time": "2021-07-28T08:09:57.824Z"
   },
   {
    "duration": 92,
    "start_time": "2021-07-28T08:10:03.694Z"
   },
   {
    "duration": 4,
    "start_time": "2021-07-28T08:10:40.899Z"
   },
   {
    "duration": 65,
    "start_time": "2021-07-28T08:10:46.746Z"
   },
   {
    "duration": 41,
    "start_time": "2021-07-28T08:19:48.840Z"
   },
   {
    "duration": 31,
    "start_time": "2021-07-28T08:19:58.278Z"
   },
   {
    "duration": 3,
    "start_time": "2021-07-28T08:21:14.860Z"
   },
   {
    "duration": 31,
    "start_time": "2021-07-28T08:21:35.570Z"
   },
   {
    "duration": 28,
    "start_time": "2021-07-28T08:24:47.250Z"
   },
   {
    "duration": 10,
    "start_time": "2021-07-28T08:33:13.264Z"
   },
   {
    "duration": 16,
    "start_time": "2021-07-28T08:33:41.421Z"
   },
   {
    "duration": 22,
    "start_time": "2021-07-28T08:34:16.956Z"
   },
   {
    "duration": 16,
    "start_time": "2021-07-28T08:34:59.260Z"
   },
   {
    "duration": 8,
    "start_time": "2021-07-28T08:37:30.693Z"
   },
   {
    "duration": 13,
    "start_time": "2021-07-28T08:38:54.918Z"
   },
   {
    "duration": 18,
    "start_time": "2021-07-28T08:39:01.474Z"
   },
   {
    "duration": 4,
    "start_time": "2021-07-28T08:39:06.289Z"
   },
   {
    "duration": 468,
    "start_time": "2021-07-28T08:39:14.567Z"
   },
   {
    "duration": 29,
    "start_time": "2021-07-28T08:39:32.602Z"
   },
   {
    "duration": 23,
    "start_time": "2021-07-28T08:39:52.116Z"
   },
   {
    "duration": 33,
    "start_time": "2021-07-28T08:39:59.527Z"
   },
   {
    "duration": 18,
    "start_time": "2021-07-28T08:40:12.618Z"
   },
   {
    "duration": 44,
    "start_time": "2021-07-28T08:41:54.757Z"
   },
   {
    "duration": 19,
    "start_time": "2021-07-28T08:42:01.787Z"
   },
   {
    "duration": 4,
    "start_time": "2021-07-28T08:42:30.690Z"
   },
   {
    "duration": 9,
    "start_time": "2021-07-28T08:42:30.698Z"
   },
   {
    "duration": 8,
    "start_time": "2021-07-28T08:42:30.711Z"
   },
   {
    "duration": 13,
    "start_time": "2021-07-28T08:42:30.722Z"
   },
   {
    "duration": 11,
    "start_time": "2021-07-28T08:42:30.738Z"
   },
   {
    "duration": 255,
    "start_time": "2021-07-28T08:42:30.752Z"
   },
   {
    "duration": 70,
    "start_time": "2021-07-28T08:42:31.009Z"
   },
   {
    "duration": 70,
    "start_time": "2021-07-28T08:42:31.082Z"
   },
   {
    "duration": 144,
    "start_time": "2021-07-28T08:42:31.156Z"
   },
   {
    "duration": 85,
    "start_time": "2021-07-28T08:42:31.302Z"
   },
   {
    "duration": 3,
    "start_time": "2021-07-28T08:42:31.390Z"
   },
   {
    "duration": 17,
    "start_time": "2021-07-28T08:42:31.395Z"
   },
   {
    "duration": 18,
    "start_time": "2021-07-28T08:42:31.415Z"
   },
   {
    "duration": 81,
    "start_time": "2021-07-28T08:42:31.435Z"
   },
   {
    "duration": 3,
    "start_time": "2021-07-28T08:42:31.518Z"
   },
   {
    "duration": 18,
    "start_time": "2021-07-28T08:42:31.523Z"
   },
   {
    "duration": 83,
    "start_time": "2021-07-28T08:42:31.544Z"
   },
   {
    "duration": 3,
    "start_time": "2021-07-28T08:42:31.630Z"
   },
   {
    "duration": 78,
    "start_time": "2021-07-28T08:42:31.636Z"
   },
   {
    "duration": 31,
    "start_time": "2021-07-28T08:42:31.718Z"
   },
   {
    "duration": 19,
    "start_time": "2021-07-28T08:42:31.751Z"
   },
   {
    "duration": 10,
    "start_time": "2021-07-28T08:42:31.773Z"
   },
   {
    "duration": 42,
    "start_time": "2021-07-28T08:42:31.787Z"
   },
   {
    "duration": 29,
    "start_time": "2021-07-28T08:42:31.831Z"
   },
   {
    "duration": 13,
    "start_time": "2021-07-28T08:43:16.790Z"
   },
   {
    "duration": 16,
    "start_time": "2021-07-28T08:43:35.650Z"
   },
   {
    "duration": 31,
    "start_time": "2021-07-28T08:44:34.439Z"
   },
   {
    "duration": 12,
    "start_time": "2021-07-28T08:44:59.670Z"
   },
   {
    "duration": 159,
    "start_time": "2021-07-28T08:55:04.569Z"
   },
   {
    "duration": 368,
    "start_time": "2021-07-28T08:57:25.257Z"
   },
   {
    "duration": 165,
    "start_time": "2021-07-28T08:57:31.411Z"
   },
   {
    "duration": 370,
    "start_time": "2021-07-28T08:58:54.030Z"
   },
   {
    "duration": 378,
    "start_time": "2021-07-28T08:59:14.319Z"
   },
   {
    "duration": 172,
    "start_time": "2021-07-28T08:59:22.659Z"
   },
   {
    "duration": 319,
    "start_time": "2021-07-28T09:02:31.081Z"
   },
   {
    "duration": 368,
    "start_time": "2021-07-28T09:03:03.087Z"
   },
   {
    "duration": 156,
    "start_time": "2021-07-28T09:03:38.807Z"
   },
   {
    "duration": 4,
    "start_time": "2021-07-28T09:03:52.890Z"
   },
   {
    "duration": 8,
    "start_time": "2021-07-28T09:03:52.896Z"
   },
   {
    "duration": 5,
    "start_time": "2021-07-28T09:03:52.907Z"
   },
   {
    "duration": 8,
    "start_time": "2021-07-28T09:03:52.914Z"
   },
   {
    "duration": 6,
    "start_time": "2021-07-28T09:03:52.925Z"
   },
   {
    "duration": 251,
    "start_time": "2021-07-28T09:03:52.933Z"
   },
   {
    "duration": 67,
    "start_time": "2021-07-28T09:03:53.186Z"
   },
   {
    "duration": 67,
    "start_time": "2021-07-28T09:03:53.258Z"
   },
   {
    "duration": 93,
    "start_time": "2021-07-28T09:03:53.329Z"
   },
   {
    "duration": 83,
    "start_time": "2021-07-28T09:03:53.426Z"
   },
   {
    "duration": 4,
    "start_time": "2021-07-28T09:03:53.512Z"
   },
   {
    "duration": 8,
    "start_time": "2021-07-28T09:03:53.519Z"
   },
   {
    "duration": 7,
    "start_time": "2021-07-28T09:03:53.529Z"
   },
   {
    "duration": 66,
    "start_time": "2021-07-28T09:03:53.538Z"
   },
   {
    "duration": 3,
    "start_time": "2021-07-28T09:03:53.607Z"
   },
   {
    "duration": 7,
    "start_time": "2021-07-28T09:03:53.614Z"
   },
   {
    "duration": 80,
    "start_time": "2021-07-28T09:03:53.623Z"
   },
   {
    "duration": 4,
    "start_time": "2021-07-28T09:03:53.706Z"
   },
   {
    "duration": 69,
    "start_time": "2021-07-28T09:03:53.712Z"
   },
   {
    "duration": 26,
    "start_time": "2021-07-28T09:03:53.783Z"
   },
   {
    "duration": 17,
    "start_time": "2021-07-28T09:03:53.812Z"
   },
   {
    "duration": 3,
    "start_time": "2021-07-28T09:03:53.831Z"
   },
   {
    "duration": 54,
    "start_time": "2021-07-28T09:03:53.838Z"
   },
   {
    "duration": 17,
    "start_time": "2021-07-28T09:03:53.895Z"
   },
   {
    "duration": 119,
    "start_time": "2021-07-28T09:03:53.915Z"
   },
   {
    "duration": 98,
    "start_time": "2021-07-28T09:05:07.672Z"
   },
   {
    "duration": 4,
    "start_time": "2021-07-28T09:05:48.557Z"
   },
   {
    "duration": 7,
    "start_time": "2021-07-28T09:05:48.564Z"
   },
   {
    "duration": 4,
    "start_time": "2021-07-28T09:05:48.574Z"
   },
   {
    "duration": 7,
    "start_time": "2021-07-28T09:05:48.581Z"
   },
   {
    "duration": 8,
    "start_time": "2021-07-28T09:05:48.590Z"
   },
   {
    "duration": 254,
    "start_time": "2021-07-28T09:05:48.600Z"
   },
   {
    "duration": 70,
    "start_time": "2021-07-28T09:05:48.857Z"
   },
   {
    "duration": 70,
    "start_time": "2021-07-28T09:05:48.930Z"
   },
   {
    "duration": 94,
    "start_time": "2021-07-28T09:05:49.003Z"
   },
   {
    "duration": 83,
    "start_time": "2021-07-28T09:05:49.100Z"
   },
   {
    "duration": 3,
    "start_time": "2021-07-28T09:05:49.185Z"
   },
   {
    "duration": 7,
    "start_time": "2021-07-28T09:05:49.190Z"
   },
   {
    "duration": 7,
    "start_time": "2021-07-28T09:05:49.200Z"
   },
   {
    "duration": 66,
    "start_time": "2021-07-28T09:05:49.209Z"
   },
   {
    "duration": 3,
    "start_time": "2021-07-28T09:05:49.277Z"
   },
   {
    "duration": 6,
    "start_time": "2021-07-28T09:05:49.283Z"
   },
   {
    "duration": 88,
    "start_time": "2021-07-28T09:05:49.291Z"
   },
   {
    "duration": 3,
    "start_time": "2021-07-28T09:05:49.382Z"
   },
   {
    "duration": 73,
    "start_time": "2021-07-28T09:05:49.388Z"
   },
   {
    "duration": 28,
    "start_time": "2021-07-28T09:05:49.463Z"
   },
   {
    "duration": 15,
    "start_time": "2021-07-28T09:05:49.494Z"
   },
   {
    "duration": 3,
    "start_time": "2021-07-28T09:05:49.512Z"
   },
   {
    "duration": 19,
    "start_time": "2021-07-28T09:05:49.519Z"
   },
   {
    "duration": 44,
    "start_time": "2021-07-28T09:05:49.541Z"
   },
   {
    "duration": 74,
    "start_time": "2021-07-28T09:05:49.588Z"
   },
   {
    "duration": 3,
    "start_time": "2021-07-28T11:25:18.158Z"
   },
   {
    "duration": 12,
    "start_time": "2021-07-28T11:25:18.164Z"
   },
   {
    "duration": 15,
    "start_time": "2021-07-28T11:25:18.179Z"
   },
   {
    "duration": 10,
    "start_time": "2021-07-28T11:25:18.197Z"
   },
   {
    "duration": 9,
    "start_time": "2021-07-28T11:25:18.209Z"
   },
   {
    "duration": 260,
    "start_time": "2021-07-28T11:25:18.220Z"
   },
   {
    "duration": 68,
    "start_time": "2021-07-28T11:25:18.483Z"
   },
   {
    "duration": 68,
    "start_time": "2021-07-28T11:25:18.554Z"
   },
   {
    "duration": 101,
    "start_time": "2021-07-28T11:25:18.624Z"
   },
   {
    "duration": 82,
    "start_time": "2021-07-28T11:25:18.727Z"
   },
   {
    "duration": 3,
    "start_time": "2021-07-28T11:25:18.811Z"
   },
   {
    "duration": 15,
    "start_time": "2021-07-28T11:25:18.816Z"
   },
   {
    "duration": 26,
    "start_time": "2021-07-28T11:25:18.834Z"
   },
   {
    "duration": 71,
    "start_time": "2021-07-28T11:25:18.862Z"
   },
   {
    "duration": 3,
    "start_time": "2021-07-28T11:25:18.935Z"
   },
   {
    "duration": 10,
    "start_time": "2021-07-28T11:25:18.940Z"
   },
   {
    "duration": 81,
    "start_time": "2021-07-28T11:25:18.952Z"
   },
   {
    "duration": 3,
    "start_time": "2021-07-28T11:25:19.035Z"
   },
   {
    "duration": 65,
    "start_time": "2021-07-28T11:25:19.042Z"
   },
   {
    "duration": 28,
    "start_time": "2021-07-28T11:25:19.110Z"
   },
   {
    "duration": 17,
    "start_time": "2021-07-28T11:25:19.141Z"
   },
   {
    "duration": 2,
    "start_time": "2021-07-28T11:25:19.160Z"
   },
   {
    "duration": 27,
    "start_time": "2021-07-28T11:25:19.165Z"
   },
   {
    "duration": 12,
    "start_time": "2021-07-28T11:25:19.194Z"
   },
   {
    "duration": 95,
    "start_time": "2021-07-28T11:25:19.209Z"
   },
   {
    "duration": 187,
    "start_time": "2021-07-28T12:10:52.592Z"
   },
   {
    "duration": 353,
    "start_time": "2021-07-28T12:13:29.587Z"
   },
   {
    "duration": 127,
    "start_time": "2021-07-28T12:13:54.718Z"
   },
   {
    "duration": 4,
    "start_time": "2021-07-28T12:14:30.621Z"
   },
   {
    "duration": 18,
    "start_time": "2021-07-28T12:14:30.628Z"
   },
   {
    "duration": 8,
    "start_time": "2021-07-28T12:14:30.650Z"
   },
   {
    "duration": 9,
    "start_time": "2021-07-28T12:14:30.660Z"
   },
   {
    "duration": 16,
    "start_time": "2021-07-28T12:14:30.671Z"
   },
   {
    "duration": 269,
    "start_time": "2021-07-28T12:14:30.690Z"
   },
   {
    "duration": 72,
    "start_time": "2021-07-28T12:14:30.962Z"
   },
   {
    "duration": 74,
    "start_time": "2021-07-28T12:14:31.038Z"
   },
   {
    "duration": 110,
    "start_time": "2021-07-28T12:14:31.116Z"
   },
   {
    "duration": 84,
    "start_time": "2021-07-28T12:14:31.229Z"
   },
   {
    "duration": 3,
    "start_time": "2021-07-28T12:14:31.316Z"
   },
   {
    "duration": 34,
    "start_time": "2021-07-28T12:14:31.321Z"
   },
   {
    "duration": 11,
    "start_time": "2021-07-28T12:14:31.357Z"
   },
   {
    "duration": 89,
    "start_time": "2021-07-28T12:14:31.370Z"
   },
   {
    "duration": 3,
    "start_time": "2021-07-28T12:14:31.462Z"
   },
   {
    "duration": 25,
    "start_time": "2021-07-28T12:14:31.467Z"
   },
   {
    "duration": 104,
    "start_time": "2021-07-28T12:14:31.494Z"
   },
   {
    "duration": 15,
    "start_time": "2021-07-28T12:14:31.601Z"
   },
   {
    "duration": 73,
    "start_time": "2021-07-28T12:14:31.619Z"
   },
   {
    "duration": 31,
    "start_time": "2021-07-28T12:14:31.695Z"
   },
   {
    "duration": 18,
    "start_time": "2021-07-28T12:14:31.728Z"
   },
   {
    "duration": 4,
    "start_time": "2021-07-28T12:14:31.748Z"
   },
   {
    "duration": 31,
    "start_time": "2021-07-28T12:14:31.784Z"
   },
   {
    "duration": 14,
    "start_time": "2021-07-28T12:14:31.817Z"
   },
   {
    "duration": 101,
    "start_time": "2021-07-28T12:14:31.833Z"
   },
   {
    "duration": 3,
    "start_time": "2021-07-28T12:14:39.732Z"
   },
   {
    "duration": 14,
    "start_time": "2021-07-28T12:14:39.738Z"
   },
   {
    "duration": 5,
    "start_time": "2021-07-28T12:14:39.755Z"
   },
   {
    "duration": 11,
    "start_time": "2021-07-28T12:14:39.763Z"
   },
   {
    "duration": 11,
    "start_time": "2021-07-28T12:14:39.776Z"
   },
   {
    "duration": 253,
    "start_time": "2021-07-28T12:14:39.790Z"
   },
   {
    "duration": 68,
    "start_time": "2021-07-28T12:14:40.045Z"
   },
   {
    "duration": 67,
    "start_time": "2021-07-28T12:14:40.117Z"
   },
   {
    "duration": 95,
    "start_time": "2021-07-28T12:14:40.187Z"
   },
   {
    "duration": 83,
    "start_time": "2021-07-28T12:14:40.284Z"
   },
   {
    "duration": 3,
    "start_time": "2021-07-28T12:14:40.369Z"
   },
   {
    "duration": 6,
    "start_time": "2021-07-28T12:14:40.375Z"
   },
   {
    "duration": 8,
    "start_time": "2021-07-28T12:14:40.383Z"
   },
   {
    "duration": 65,
    "start_time": "2021-07-28T12:14:40.394Z"
   },
   {
    "duration": 3,
    "start_time": "2021-07-28T12:14:40.462Z"
   },
   {
    "duration": 13,
    "start_time": "2021-07-28T12:14:40.467Z"
   },
   {
    "duration": 81,
    "start_time": "2021-07-28T12:14:40.482Z"
   },
   {
    "duration": 3,
    "start_time": "2021-07-28T12:14:40.565Z"
   },
   {
    "duration": 70,
    "start_time": "2021-07-28T12:14:40.571Z"
   },
   {
    "duration": 32,
    "start_time": "2021-07-28T12:14:40.643Z"
   },
   {
    "duration": 19,
    "start_time": "2021-07-28T12:14:40.678Z"
   },
   {
    "duration": 4,
    "start_time": "2021-07-28T12:14:40.700Z"
   },
   {
    "duration": 19,
    "start_time": "2021-07-28T12:14:40.711Z"
   },
   {
    "duration": 49,
    "start_time": "2021-07-28T12:14:40.733Z"
   },
   {
    "duration": 120,
    "start_time": "2021-07-28T12:14:40.785Z"
   },
   {
    "duration": 133,
    "start_time": "2021-07-28T12:15:22.530Z"
   },
   {
    "duration": 736,
    "start_time": "2021-07-28T12:18:19.572Z"
   },
   {
    "duration": 138,
    "start_time": "2021-07-28T12:18:48.998Z"
   },
   {
    "duration": 574,
    "start_time": "2021-07-28T12:19:05.166Z"
   },
   {
    "duration": 712,
    "start_time": "2021-07-28T12:19:27.330Z"
   },
   {
    "duration": 367,
    "start_time": "2021-07-28T12:21:19.389Z"
   },
   {
    "duration": 135,
    "start_time": "2021-07-28T12:22:10.699Z"
   },
   {
    "duration": 353,
    "start_time": "2021-07-28T12:24:07.929Z"
   },
   {
    "duration": 356,
    "start_time": "2021-07-28T12:24:20.294Z"
   },
   {
    "duration": 136,
    "start_time": "2021-07-28T12:24:26.346Z"
   },
   {
    "duration": 205,
    "start_time": "2021-07-28T12:25:07.882Z"
   },
   {
    "duration": 4,
    "start_time": "2021-07-28T12:30:13.329Z"
   },
   {
    "duration": 149,
    "start_time": "2021-07-28T12:31:36.832Z"
   },
   {
    "duration": 351,
    "start_time": "2021-07-28T12:32:38.733Z"
   },
   {
    "duration": 152,
    "start_time": "2021-07-28T12:32:45.983Z"
   },
   {
    "duration": 367,
    "start_time": "2021-07-28T12:32:56.809Z"
   },
   {
    "duration": 90,
    "start_time": "2021-07-28T12:33:09.762Z"
   },
   {
    "duration": 150,
    "start_time": "2021-07-28T12:33:19.183Z"
   },
   {
    "duration": 121,
    "start_time": "2021-07-28T12:34:12.563Z"
   },
   {
    "duration": 345,
    "start_time": "2021-07-28T12:35:08.145Z"
   },
   {
    "duration": 107,
    "start_time": "2021-07-28T12:35:24.749Z"
   },
   {
    "duration": 70,
    "start_time": "2021-07-28T12:36:25.586Z"
   },
   {
    "duration": 106,
    "start_time": "2021-07-28T12:36:41.193Z"
   },
   {
    "duration": 101,
    "start_time": "2021-07-28T12:37:48.968Z"
   },
   {
    "duration": 78,
    "start_time": "2021-07-28T12:38:04.458Z"
   },
   {
    "duration": 381,
    "start_time": "2021-07-28T12:38:33.169Z"
   },
   {
    "duration": 78,
    "start_time": "2021-07-28T12:38:41.654Z"
   },
   {
    "duration": 80,
    "start_time": "2021-07-28T12:39:54.893Z"
   },
   {
    "duration": 152,
    "start_time": "2021-07-28T12:40:29.728Z"
   },
   {
    "duration": 361,
    "start_time": "2021-07-28T12:43:51.957Z"
   },
   {
    "duration": 366,
    "start_time": "2021-07-28T12:43:57.013Z"
   },
   {
    "duration": 90,
    "start_time": "2021-07-28T12:44:08.641Z"
   },
   {
    "duration": 360,
    "start_time": "2021-07-28T12:44:18.935Z"
   },
   {
    "duration": 102,
    "start_time": "2021-07-28T12:44:22.855Z"
   },
   {
    "duration": 108,
    "start_time": "2021-07-28T12:45:30.968Z"
   },
   {
    "duration": 520,
    "start_time": "2021-07-28T12:46:39.877Z"
   },
   {
    "duration": 569,
    "start_time": "2021-07-28T12:46:48.237Z"
   },
   {
    "duration": 69,
    "start_time": "2021-07-28T12:47:03.678Z"
   },
   {
    "duration": 103,
    "start_time": "2021-07-28T12:47:50.230Z"
   },
   {
    "duration": 467,
    "start_time": "2021-07-28T12:48:23.726Z"
   },
   {
    "duration": 78,
    "start_time": "2021-07-28T12:50:53.396Z"
   },
   {
    "duration": 78,
    "start_time": "2021-07-28T12:51:26.122Z"
   },
   {
    "duration": 77,
    "start_time": "2021-07-28T12:51:40.774Z"
   },
   {
    "duration": 75,
    "start_time": "2021-07-28T12:51:56.110Z"
   },
   {
    "duration": 147,
    "start_time": "2021-07-28T12:52:07.373Z"
   },
   {
    "duration": 147,
    "start_time": "2021-07-28T12:53:08.296Z"
   },
   {
    "duration": 68,
    "start_time": "2021-07-28T12:56:04.935Z"
   },
   {
    "duration": 80,
    "start_time": "2021-07-28T13:04:49.552Z"
   },
   {
    "duration": 67,
    "start_time": "2021-07-28T13:05:05.734Z"
   },
   {
    "duration": 77,
    "start_time": "2021-07-28T13:05:23.986Z"
   },
   {
    "duration": 70,
    "start_time": "2021-07-28T13:05:41.943Z"
   },
   {
    "duration": 67,
    "start_time": "2021-07-28T13:07:25.093Z"
   },
   {
    "duration": 326,
    "start_time": "2021-07-28T13:08:02.724Z"
   },
   {
    "duration": 68,
    "start_time": "2021-07-28T13:08:05.661Z"
   },
   {
    "duration": 103,
    "start_time": "2021-07-28T13:10:47.177Z"
   },
   {
    "duration": 379,
    "start_time": "2021-07-28T13:13:30.957Z"
   },
   {
    "duration": 433,
    "start_time": "2021-07-28T13:24:39.961Z"
   },
   {
    "duration": 174,
    "start_time": "2021-07-28T13:24:49.212Z"
   },
   {
    "duration": 72,
    "start_time": "2021-07-28T13:27:30.818Z"
   },
   {
    "duration": 72,
    "start_time": "2021-07-28T13:28:09.143Z"
   },
   {
    "duration": 72,
    "start_time": "2021-07-28T13:28:28.596Z"
   },
   {
    "duration": 168,
    "start_time": "2021-07-28T13:29:39.977Z"
   },
   {
    "duration": 312,
    "start_time": "2021-07-28T13:32:47.401Z"
   },
   {
    "duration": 372,
    "start_time": "2021-07-28T13:33:10.149Z"
   },
   {
    "duration": 370,
    "start_time": "2021-07-28T13:33:23.226Z"
   },
   {
    "duration": 168,
    "start_time": "2021-07-28T13:33:40.767Z"
   },
   {
    "duration": 77,
    "start_time": "2021-07-28T13:49:51.608Z"
   },
   {
    "duration": 4,
    "start_time": "2021-07-28T13:50:30.963Z"
   },
   {
    "duration": 15,
    "start_time": "2021-07-28T13:50:30.970Z"
   },
   {
    "duration": 13,
    "start_time": "2021-07-28T13:50:30.988Z"
   },
   {
    "duration": 13,
    "start_time": "2021-07-28T13:50:31.004Z"
   },
   {
    "duration": 20,
    "start_time": "2021-07-28T13:50:31.019Z"
   },
   {
    "duration": 261,
    "start_time": "2021-07-28T13:50:31.041Z"
   },
   {
    "duration": 68,
    "start_time": "2021-07-28T13:50:31.304Z"
   },
   {
    "duration": 67,
    "start_time": "2021-07-28T13:50:31.375Z"
   },
   {
    "duration": 94,
    "start_time": "2021-07-28T13:50:31.445Z"
   },
   {
    "duration": 96,
    "start_time": "2021-07-28T13:50:31.541Z"
   },
   {
    "duration": 3,
    "start_time": "2021-07-28T13:50:31.639Z"
   },
   {
    "duration": 16,
    "start_time": "2021-07-28T13:50:31.644Z"
   },
   {
    "duration": 23,
    "start_time": "2021-07-28T13:50:31.663Z"
   },
   {
    "duration": 66,
    "start_time": "2021-07-28T13:50:31.688Z"
   },
   {
    "duration": 3,
    "start_time": "2021-07-28T13:50:31.757Z"
   },
   {
    "duration": 16,
    "start_time": "2021-07-28T13:50:31.762Z"
   },
   {
    "duration": 90,
    "start_time": "2021-07-28T13:50:31.780Z"
   },
   {
    "duration": 2,
    "start_time": "2021-07-28T13:50:31.873Z"
   },
   {
    "duration": 75,
    "start_time": "2021-07-28T13:50:31.878Z"
   },
   {
    "duration": 3,
    "start_time": "2021-07-28T13:50:31.955Z"
   },
   {
    "duration": 7,
    "start_time": "2021-07-28T13:50:31.960Z"
   },
   {
    "duration": 8,
    "start_time": "2021-07-28T13:50:31.969Z"
   },
   {
    "duration": 4,
    "start_time": "2021-07-28T13:50:31.981Z"
   },
   {
    "duration": 6,
    "start_time": "2021-07-28T13:50:31.988Z"
   },
   {
    "duration": 73,
    "start_time": "2021-07-28T13:50:31.996Z"
   },
   {
    "duration": 71,
    "start_time": "2021-07-28T13:51:01.856Z"
   },
   {
    "duration": 104,
    "start_time": "2021-07-28T13:52:15.196Z"
   },
   {
    "duration": 103,
    "start_time": "2021-07-28T13:53:16.330Z"
   },
   {
    "duration": 102,
    "start_time": "2021-07-28T13:53:24.683Z"
   },
   {
    "duration": 69,
    "start_time": "2021-07-28T13:53:36.928Z"
   },
   {
    "duration": 102,
    "start_time": "2021-07-28T13:54:42.159Z"
   },
   {
    "duration": 102,
    "start_time": "2021-07-28T13:54:55.646Z"
   },
   {
    "duration": 70,
    "start_time": "2021-07-28T13:55:24.686Z"
   },
   {
    "duration": 4,
    "start_time": "2021-07-28T13:55:42.557Z"
   },
   {
    "duration": 8,
    "start_time": "2021-07-28T13:55:42.563Z"
   },
   {
    "duration": 5,
    "start_time": "2021-07-28T13:55:42.574Z"
   },
   {
    "duration": 9,
    "start_time": "2021-07-28T13:55:42.582Z"
   },
   {
    "duration": 6,
    "start_time": "2021-07-28T13:55:42.593Z"
   },
   {
    "duration": 249,
    "start_time": "2021-07-28T13:55:42.601Z"
   },
   {
    "duration": 67,
    "start_time": "2021-07-28T13:55:42.854Z"
   },
   {
    "duration": 67,
    "start_time": "2021-07-28T13:55:42.924Z"
   },
   {
    "duration": 100,
    "start_time": "2021-07-28T13:55:42.993Z"
   },
   {
    "duration": 83,
    "start_time": "2021-07-28T13:55:43.095Z"
   },
   {
    "duration": 2,
    "start_time": "2021-07-28T13:55:43.181Z"
   },
   {
    "duration": 6,
    "start_time": "2021-07-28T13:55:43.186Z"
   },
   {
    "duration": 10,
    "start_time": "2021-07-28T13:55:43.195Z"
   },
   {
    "duration": 67,
    "start_time": "2021-07-28T13:55:43.208Z"
   },
   {
    "duration": 3,
    "start_time": "2021-07-28T13:55:43.278Z"
   },
   {
    "duration": 4,
    "start_time": "2021-07-28T13:55:43.284Z"
   },
   {
    "duration": 89,
    "start_time": "2021-07-28T13:55:43.290Z"
   },
   {
    "duration": 3,
    "start_time": "2021-07-28T13:55:43.381Z"
   },
   {
    "duration": 68,
    "start_time": "2021-07-28T13:55:43.388Z"
   },
   {
    "duration": 2,
    "start_time": "2021-07-28T13:55:43.459Z"
   },
   {
    "duration": 9,
    "start_time": "2021-07-28T13:55:43.464Z"
   },
   {
    "duration": 10,
    "start_time": "2021-07-28T13:55:43.475Z"
   },
   {
    "duration": 6,
    "start_time": "2021-07-28T13:55:43.487Z"
   },
   {
    "duration": 10,
    "start_time": "2021-07-28T13:55:43.495Z"
   },
   {
    "duration": 77,
    "start_time": "2021-07-28T13:55:43.508Z"
   },
   {
    "duration": 105,
    "start_time": "2021-07-28T13:56:20.559Z"
   },
   {
    "duration": 24,
    "start_time": "2021-07-28T14:05:14.461Z"
   },
   {
    "duration": 38,
    "start_time": "2021-07-28T14:05:19.605Z"
   },
   {
    "duration": 40,
    "start_time": "2021-07-28T14:09:08.168Z"
   },
   {
    "duration": 17,
    "start_time": "2021-07-28T14:09:46.688Z"
   },
   {
    "duration": 14,
    "start_time": "2021-07-28T14:10:44.248Z"
   },
   {
    "duration": 31,
    "start_time": "2021-07-28T14:11:24.292Z"
   },
   {
    "duration": 17,
    "start_time": "2021-07-28T14:15:12.168Z"
   },
   {
    "duration": 4,
    "start_time": "2021-07-28T14:15:16.780Z"
   },
   {
    "duration": 10,
    "start_time": "2021-07-28T14:15:22.163Z"
   },
   {
    "duration": 9,
    "start_time": "2021-07-28T14:15:58.200Z"
   },
   {
    "duration": 17,
    "start_time": "2021-07-28T14:16:19.998Z"
   },
   {
    "duration": 15,
    "start_time": "2021-07-28T14:16:34.543Z"
   },
   {
    "duration": 14,
    "start_time": "2021-07-28T14:17:46.245Z"
   },
   {
    "duration": 14,
    "start_time": "2021-07-28T14:17:56.251Z"
   },
   {
    "duration": 13,
    "start_time": "2021-07-28T14:18:09.389Z"
   },
   {
    "duration": 13,
    "start_time": "2021-07-28T14:18:13.223Z"
   },
   {
    "duration": 12,
    "start_time": "2021-07-28T14:18:31.322Z"
   },
   {
    "duration": 14,
    "start_time": "2021-07-28T14:18:38.111Z"
   },
   {
    "duration": 13,
    "start_time": "2021-07-28T14:18:42.881Z"
   },
   {
    "duration": 16,
    "start_time": "2021-07-28T14:19:09.225Z"
   },
   {
    "duration": 12,
    "start_time": "2021-07-28T14:19:17.213Z"
   },
   {
    "duration": 7,
    "start_time": "2021-07-28T14:20:51.048Z"
   },
   {
    "duration": 14,
    "start_time": "2021-07-28T14:20:56.413Z"
   },
   {
    "duration": 9,
    "start_time": "2021-07-28T14:21:36.131Z"
   },
   {
    "duration": 14,
    "start_time": "2021-07-28T14:21:48.555Z"
   },
   {
    "duration": 16,
    "start_time": "2021-07-28T14:25:41.363Z"
   },
   {
    "duration": 11,
    "start_time": "2021-07-28T14:26:37.472Z"
   },
   {
    "duration": 11,
    "start_time": "2021-07-28T14:26:48.154Z"
   },
   {
    "duration": 11,
    "start_time": "2021-07-28T14:26:54.518Z"
   },
   {
    "duration": 15,
    "start_time": "2021-07-28T14:27:04.318Z"
   },
   {
    "duration": 10,
    "start_time": "2021-07-28T14:27:41.148Z"
   },
   {
    "duration": 11,
    "start_time": "2021-07-28T14:27:46.301Z"
   },
   {
    "duration": 106,
    "start_time": "2021-07-28T14:32:45.080Z"
   },
   {
    "duration": 232,
    "start_time": "2021-07-28T14:35:46.773Z"
   },
   {
    "duration": 66,
    "start_time": "2021-07-28T14:42:31.517Z"
   },
   {
    "duration": 315,
    "start_time": "2021-07-28T14:43:11.986Z"
   },
   {
    "duration": 374,
    "start_time": "2021-07-28T14:43:30.482Z"
   },
   {
    "duration": 67,
    "start_time": "2021-07-28T14:43:43.802Z"
   },
   {
    "duration": 68,
    "start_time": "2021-07-28T14:44:12.266Z"
   },
   {
    "duration": 69,
    "start_time": "2021-07-28T14:44:16.205Z"
   },
   {
    "duration": 68,
    "start_time": "2021-07-28T14:44:26.012Z"
   },
   {
    "duration": 66,
    "start_time": "2021-07-28T14:44:29.451Z"
   },
   {
    "duration": 67,
    "start_time": "2021-07-28T14:45:04.899Z"
   },
   {
    "duration": 332,
    "start_time": "2021-07-28T14:49:14.280Z"
   },
   {
    "duration": 4,
    "start_time": "2021-07-28T14:50:01.309Z"
   },
   {
    "duration": 16,
    "start_time": "2021-07-28T14:50:01.316Z"
   },
   {
    "duration": 16,
    "start_time": "2021-07-28T14:50:01.335Z"
   },
   {
    "duration": 14,
    "start_time": "2021-07-28T14:50:01.353Z"
   },
   {
    "duration": 39,
    "start_time": "2021-07-28T14:50:01.370Z"
   },
   {
    "duration": 272,
    "start_time": "2021-07-28T14:50:01.412Z"
   },
   {
    "duration": 69,
    "start_time": "2021-07-28T14:50:01.689Z"
   },
   {
    "duration": 68,
    "start_time": "2021-07-28T14:50:01.761Z"
   },
   {
    "duration": 109,
    "start_time": "2021-07-28T14:50:01.832Z"
   },
   {
    "duration": 93,
    "start_time": "2021-07-28T14:50:01.943Z"
   },
   {
    "duration": 3,
    "start_time": "2021-07-28T14:50:02.039Z"
   },
   {
    "duration": 22,
    "start_time": "2021-07-28T14:50:02.044Z"
   },
   {
    "duration": 17,
    "start_time": "2021-07-28T14:50:02.068Z"
   },
   {
    "duration": 72,
    "start_time": "2021-07-28T14:50:02.087Z"
   },
   {
    "duration": 4,
    "start_time": "2021-07-28T14:50:02.162Z"
   },
   {
    "duration": 18,
    "start_time": "2021-07-28T14:50:02.168Z"
   },
   {
    "duration": 95,
    "start_time": "2021-07-28T14:50:02.189Z"
   },
   {
    "duration": 3,
    "start_time": "2021-07-28T14:50:02.286Z"
   },
   {
    "duration": 77,
    "start_time": "2021-07-28T14:50:02.294Z"
   },
   {
    "duration": 3,
    "start_time": "2021-07-28T14:50:02.373Z"
   },
   {
    "duration": 15,
    "start_time": "2021-07-28T14:50:02.378Z"
   },
   {
    "duration": 25,
    "start_time": "2021-07-28T14:50:02.395Z"
   },
   {
    "duration": 18,
    "start_time": "2021-07-28T14:50:02.423Z"
   },
   {
    "duration": 25,
    "start_time": "2021-07-28T14:50:02.443Z"
   },
   {
    "duration": 95,
    "start_time": "2021-07-28T14:50:02.470Z"
   },
   {
    "duration": 82,
    "start_time": "2021-07-28T14:50:02.568Z"
   },
   {
    "duration": 430,
    "start_time": "2021-07-28T14:50:02.653Z"
   },
   {
    "duration": -95016,
    "start_time": "2021-07-28T14:51:38.102Z"
   },
   {
    "duration": -95018,
    "start_time": "2021-07-28T14:51:38.107Z"
   },
   {
    "duration": -95019,
    "start_time": "2021-07-28T14:51:38.110Z"
   },
   {
    "duration": -95020,
    "start_time": "2021-07-28T14:51:38.113Z"
   },
   {
    "duration": -95024,
    "start_time": "2021-07-28T14:51:38.119Z"
   },
   {
    "duration": 659,
    "start_time": "2021-07-28T14:50:34.358Z"
   },
   {
    "duration": 662,
    "start_time": "2021-07-28T14:50:43.798Z"
   },
   {
    "duration": 230,
    "start_time": "2021-07-28T14:51:46.086Z"
   },
   {
    "duration": 75,
    "start_time": "2021-07-28T14:57:51.096Z"
   },
   {
    "duration": 263,
    "start_time": "2021-07-28T14:58:39.233Z"
   },
   {
    "duration": 70,
    "start_time": "2021-07-28T15:10:21.530Z"
   },
   {
    "duration": 238,
    "start_time": "2021-07-28T15:11:16.102Z"
   },
   {
    "duration": 73,
    "start_time": "2021-07-28T15:12:10.459Z"
   },
   {
    "duration": 420,
    "start_time": "2021-07-28T15:12:24.283Z"
   },
   {
    "duration": 236,
    "start_time": "2021-07-28T15:12:27.132Z"
   },
   {
    "duration": 368,
    "start_time": "2021-07-28T15:14:46.484Z"
   },
   {
    "duration": 315,
    "start_time": "2021-07-28T15:15:13.537Z"
   },
   {
    "duration": 80,
    "start_time": "2021-07-28T15:15:41.054Z"
   },
   {
    "duration": 86,
    "start_time": "2021-07-28T15:16:43.752Z"
   },
   {
    "duration": 80,
    "start_time": "2021-07-28T15:16:54.198Z"
   },
   {
    "duration": 84,
    "start_time": "2021-07-28T15:18:33.094Z"
   },
   {
    "duration": 82,
    "start_time": "2021-07-28T15:19:40.708Z"
   },
   {
    "duration": 94,
    "start_time": "2021-07-28T15:20:23.290Z"
   },
   {
    "duration": 345,
    "start_time": "2021-07-28T15:25:14.325Z"
   },
   {
    "duration": 86,
    "start_time": "2021-07-28T15:25:41.095Z"
   },
   {
    "duration": 10,
    "start_time": "2021-07-28T15:26:45.499Z"
   },
   {
    "duration": 15,
    "start_time": "2021-07-28T15:26:46.445Z"
   },
   {
    "duration": 14,
    "start_time": "2021-07-28T15:26:46.864Z"
   },
   {
    "duration": 12,
    "start_time": "2021-07-28T15:26:47.272Z"
   },
   {
    "duration": 18,
    "start_time": "2021-07-28T15:27:45.881Z"
   },
   {
    "duration": 8,
    "start_time": "2021-07-28T15:28:29.663Z"
   },
   {
    "duration": 17,
    "start_time": "2021-07-28T15:28:34.703Z"
   },
   {
    "duration": 264,
    "start_time": "2021-07-28T15:29:24.111Z"
   },
   {
    "duration": 17,
    "start_time": "2021-07-28T15:29:29.430Z"
   },
   {
    "duration": 82,
    "start_time": "2021-07-28T15:31:12.958Z"
   },
   {
    "duration": 374,
    "start_time": "2021-07-28T15:31:28.879Z"
   },
   {
    "duration": 96,
    "start_time": "2021-07-28T15:31:34.510Z"
   },
   {
    "duration": 315,
    "start_time": "2021-07-28T15:39:11.120Z"
   },
   {
    "duration": 84,
    "start_time": "2021-07-28T15:39:16.293Z"
   },
   {
    "duration": 359,
    "start_time": "2021-07-28T15:40:36.342Z"
   },
   {
    "duration": 86,
    "start_time": "2021-07-28T15:40:51.419Z"
   },
   {
    "duration": 86,
    "start_time": "2021-07-28T15:41:12.139Z"
   },
   {
    "duration": 90,
    "start_time": "2021-07-28T15:41:27.775Z"
   },
   {
    "duration": 163,
    "start_time": "2021-07-28T15:45:27.583Z"
   },
   {
    "duration": 370,
    "start_time": "2021-07-28T15:45:50.768Z"
   },
   {
    "duration": 85,
    "start_time": "2021-07-28T15:45:58.455Z"
   },
   {
    "duration": 81,
    "start_time": "2021-07-28T15:47:08.245Z"
   },
   {
    "duration": 81,
    "start_time": "2021-07-28T15:47:33.369Z"
   },
   {
    "duration": 84,
    "start_time": "2021-07-28T15:47:39.040Z"
   },
   {
    "duration": 88,
    "start_time": "2021-07-28T15:49:38.923Z"
   },
   {
    "duration": 3,
    "start_time": "2021-07-28T15:49:46.853Z"
   },
   {
    "duration": 3,
    "start_time": "2021-07-28T15:49:49.783Z"
   },
   {
    "duration": 4,
    "start_time": "2021-07-28T15:50:07.785Z"
   },
   {
    "duration": 5,
    "start_time": "2021-07-28T15:50:07.792Z"
   },
   {
    "duration": 6,
    "start_time": "2021-07-28T15:50:07.800Z"
   },
   {
    "duration": 5,
    "start_time": "2021-07-28T15:50:07.809Z"
   },
   {
    "duration": 7,
    "start_time": "2021-07-28T15:50:07.816Z"
   },
   {
    "duration": 247,
    "start_time": "2021-07-28T15:50:07.826Z"
   },
   {
    "duration": 68,
    "start_time": "2021-07-28T15:50:08.076Z"
   },
   {
    "duration": 67,
    "start_time": "2021-07-28T15:50:08.147Z"
   },
   {
    "duration": 107,
    "start_time": "2021-07-28T15:50:08.217Z"
   },
   {
    "duration": 90,
    "start_time": "2021-07-28T15:50:08.326Z"
   },
   {
    "duration": 3,
    "start_time": "2021-07-28T15:50:08.418Z"
   },
   {
    "duration": 8,
    "start_time": "2021-07-28T15:50:08.423Z"
   },
   {
    "duration": 8,
    "start_time": "2021-07-28T15:50:08.433Z"
   },
   {
    "duration": 72,
    "start_time": "2021-07-28T15:50:08.443Z"
   },
   {
    "duration": 3,
    "start_time": "2021-07-28T15:50:08.518Z"
   },
   {
    "duration": 6,
    "start_time": "2021-07-28T15:50:08.524Z"
   },
   {
    "duration": 79,
    "start_time": "2021-07-28T15:50:08.532Z"
   },
   {
    "duration": 2,
    "start_time": "2021-07-28T15:50:08.614Z"
   },
   {
    "duration": 70,
    "start_time": "2021-07-28T15:50:08.618Z"
   },
   {
    "duration": 2,
    "start_time": "2021-07-28T15:50:08.691Z"
   },
   {
    "duration": 10,
    "start_time": "2021-07-28T15:50:08.695Z"
   },
   {
    "duration": 11,
    "start_time": "2021-07-28T15:50:08.707Z"
   },
   {
    "duration": 5,
    "start_time": "2021-07-28T15:50:08.723Z"
   },
   {
    "duration": 4,
    "start_time": "2021-07-28T15:50:08.731Z"
   },
   {
    "duration": 72,
    "start_time": "2021-07-28T15:50:08.737Z"
   },
   {
    "duration": 77,
    "start_time": "2021-07-28T15:50:08.812Z"
   },
   {
    "duration": 88,
    "start_time": "2021-07-28T15:50:08.892Z"
   },
   {
    "duration": 104,
    "start_time": "2021-07-28T15:50:08.983Z"
   },
   {
    "duration": 4,
    "start_time": "2021-07-28T15:50:09.089Z"
   },
   {
    "duration": 12,
    "start_time": "2021-07-28T15:50:09.096Z"
   },
   {
    "duration": 5,
    "start_time": "2021-07-28T15:50:09.111Z"
   },
   {
    "duration": 12,
    "start_time": "2021-07-28T15:50:09.118Z"
   },
   {
    "duration": 12,
    "start_time": "2021-07-28T15:50:09.133Z"
   },
   {
    "duration": 3,
    "start_time": "2021-07-28T15:50:42.858Z"
   },
   {
    "duration": 8,
    "start_time": "2021-07-28T15:50:42.864Z"
   },
   {
    "duration": 4,
    "start_time": "2021-07-28T15:50:42.875Z"
   },
   {
    "duration": 8,
    "start_time": "2021-07-28T15:50:42.882Z"
   },
   {
    "duration": 5,
    "start_time": "2021-07-28T15:50:42.893Z"
   },
   {
    "duration": 252,
    "start_time": "2021-07-28T15:50:42.901Z"
   },
   {
    "duration": 73,
    "start_time": "2021-07-28T15:50:43.155Z"
   },
   {
    "duration": 73,
    "start_time": "2021-07-28T15:50:43.233Z"
   },
   {
    "duration": 107,
    "start_time": "2021-07-28T15:50:43.310Z"
   },
   {
    "duration": 91,
    "start_time": "2021-07-28T15:50:43.420Z"
   },
   {
    "duration": 2,
    "start_time": "2021-07-28T15:50:43.514Z"
   },
   {
    "duration": 7,
    "start_time": "2021-07-28T15:50:43.519Z"
   },
   {
    "duration": 6,
    "start_time": "2021-07-28T15:50:43.529Z"
   },
   {
    "duration": 65,
    "start_time": "2021-07-28T15:50:43.538Z"
   },
   {
    "duration": 3,
    "start_time": "2021-07-28T15:50:43.606Z"
   },
   {
    "duration": 12,
    "start_time": "2021-07-28T15:50:43.611Z"
   },
   {
    "duration": 84,
    "start_time": "2021-07-28T15:50:43.626Z"
   },
   {
    "duration": 3,
    "start_time": "2021-07-28T15:50:43.713Z"
   },
   {
    "duration": 71,
    "start_time": "2021-07-28T15:50:43.719Z"
   },
   {
    "duration": 4,
    "start_time": "2021-07-28T15:50:43.793Z"
   },
   {
    "duration": 4,
    "start_time": "2021-07-28T15:50:43.800Z"
   },
   {
    "duration": 4,
    "start_time": "2021-07-28T15:50:43.807Z"
   },
   {
    "duration": 3,
    "start_time": "2021-07-28T15:50:43.818Z"
   },
   {
    "duration": 4,
    "start_time": "2021-07-28T15:50:43.824Z"
   },
   {
    "duration": 110,
    "start_time": "2021-07-28T15:50:43.831Z"
   },
   {
    "duration": 83,
    "start_time": "2021-07-28T15:50:43.943Z"
   },
   {
    "duration": 4,
    "start_time": "2021-07-28T15:50:44.029Z"
   },
   {
    "duration": 6,
    "start_time": "2021-07-28T15:50:44.036Z"
   },
   {
    "duration": 5,
    "start_time": "2021-07-28T15:50:44.044Z"
   },
   {
    "duration": 4,
    "start_time": "2021-07-28T15:50:44.052Z"
   },
   {
    "duration": 7,
    "start_time": "2021-07-28T15:50:44.059Z"
   },
   {
    "duration": 4,
    "start_time": "2021-07-28T15:52:29.438Z"
   },
   {
    "duration": 8,
    "start_time": "2021-07-28T15:52:29.445Z"
   },
   {
    "duration": 6,
    "start_time": "2021-07-28T15:52:29.456Z"
   },
   {
    "duration": 6,
    "start_time": "2021-07-28T15:52:29.464Z"
   },
   {
    "duration": 4,
    "start_time": "2021-07-28T15:52:29.473Z"
   },
   {
    "duration": 4,
    "start_time": "2021-07-28T15:52:29.480Z"
   },
   {
    "duration": 5,
    "start_time": "2021-07-28T15:52:29.487Z"
   },
   {
    "duration": 6,
    "start_time": "2021-07-28T15:52:29.494Z"
   },
   {
    "duration": 4,
    "start_time": "2021-07-28T15:52:29.503Z"
   },
   {
    "duration": 6,
    "start_time": "2021-07-28T15:52:29.509Z"
   },
   {
    "duration": 7,
    "start_time": "2021-07-28T15:52:29.518Z"
   },
   {
    "duration": 4,
    "start_time": "2021-07-28T15:52:29.527Z"
   },
   {
    "duration": 5,
    "start_time": "2021-07-28T15:52:29.534Z"
   },
   {
    "duration": 213,
    "start_time": "2021-07-28T15:52:29.583Z"
   },
   {
    "duration": 3,
    "start_time": "2021-07-28T15:52:29.799Z"
   },
   {
    "duration": 12,
    "start_time": "2021-07-28T15:52:29.804Z"
   },
   {
    "duration": 100,
    "start_time": "2021-07-28T15:52:29.818Z"
   },
   {
    "duration": 4,
    "start_time": "2021-07-28T15:52:29.921Z"
   },
   {
    "duration": 68,
    "start_time": "2021-07-28T15:52:29.928Z"
   },
   {
    "duration": 3,
    "start_time": "2021-07-28T15:52:29.999Z"
   },
   {
    "duration": 12,
    "start_time": "2021-07-28T15:52:30.004Z"
   },
   {
    "duration": 9,
    "start_time": "2021-07-28T15:52:30.020Z"
   },
   {
    "duration": 9,
    "start_time": "2021-07-28T15:52:30.032Z"
   },
   {
    "duration": 14,
    "start_time": "2021-07-28T15:52:30.043Z"
   },
   {
    "duration": 76,
    "start_time": "2021-07-28T15:52:30.059Z"
   },
   {
    "duration": 3,
    "start_time": "2021-07-28T15:52:30.137Z"
   },
   {
    "duration": 10,
    "start_time": "2021-07-28T15:52:30.142Z"
   },
   {
    "duration": 6,
    "start_time": "2021-07-28T15:52:30.155Z"
   },
   {
    "duration": 8,
    "start_time": "2021-07-28T15:52:30.163Z"
   },
   {
    "duration": 8,
    "start_time": "2021-07-28T15:52:30.173Z"
   },
   {
    "duration": 88,
    "start_time": "2021-07-28T15:52:30.183Z"
   },
   {
    "duration": 3,
    "start_time": "2021-07-28T17:13:31.950Z"
   },
   {
    "duration": 14,
    "start_time": "2021-07-28T17:13:31.956Z"
   },
   {
    "duration": 13,
    "start_time": "2021-07-28T17:13:31.973Z"
   },
   {
    "duration": 9,
    "start_time": "2021-07-28T17:13:31.989Z"
   },
   {
    "duration": 6,
    "start_time": "2021-07-28T17:13:32.001Z"
   },
   {
    "duration": 9,
    "start_time": "2021-07-28T17:13:32.009Z"
   },
   {
    "duration": 11,
    "start_time": "2021-07-28T17:13:32.022Z"
   },
   {
    "duration": 5,
    "start_time": "2021-07-28T17:13:32.037Z"
   },
   {
    "duration": 15,
    "start_time": "2021-07-28T17:13:32.044Z"
   },
   {
    "duration": 21,
    "start_time": "2021-07-28T17:13:32.061Z"
   },
   {
    "duration": 11,
    "start_time": "2021-07-28T17:13:32.085Z"
   },
   {
    "duration": 6,
    "start_time": "2021-07-28T17:13:32.098Z"
   },
   {
    "duration": 7,
    "start_time": "2021-07-28T17:13:32.106Z"
   },
   {
    "duration": 211,
    "start_time": "2021-07-28T17:13:32.117Z"
   },
   {
    "duration": 3,
    "start_time": "2021-07-28T17:13:32.332Z"
   },
   {
    "duration": 6,
    "start_time": "2021-07-28T17:13:32.338Z"
   },
   {
    "duration": 91,
    "start_time": "2021-07-28T17:13:32.347Z"
   },
   {
    "duration": 3,
    "start_time": "2021-07-28T17:13:32.440Z"
   },
   {
    "duration": 72,
    "start_time": "2021-07-28T17:13:32.447Z"
   },
   {
    "duration": 3,
    "start_time": "2021-07-28T17:13:32.522Z"
   },
   {
    "duration": 6,
    "start_time": "2021-07-28T17:13:32.528Z"
   },
   {
    "duration": 5,
    "start_time": "2021-07-28T17:13:32.537Z"
   },
   {
    "duration": 6,
    "start_time": "2021-07-28T17:13:32.545Z"
   },
   {
    "duration": 5,
    "start_time": "2021-07-28T17:13:32.553Z"
   },
   {
    "duration": 71,
    "start_time": "2021-07-28T17:13:32.561Z"
   },
   {
    "duration": 3,
    "start_time": "2021-07-28T17:13:32.635Z"
   },
   {
    "duration": 7,
    "start_time": "2021-07-28T17:13:32.640Z"
   },
   {
    "duration": 5,
    "start_time": "2021-07-28T17:13:32.649Z"
   },
   {
    "duration": 5,
    "start_time": "2021-07-28T17:13:32.656Z"
   },
   {
    "duration": 5,
    "start_time": "2021-07-28T17:13:32.663Z"
   },
   {
    "duration": 82,
    "start_time": "2021-07-28T17:13:32.671Z"
   },
   {
    "duration": 4,
    "start_time": "2021-07-28T18:07:45.604Z"
   },
   {
    "duration": 63,
    "start_time": "2021-07-28T18:08:07.468Z"
   },
   {
    "duration": 4,
    "start_time": "2021-07-28T18:09:03.724Z"
   },
   {
    "duration": 62,
    "start_time": "2021-07-28T18:09:10.581Z"
   },
   {
    "duration": 62,
    "start_time": "2021-07-28T18:09:32.693Z"
   },
   {
    "duration": 91,
    "start_time": "2021-07-28T18:09:38.090Z"
   },
   {
    "duration": 86,
    "start_time": "2021-07-28T18:09:51.506Z"
   },
   {
    "duration": 90,
    "start_time": "2021-07-28T18:09:56.818Z"
   },
   {
    "duration": 63,
    "start_time": "2021-07-28T18:10:10.481Z"
   },
   {
    "duration": 69,
    "start_time": "2021-07-28T18:10:21.773Z"
   },
   {
    "duration": 86,
    "start_time": "2021-07-28T18:10:34.948Z"
   },
   {
    "duration": 95,
    "start_time": "2021-07-28T18:15:43.616Z"
   },
   {
    "duration": 87,
    "start_time": "2021-07-28T18:15:49.225Z"
   },
   {
    "duration": 75,
    "start_time": "2021-07-28T18:16:07.430Z"
   },
   {
    "duration": 74,
    "start_time": "2021-07-28T18:16:12.331Z"
   },
   {
    "duration": 64,
    "start_time": "2021-07-28T18:16:32.132Z"
   },
   {
    "duration": 114,
    "start_time": "2021-07-28T18:16:49.568Z"
   },
   {
    "duration": 105,
    "start_time": "2021-07-28T18:17:04.430Z"
   },
   {
    "duration": 84,
    "start_time": "2021-07-28T18:43:04.055Z"
   },
   {
    "duration": 89,
    "start_time": "2021-07-28T18:44:05.370Z"
   },
   {
    "duration": 89,
    "start_time": "2021-07-28T18:44:10.509Z"
   },
   {
    "duration": 56,
    "start_time": "2021-07-28T18:47:19.091Z"
   },
   {
    "duration": 60,
    "start_time": "2021-07-28T18:48:22.059Z"
   },
   {
    "duration": 61,
    "start_time": "2021-07-28T18:51:35.823Z"
   },
   {
    "duration": 746,
    "start_time": "2021-07-28T19:00:45.529Z"
   },
   {
    "duration": 5,
    "start_time": "2021-07-28T19:00:46.278Z"
   },
   {
    "duration": 5,
    "start_time": "2021-07-28T19:00:46.287Z"
   },
   {
    "duration": 37,
    "start_time": "2021-07-28T19:00:46.296Z"
   },
   {
    "duration": 5,
    "start_time": "2021-07-28T19:00:46.335Z"
   },
   {
    "duration": 272,
    "start_time": "2021-07-28T19:00:46.342Z"
   },
   {
    "duration": 62,
    "start_time": "2021-07-28T19:00:46.617Z"
   },
   {
    "duration": 61,
    "start_time": "2021-07-28T19:00:46.682Z"
   },
   {
    "duration": 92,
    "start_time": "2021-07-28T19:00:46.746Z"
   },
   {
    "duration": 76,
    "start_time": "2021-07-28T19:00:46.840Z"
   },
   {
    "duration": 4,
    "start_time": "2021-07-28T19:00:46.919Z"
   },
   {
    "duration": 7,
    "start_time": "2021-07-28T19:00:46.926Z"
   },
   {
    "duration": 6,
    "start_time": "2021-07-28T19:00:46.935Z"
   },
   {
    "duration": 64,
    "start_time": "2021-07-28T19:00:46.943Z"
   },
   {
    "duration": 3,
    "start_time": "2021-07-28T19:00:47.010Z"
   },
   {
    "duration": 5,
    "start_time": "2021-07-28T19:00:47.015Z"
   },
   {
    "duration": 89,
    "start_time": "2021-07-28T19:00:47.023Z"
   },
   {
    "duration": 2,
    "start_time": "2021-07-28T19:00:47.115Z"
   },
   {
    "duration": 62,
    "start_time": "2021-07-28T19:00:47.120Z"
   },
   {
    "duration": 3,
    "start_time": "2021-07-28T19:00:47.184Z"
   },
   {
    "duration": 9,
    "start_time": "2021-07-28T19:00:47.189Z"
   },
   {
    "duration": 5,
    "start_time": "2021-07-28T19:00:47.201Z"
   },
   {
    "duration": 6,
    "start_time": "2021-07-28T19:00:47.211Z"
   },
   {
    "duration": 7,
    "start_time": "2021-07-28T19:00:47.220Z"
   },
   {
    "duration": 67,
    "start_time": "2021-07-28T19:00:47.230Z"
   },
   {
    "duration": 3,
    "start_time": "2021-07-28T19:00:47.300Z"
   },
   {
    "duration": 8,
    "start_time": "2021-07-28T19:00:47.305Z"
   },
   {
    "duration": 5,
    "start_time": "2021-07-28T19:00:47.316Z"
   },
   {
    "duration": 5,
    "start_time": "2021-07-28T19:00:47.324Z"
   },
   {
    "duration": 6,
    "start_time": "2021-07-28T19:00:47.331Z"
   },
   {
    "duration": 92,
    "start_time": "2021-07-28T19:00:47.339Z"
   },
   {
    "duration": 757,
    "start_time": "2021-07-28T21:01:27.549Z"
   },
   {
    "duration": 4,
    "start_time": "2021-07-28T21:01:28.309Z"
   },
   {
    "duration": 12,
    "start_time": "2021-07-28T21:01:28.316Z"
   },
   {
    "duration": 58,
    "start_time": "2021-07-28T21:01:28.330Z"
   },
   {
    "duration": 4,
    "start_time": "2021-07-28T21:01:28.390Z"
   },
   {
    "duration": 299,
    "start_time": "2021-07-28T21:01:28.397Z"
   },
   {
    "duration": 77,
    "start_time": "2021-07-28T21:01:28.698Z"
   },
   {
    "duration": 76,
    "start_time": "2021-07-28T21:01:28.780Z"
   },
   {
    "duration": 99,
    "start_time": "2021-07-28T21:01:28.859Z"
   },
   {
    "duration": 88,
    "start_time": "2021-07-28T21:01:28.961Z"
   },
   {
    "duration": 3,
    "start_time": "2021-07-28T21:01:29.052Z"
   },
   {
    "duration": 13,
    "start_time": "2021-07-28T21:01:29.057Z"
   },
   {
    "duration": 6,
    "start_time": "2021-07-28T21:01:29.072Z"
   },
   {
    "duration": 74,
    "start_time": "2021-07-28T21:01:29.080Z"
   },
   {
    "duration": 3,
    "start_time": "2021-07-28T21:01:29.157Z"
   },
   {
    "duration": 7,
    "start_time": "2021-07-28T21:01:29.162Z"
   },
   {
    "duration": 97,
    "start_time": "2021-07-28T21:01:29.171Z"
   },
   {
    "duration": 4,
    "start_time": "2021-07-28T21:01:29.271Z"
   },
   {
    "duration": 79,
    "start_time": "2021-07-28T21:01:29.278Z"
   },
   {
    "duration": 3,
    "start_time": "2021-07-28T21:01:29.360Z"
   },
   {
    "duration": 8,
    "start_time": "2021-07-28T21:01:29.366Z"
   },
   {
    "duration": 7,
    "start_time": "2021-07-28T21:01:29.377Z"
   },
   {
    "duration": 12,
    "start_time": "2021-07-28T21:01:29.389Z"
   },
   {
    "duration": 6,
    "start_time": "2021-07-28T21:01:29.405Z"
   },
   {
    "duration": 97,
    "start_time": "2021-07-28T21:01:29.413Z"
   },
   {
    "duration": 3,
    "start_time": "2021-07-28T21:01:29.514Z"
   },
   {
    "duration": 9,
    "start_time": "2021-07-28T21:01:29.521Z"
   },
   {
    "duration": 6,
    "start_time": "2021-07-28T21:01:29.534Z"
   },
   {
    "duration": 6,
    "start_time": "2021-07-28T21:01:29.543Z"
   },
   {
    "duration": 6,
    "start_time": "2021-07-28T21:01:29.552Z"
   },
   {
    "duration": 96,
    "start_time": "2021-07-28T21:01:29.560Z"
   },
   {
    "duration": 1010,
    "start_time": "2021-07-28T21:05:37.891Z"
   },
   {
    "duration": 82,
    "start_time": "2021-07-28T21:05:45.304Z"
   },
   {
    "duration": 170,
    "start_time": "2021-07-28T21:06:24.891Z"
   },
   {
    "duration": 607,
    "start_time": "2021-07-28T21:07:16.040Z"
   },
   {
    "duration": 581,
    "start_time": "2021-07-28T21:07:36.957Z"
   },
   {
    "duration": 79,
    "start_time": "2021-07-28T21:07:48.189Z"
   },
   {
    "duration": 575,
    "start_time": "2021-07-28T21:08:12.296Z"
   },
   {
    "duration": 95,
    "start_time": "2021-07-28T21:08:35.802Z"
   },
   {
    "duration": 581,
    "start_time": "2021-07-28T21:08:46.724Z"
   },
   {
    "duration": 78,
    "start_time": "2021-07-28T21:08:52.135Z"
   },
   {
    "duration": 89,
    "start_time": "2021-07-28T21:10:37.249Z"
   },
   {
    "duration": 88,
    "start_time": "2021-07-28T21:10:41.115Z"
   },
   {
    "duration": 94,
    "start_time": "2021-07-28T21:10:54.001Z"
   },
   {
    "duration": 3278,
    "start_time": "2021-07-28T21:12:22.028Z"
   },
   {
    "duration": 84,
    "start_time": "2021-07-28T21:12:36.038Z"
   },
   {
    "duration": 3664,
    "start_time": "2021-07-28T21:12:41.358Z"
   },
   {
    "duration": 10,
    "start_time": "2021-07-28T21:13:09.158Z"
   },
   {
    "duration": 108,
    "start_time": "2021-07-28T21:13:15.497Z"
   },
   {
    "duration": 8,
    "start_time": "2021-07-28T21:13:15.962Z"
   },
   {
    "duration": 182,
    "start_time": "2021-07-28T21:13:31.601Z"
   },
   {
    "duration": 136,
    "start_time": "2021-07-28T21:13:40.177Z"
   },
   {
    "duration": 18,
    "start_time": "2021-07-28T21:14:35.011Z"
   },
   {
    "duration": 857,
    "start_time": "2021-07-29T05:59:10.066Z"
   },
   {
    "duration": 4,
    "start_time": "2021-07-29T05:59:10.926Z"
   },
   {
    "duration": 5,
    "start_time": "2021-07-29T05:59:10.934Z"
   },
   {
    "duration": 56,
    "start_time": "2021-07-29T05:59:10.943Z"
   },
   {
    "duration": 5,
    "start_time": "2021-07-29T05:59:11.002Z"
   },
   {
    "duration": 244,
    "start_time": "2021-07-29T05:59:11.010Z"
   },
   {
    "duration": 69,
    "start_time": "2021-07-29T05:59:11.256Z"
   },
   {
    "duration": 62,
    "start_time": "2021-07-29T05:59:11.328Z"
   },
   {
    "duration": 95,
    "start_time": "2021-07-29T05:59:11.393Z"
   },
   {
    "duration": 77,
    "start_time": "2021-07-29T05:59:11.491Z"
   },
   {
    "duration": 3,
    "start_time": "2021-07-29T05:59:11.571Z"
   },
   {
    "duration": 8,
    "start_time": "2021-07-29T05:59:11.576Z"
   },
   {
    "duration": 6,
    "start_time": "2021-07-29T05:59:11.587Z"
   },
   {
    "duration": 71,
    "start_time": "2021-07-29T05:59:11.596Z"
   },
   {
    "duration": 3,
    "start_time": "2021-07-29T05:59:11.669Z"
   },
   {
    "duration": 6,
    "start_time": "2021-07-29T05:59:11.675Z"
   },
   {
    "duration": 86,
    "start_time": "2021-07-29T05:59:11.683Z"
   },
   {
    "duration": 3,
    "start_time": "2021-07-29T05:59:11.771Z"
   },
   {
    "duration": 69,
    "start_time": "2021-07-29T05:59:11.776Z"
   },
   {
    "duration": 3,
    "start_time": "2021-07-29T05:59:11.848Z"
   },
   {
    "duration": 6,
    "start_time": "2021-07-29T05:59:11.853Z"
   },
   {
    "duration": 7,
    "start_time": "2021-07-29T05:59:11.861Z"
   },
   {
    "duration": 6,
    "start_time": "2021-07-29T05:59:11.872Z"
   },
   {
    "duration": 6,
    "start_time": "2021-07-29T05:59:11.880Z"
   },
   {
    "duration": 835,
    "start_time": "2021-07-29T05:59:13.666Z"
   },
   {
    "duration": 658,
    "start_time": "2021-07-29T05:59:35.086Z"
   },
   {
    "duration": 712,
    "start_time": "2021-07-29T06:00:13.429Z"
   },
   {
    "duration": 67,
    "start_time": "2021-07-29T06:00:17.658Z"
   },
   {
    "duration": 725,
    "start_time": "2021-07-29T06:03:26.489Z"
   },
   {
    "duration": 67,
    "start_time": "2021-07-29T06:03:34.445Z"
   },
   {
    "duration": 103,
    "start_time": "2021-07-29T06:10:01.190Z"
   },
   {
    "duration": 754,
    "start_time": "2021-07-29T06:11:09.836Z"
   },
   {
    "duration": 706,
    "start_time": "2021-07-29T06:11:28.742Z"
   },
   {
    "duration": 72,
    "start_time": "2021-07-29T06:11:56.189Z"
   },
   {
    "duration": 818,
    "start_time": "2021-07-29T06:13:15.077Z"
   },
   {
    "duration": 72,
    "start_time": "2021-07-29T06:13:23.193Z"
   },
   {
    "duration": 72,
    "start_time": "2021-07-29T06:13:36.487Z"
   },
   {
    "duration": 71,
    "start_time": "2021-07-29T06:14:03.345Z"
   },
   {
    "duration": 77,
    "start_time": "2021-07-29T06:16:55.962Z"
   },
   {
    "duration": 698,
    "start_time": "2021-07-29T06:19:28.374Z"
   },
   {
    "duration": 736,
    "start_time": "2021-07-29T06:19:44.915Z"
   },
   {
    "duration": 67,
    "start_time": "2021-07-29T06:19:58.657Z"
   },
   {
    "duration": 83,
    "start_time": "2021-07-29T06:29:46.164Z"
   },
   {
    "duration": 1098,
    "start_time": "2021-07-29T06:33:11.868Z"
   },
   {
    "duration": 160,
    "start_time": "2021-07-29T06:33:42.042Z"
   },
   {
    "duration": 924,
    "start_time": "2021-07-29T06:35:58.185Z"
   },
   {
    "duration": 969,
    "start_time": "2021-07-29T06:36:07.285Z"
   },
   {
    "duration": 67,
    "start_time": "2021-07-29T06:36:09.388Z"
   },
   {
    "duration": 63,
    "start_time": "2021-07-29T06:36:41.831Z"
   },
   {
    "duration": 108,
    "start_time": "2021-07-29T06:37:32.476Z"
   },
   {
    "duration": 841,
    "start_time": "2021-07-29T06:40:16.076Z"
   },
   {
    "duration": 882,
    "start_time": "2021-07-29T06:40:26.193Z"
   },
   {
    "duration": 955,
    "start_time": "2021-07-29T06:40:34.351Z"
   },
   {
    "duration": 65,
    "start_time": "2021-07-29T06:40:43.943Z"
   },
   {
    "duration": 107,
    "start_time": "2021-07-29T06:42:00.974Z"
   },
   {
    "duration": 65,
    "start_time": "2021-07-29T06:42:33.649Z"
   },
   {
    "duration": 65,
    "start_time": "2021-07-29T06:44:31.508Z"
   },
   {
    "duration": 67,
    "start_time": "2021-07-29T06:44:50.111Z"
   },
   {
    "duration": 734,
    "start_time": "2021-07-29T06:51:48.201Z"
   },
   {
    "duration": 74,
    "start_time": "2021-07-29T06:54:20.692Z"
   },
   {
    "duration": 68,
    "start_time": "2021-07-29T06:56:17.474Z"
   },
   {
    "duration": 69,
    "start_time": "2021-07-29T06:59:00.916Z"
   },
   {
    "duration": 67,
    "start_time": "2021-07-29T06:59:30.692Z"
   },
   {
    "duration": 841,
    "start_time": "2021-07-29T07:01:25.610Z"
   },
   {
    "duration": 4,
    "start_time": "2021-07-29T07:01:26.454Z"
   },
   {
    "duration": 8,
    "start_time": "2021-07-29T07:01:26.461Z"
   },
   {
    "duration": 42,
    "start_time": "2021-07-29T07:01:26.472Z"
   },
   {
    "duration": 3,
    "start_time": "2021-07-29T07:01:26.516Z"
   },
   {
    "duration": 246,
    "start_time": "2021-07-29T07:01:26.522Z"
   },
   {
    "duration": 63,
    "start_time": "2021-07-29T07:01:26.770Z"
   },
   {
    "duration": 62,
    "start_time": "2021-07-29T07:01:26.837Z"
   },
   {
    "duration": 87,
    "start_time": "2021-07-29T07:01:26.902Z"
   },
   {
    "duration": 77,
    "start_time": "2021-07-29T07:01:26.991Z"
   },
   {
    "duration": 5,
    "start_time": "2021-07-29T07:01:27.070Z"
   },
   {
    "duration": 9,
    "start_time": "2021-07-29T07:01:27.077Z"
   },
   {
    "duration": 6,
    "start_time": "2021-07-29T07:01:27.088Z"
   },
   {
    "duration": 63,
    "start_time": "2021-07-29T07:01:27.097Z"
   },
   {
    "duration": 4,
    "start_time": "2021-07-29T07:01:27.163Z"
   },
   {
    "duration": 6,
    "start_time": "2021-07-29T07:01:27.170Z"
   },
   {
    "duration": 84,
    "start_time": "2021-07-29T07:01:27.179Z"
   },
   {
    "duration": 2,
    "start_time": "2021-07-29T07:01:27.266Z"
   },
   {
    "duration": 65,
    "start_time": "2021-07-29T07:01:27.271Z"
   },
   {
    "duration": 3,
    "start_time": "2021-07-29T07:01:27.338Z"
   },
   {
    "duration": 8,
    "start_time": "2021-07-29T07:01:27.343Z"
   },
   {
    "duration": 17,
    "start_time": "2021-07-29T07:01:27.353Z"
   },
   {
    "duration": 4,
    "start_time": "2021-07-29T07:01:27.376Z"
   },
   {
    "duration": 10,
    "start_time": "2021-07-29T07:01:27.383Z"
   },
   {
    "duration": 75,
    "start_time": "2021-07-29T07:01:27.395Z"
   },
   {
    "duration": 3,
    "start_time": "2021-07-29T07:01:27.473Z"
   },
   {
    "duration": 8,
    "start_time": "2021-07-29T07:01:27.477Z"
   },
   {
    "duration": 5,
    "start_time": "2021-07-29T07:01:27.487Z"
   },
   {
    "duration": 7,
    "start_time": "2021-07-29T07:01:27.495Z"
   },
   {
    "duration": 7,
    "start_time": "2021-07-29T07:01:27.504Z"
   },
   {
    "duration": 66,
    "start_time": "2021-07-29T07:01:27.513Z"
   }
  ],
  "kernelspec": {
   "display_name": "Python 3",
   "language": "python",
   "name": "python3"
  },
  "language_info": {
   "codemirror_mode": {
    "name": "ipython",
    "version": 3
   },
   "file_extension": ".py",
   "mimetype": "text/x-python",
   "name": "python",
   "nbconvert_exporter": "python",
   "pygments_lexer": "ipython3",
   "version": "3.8.8"
  },
  "toc": {
   "base_numbering": 1,
   "nav_menu": {},
   "number_sections": true,
   "sideBar": true,
   "skip_h1_title": true,
   "title_cell": "Table of Contents",
   "title_sidebar": "Contents",
   "toc_cell": false,
   "toc_position": {},
   "toc_section_display": true,
   "toc_window_display": false
  }
 },
 "nbformat": 4,
 "nbformat_minor": 2
}
